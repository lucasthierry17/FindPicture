{
 "cells": [
  {
   "cell_type": "markdown",
   "metadata": {},
   "source": [
    "## How can images be displayed in a 2D way?\n",
    "Images can be displayed in a 2D way by reducing their high-dimensional representations (embeddings) to two dimensions \n",
    "using a dimensionality reduction technique. \n",
    "\n",
    "- Embedding Extraction: Extract feature vectors (embeddings) from images using models like convolutional neural networks (CNNs).\n",
    "- Dimensionality Reduction: Apply a dimensionality reduction algorithm, such as t-SNE (t-distributed Stochastic Neighbor Embedding), \n",
    "to map high-dimensional embeddings to a 2D space.\n",
    "\n",
    "## How does the code work?\n",
    "The code is based on the embedding_resnet.ipynb, in which the pickle files of the image_paths and the embeddigns are being created. \n",
    "This code goes through several steps: \n",
    "1. Load the files needed (image_paths and embeddigns)\n",
    "2. Extract the parent folder name of each image (function: extract_category_from_path)\n",
    "3. Store the category name in a list\n",
    "4. Perform the TSNE dimensionality reduction on the embeddings (see further down for the explanation)\n",
    "5. Store the data for the visualisation in a dataframe\n",
    "6. Plot the results (with the plotly library, so one can hover over it)\n"
   ]
  },
  {
   "cell_type": "code",
   "execution_count": 2,
   "metadata": {},
   "outputs": [],
   "source": [
    "import pickle\n",
    "import os\n",
    "import numpy as np\n",
    "from collections import defaultdict\n",
    "from sklearn.manifold import TSNE\n",
    "import plotly.express as px\n",
    "import plotly.graph_objects as go\n",
    "import pandas as pd\n"
   ]
  },
  {
   "cell_type": "markdown",
   "metadata": {},
   "source": [
    "## How does the TSNE dimensionality reduction work?\n",
    "1. Pairwise Similarities: Calculating the pairwise similarities between all points in the high-dimensional space.\n",
    "2. Probability Distributions: Converting these similarities into probability distributions. Similar points have higher probabilities of being neighbors.\n",
    "3. Minimizing Kullback-Leibler Divergence: Mapping these probabilities to a lower-dimensional space (usually 2D) by minimizing \\\n",
    "the Kullback-Leibler divergence between the probability distributions of the high-dimensional space and the \\\n",
    "lower-dimensional space. This ensures that similar points in high dimensions are close in the lower dimensions.\n",
    "\n",
    "For further explanations you can watch this video: https://www.youtube.com/watch?v=NEaUSP4YerM"
   ]
  },
  {
   "cell_type": "code",
   "execution_count": 4,
   "metadata": {},
   "outputs": [
    {
     "name": "stdout",
     "output_type": "stream",
     "text": [
      "This is the length of the categories list: 901\n"
     ]
    },
    {
     "name": "stderr",
     "output_type": "stream",
     "text": [
      "c:\\Users\\lucas\\anaconda3\\envs\\big_data\\lib\\site-packages\\joblib\\externals\\loky\\backend\\context.py:136: UserWarning: Could not find the number of physical cores for the following reason:\n",
      "found 0 physical cores < 1\n",
      "Returning the number of logical cores instead. You can silence this warning by setting LOKY_MAX_CPU_COUNT to the number of cores you want to use.\n",
      "  warnings.warn(\n",
      "  File \"c:\\Users\\lucas\\anaconda3\\envs\\big_data\\lib\\site-packages\\joblib\\externals\\loky\\backend\\context.py\", line 282, in _count_physical_cores\n",
      "    raise ValueError(f\"found {cpu_count_physical} physical cores < 1\")\n"
     ]
    },
    {
     "name": "stdout",
     "output_type": "stream",
     "text": [
      "This is the shape of the embeddings in 2D: (901, 2)\n"
     ]
    }
   ],
   "source": [
    "# Load embeddings and image paths\n",
    "embeddings_path = 'embeddings.pkl'\n",
    "image_paths_path = 'image_paths.pkl'\n",
    "\n",
    "if not os.path.exists(embeddings_path) or not os.path.exists(image_paths_path):\n",
    "    print(\"No file found with the specified name, maybe create the pickle files first?\")\n",
    "else:\n",
    "    with open(embeddings_path, 'rb') as f:\n",
    "        embeddings = pickle.load(f)\n",
    "    with open(image_paths_path, 'rb') as f:\n",
    "        image_paths = pickle.load(f)\n",
    "    \n",
    "\n",
    "# Extract parent folder names from image paths\n",
    "def extract_category_from_path(path):\n",
    "    # Assuming the category is the name of the immediate parent directory\n",
    "    return os.path.basename(os.path.dirname(path))\n",
    "\n",
    "categories = [extract_category_from_path(path) for path in image_paths]\n",
    "print(f\"This is the length of the categories list: {len(categories)}\") # should be the number of images you want to plot\n",
    "\n",
    "# Perform t-SNE dimensionality reduction\n",
    "tsne = TSNE(n_components=2, random_state=42)\n",
    "embeddings_2d = tsne.fit_transform(embeddings)\n",
    "print(f\"This is the shape of the embeddings in 2D: {embeddings_2d.shape}\")\n",
    "\n",
    "# Prepare data for plotting\n",
    "plot_data = {\n",
    "    'x': embeddings_2d[:, 0],\n",
    "    'y': embeddings_2d[:, 1],\n",
    "    'path': image_paths,\n",
    "    'category': categories\n",
    "}"
   ]
  },
  {
   "cell_type": "code",
   "execution_count": 5,
   "metadata": {},
   "outputs": [
    {
     "name": "stdout",
     "output_type": "stream",
     "text": [
      "           x          y                                               path  \\\n",
      "0 -33.844185  -3.260251  C:\\Users\\lucas\\OneDrive - Hochschule Düsseldor...   \n",
      "1   3.810416  19.244236  C:\\Users\\lucas\\OneDrive - Hochschule Düsseldor...   \n",
      "2  11.821908  -3.956619  C:\\Users\\lucas\\OneDrive - Hochschule Düsseldor...   \n",
      "3   8.074239  14.090395  C:\\Users\\lucas\\OneDrive - Hochschule Düsseldor...   \n",
      "4 -10.571741  -0.970792  C:\\Users\\lucas\\OneDrive - Hochschule Düsseldor...   \n",
      "\n",
      "         category  \n",
      "0  DIV2K_train_HR  \n",
      "1  DIV2K_train_HR  \n",
      "2  DIV2K_train_HR  \n",
      "3  DIV2K_train_HR  \n",
      "4  DIV2K_train_HR  \n"
     ]
    }
   ],
   "source": [
    "# Create a DataFrame for the visualisation\n",
    "df = pd.DataFrame(plot_data)\n",
    "print(df.head(5))\n",
    "\n"
   ]
  },
  {
   "cell_type": "markdown",
   "metadata": {},
   "source": [
    "## Why do similar images have close images?\n",
    "- Preservation of Local structure: TSNE aims to preserve the local structure of the high-dimensional data in the 2D map. This means that imageas that are close \\\n",
    "in the high-dimensional space are also close in the 2D representation\n",
    "- High Probability of being neighbors: TSNE assigns higher probabilites to pairs of points that are similar and places them closer together in the 2D space."
   ]
  },
  {
   "cell_type": "code",
   "execution_count": 6,
   "metadata": {},
   "outputs": [
    {
     "data": {
      "application/vnd.plotly.v1+json": {
       "config": {
        "plotlyServerURL": "https://plot.ly"
       },
       "data": [
        {
         "customdata": [
          [
           "C:\\Users\\lucas\\OneDrive - Hochschule Düsseldorf\\Uni_Drive\\DIV2k\\DIV2K_train_HR\\DIV2K_train_HR\\0001.png"
          ],
          [
           "C:\\Users\\lucas\\OneDrive - Hochschule Düsseldorf\\Uni_Drive\\DIV2k\\DIV2K_train_HR\\DIV2K_train_HR\\0002.png"
          ],
          [
           "C:\\Users\\lucas\\OneDrive - Hochschule Düsseldorf\\Uni_Drive\\DIV2k\\DIV2K_train_HR\\DIV2K_train_HR\\0003.png"
          ],
          [
           "C:\\Users\\lucas\\OneDrive - Hochschule Düsseldorf\\Uni_Drive\\DIV2k\\DIV2K_train_HR\\DIV2K_train_HR\\0004.png"
          ],
          [
           "C:\\Users\\lucas\\OneDrive - Hochschule Düsseldorf\\Uni_Drive\\DIV2k\\DIV2K_train_HR\\DIV2K_train_HR\\0005.png"
          ],
          [
           "C:\\Users\\lucas\\OneDrive - Hochschule Düsseldorf\\Uni_Drive\\DIV2k\\DIV2K_train_HR\\DIV2K_train_HR\\0006.png"
          ],
          [
           "C:\\Users\\lucas\\OneDrive - Hochschule Düsseldorf\\Uni_Drive\\DIV2k\\DIV2K_train_HR\\DIV2K_train_HR\\0007.png"
          ],
          [
           "C:\\Users\\lucas\\OneDrive - Hochschule Düsseldorf\\Uni_Drive\\DIV2k\\DIV2K_train_HR\\DIV2K_train_HR\\0008.png"
          ],
          [
           "C:\\Users\\lucas\\OneDrive - Hochschule Düsseldorf\\Uni_Drive\\DIV2k\\DIV2K_train_HR\\DIV2K_train_HR\\0009.png"
          ],
          [
           "C:\\Users\\lucas\\OneDrive - Hochschule Düsseldorf\\Uni_Drive\\DIV2k\\DIV2K_train_HR\\DIV2K_train_HR\\0010.png"
          ],
          [
           "C:\\Users\\lucas\\OneDrive - Hochschule Düsseldorf\\Uni_Drive\\DIV2k\\DIV2K_train_HR\\DIV2K_train_HR\\0011.png"
          ],
          [
           "C:\\Users\\lucas\\OneDrive - Hochschule Düsseldorf\\Uni_Drive\\DIV2k\\DIV2K_train_HR\\DIV2K_train_HR\\0012.png"
          ],
          [
           "C:\\Users\\lucas\\OneDrive - Hochschule Düsseldorf\\Uni_Drive\\DIV2k\\DIV2K_train_HR\\DIV2K_train_HR\\0013.png"
          ],
          [
           "C:\\Users\\lucas\\OneDrive - Hochschule Düsseldorf\\Uni_Drive\\DIV2k\\DIV2K_train_HR\\DIV2K_train_HR\\0014.png"
          ],
          [
           "C:\\Users\\lucas\\OneDrive - Hochschule Düsseldorf\\Uni_Drive\\DIV2k\\DIV2K_train_HR\\DIV2K_train_HR\\0015.png"
          ],
          [
           "C:\\Users\\lucas\\OneDrive - Hochschule Düsseldorf\\Uni_Drive\\DIV2k\\DIV2K_train_HR\\DIV2K_train_HR\\0016.png"
          ],
          [
           "C:\\Users\\lucas\\OneDrive - Hochschule Düsseldorf\\Uni_Drive\\DIV2k\\DIV2K_train_HR\\DIV2K_train_HR\\0017.png"
          ],
          [
           "C:\\Users\\lucas\\OneDrive - Hochschule Düsseldorf\\Uni_Drive\\DIV2k\\DIV2K_train_HR\\DIV2K_train_HR\\0018.png"
          ],
          [
           "C:\\Users\\lucas\\OneDrive - Hochschule Düsseldorf\\Uni_Drive\\DIV2k\\DIV2K_train_HR\\DIV2K_train_HR\\0019.png"
          ],
          [
           "C:\\Users\\lucas\\OneDrive - Hochschule Düsseldorf\\Uni_Drive\\DIV2k\\DIV2K_train_HR\\DIV2K_train_HR\\0020.png"
          ],
          [
           "C:\\Users\\lucas\\OneDrive - Hochschule Düsseldorf\\Uni_Drive\\DIV2k\\DIV2K_train_HR\\DIV2K_train_HR\\0021.png"
          ],
          [
           "C:\\Users\\lucas\\OneDrive - Hochschule Düsseldorf\\Uni_Drive\\DIV2k\\DIV2K_train_HR\\DIV2K_train_HR\\0022.png"
          ],
          [
           "C:\\Users\\lucas\\OneDrive - Hochschule Düsseldorf\\Uni_Drive\\DIV2k\\DIV2K_train_HR\\DIV2K_train_HR\\0023.png"
          ],
          [
           "C:\\Users\\lucas\\OneDrive - Hochschule Düsseldorf\\Uni_Drive\\DIV2k\\DIV2K_train_HR\\DIV2K_train_HR\\0024.png"
          ],
          [
           "C:\\Users\\lucas\\OneDrive - Hochschule Düsseldorf\\Uni_Drive\\DIV2k\\DIV2K_train_HR\\DIV2K_train_HR\\0025.png"
          ],
          [
           "C:\\Users\\lucas\\OneDrive - Hochschule Düsseldorf\\Uni_Drive\\DIV2k\\DIV2K_train_HR\\DIV2K_train_HR\\0026.png"
          ],
          [
           "C:\\Users\\lucas\\OneDrive - Hochschule Düsseldorf\\Uni_Drive\\DIV2k\\DIV2K_train_HR\\DIV2K_train_HR\\0027.png"
          ],
          [
           "C:\\Users\\lucas\\OneDrive - Hochschule Düsseldorf\\Uni_Drive\\DIV2k\\DIV2K_train_HR\\DIV2K_train_HR\\0028.png"
          ],
          [
           "C:\\Users\\lucas\\OneDrive - Hochschule Düsseldorf\\Uni_Drive\\DIV2k\\DIV2K_train_HR\\DIV2K_train_HR\\0029.png"
          ],
          [
           "C:\\Users\\lucas\\OneDrive - Hochschule Düsseldorf\\Uni_Drive\\DIV2k\\DIV2K_train_HR\\DIV2K_train_HR\\0030.png"
          ],
          [
           "C:\\Users\\lucas\\OneDrive - Hochschule Düsseldorf\\Uni_Drive\\DIV2k\\DIV2K_train_HR\\DIV2K_train_HR\\0031.png"
          ],
          [
           "C:\\Users\\lucas\\OneDrive - Hochschule Düsseldorf\\Uni_Drive\\DIV2k\\DIV2K_train_HR\\DIV2K_train_HR\\0032.png"
          ],
          [
           "C:\\Users\\lucas\\OneDrive - Hochschule Düsseldorf\\Uni_Drive\\DIV2k\\DIV2K_train_HR\\DIV2K_train_HR\\0033.png"
          ],
          [
           "C:\\Users\\lucas\\OneDrive - Hochschule Düsseldorf\\Uni_Drive\\DIV2k\\DIV2K_train_HR\\DIV2K_train_HR\\0034.png"
          ],
          [
           "C:\\Users\\lucas\\OneDrive - Hochschule Düsseldorf\\Uni_Drive\\DIV2k\\DIV2K_train_HR\\DIV2K_train_HR\\0035.png"
          ],
          [
           "C:\\Users\\lucas\\OneDrive - Hochschule Düsseldorf\\Uni_Drive\\DIV2k\\DIV2K_train_HR\\DIV2K_train_HR\\0036.png"
          ],
          [
           "C:\\Users\\lucas\\OneDrive - Hochschule Düsseldorf\\Uni_Drive\\DIV2k\\DIV2K_train_HR\\DIV2K_train_HR\\0037.png"
          ],
          [
           "C:\\Users\\lucas\\OneDrive - Hochschule Düsseldorf\\Uni_Drive\\DIV2k\\DIV2K_train_HR\\DIV2K_train_HR\\0038.png"
          ],
          [
           "C:\\Users\\lucas\\OneDrive - Hochschule Düsseldorf\\Uni_Drive\\DIV2k\\DIV2K_train_HR\\DIV2K_train_HR\\0039.png"
          ],
          [
           "C:\\Users\\lucas\\OneDrive - Hochschule Düsseldorf\\Uni_Drive\\DIV2k\\DIV2K_train_HR\\DIV2K_train_HR\\0040.png"
          ],
          [
           "C:\\Users\\lucas\\OneDrive - Hochschule Düsseldorf\\Uni_Drive\\DIV2k\\DIV2K_train_HR\\DIV2K_train_HR\\0041.png"
          ],
          [
           "C:\\Users\\lucas\\OneDrive - Hochschule Düsseldorf\\Uni_Drive\\DIV2k\\DIV2K_train_HR\\DIV2K_train_HR\\0042.png"
          ],
          [
           "C:\\Users\\lucas\\OneDrive - Hochschule Düsseldorf\\Uni_Drive\\DIV2k\\DIV2K_train_HR\\DIV2K_train_HR\\0043.png"
          ],
          [
           "C:\\Users\\lucas\\OneDrive - Hochschule Düsseldorf\\Uni_Drive\\DIV2k\\DIV2K_train_HR\\DIV2K_train_HR\\0044.png"
          ],
          [
           "C:\\Users\\lucas\\OneDrive - Hochschule Düsseldorf\\Uni_Drive\\DIV2k\\DIV2K_train_HR\\DIV2K_train_HR\\0045.png"
          ],
          [
           "C:\\Users\\lucas\\OneDrive - Hochschule Düsseldorf\\Uni_Drive\\DIV2k\\DIV2K_train_HR\\DIV2K_train_HR\\0046.png"
          ],
          [
           "C:\\Users\\lucas\\OneDrive - Hochschule Düsseldorf\\Uni_Drive\\DIV2k\\DIV2K_train_HR\\DIV2K_train_HR\\0047.png"
          ],
          [
           "C:\\Users\\lucas\\OneDrive - Hochschule Düsseldorf\\Uni_Drive\\DIV2k\\DIV2K_train_HR\\DIV2K_train_HR\\0048.png"
          ],
          [
           "C:\\Users\\lucas\\OneDrive - Hochschule Düsseldorf\\Uni_Drive\\DIV2k\\DIV2K_train_HR\\DIV2K_train_HR\\0049.png"
          ],
          [
           "C:\\Users\\lucas\\OneDrive - Hochschule Düsseldorf\\Uni_Drive\\DIV2k\\DIV2K_train_HR\\DIV2K_train_HR\\0050.png"
          ],
          [
           "C:\\Users\\lucas\\OneDrive - Hochschule Düsseldorf\\Uni_Drive\\DIV2k\\DIV2K_train_HR\\DIV2K_train_HR\\0051.png"
          ],
          [
           "C:\\Users\\lucas\\OneDrive - Hochschule Düsseldorf\\Uni_Drive\\DIV2k\\DIV2K_train_HR\\DIV2K_train_HR\\0052.png"
          ],
          [
           "C:\\Users\\lucas\\OneDrive - Hochschule Düsseldorf\\Uni_Drive\\DIV2k\\DIV2K_train_HR\\DIV2K_train_HR\\0053.png"
          ],
          [
           "C:\\Users\\lucas\\OneDrive - Hochschule Düsseldorf\\Uni_Drive\\DIV2k\\DIV2K_train_HR\\DIV2K_train_HR\\0054.png"
          ],
          [
           "C:\\Users\\lucas\\OneDrive - Hochschule Düsseldorf\\Uni_Drive\\DIV2k\\DIV2K_train_HR\\DIV2K_train_HR\\0055.png"
          ],
          [
           "C:\\Users\\lucas\\OneDrive - Hochschule Düsseldorf\\Uni_Drive\\DIV2k\\DIV2K_train_HR\\DIV2K_train_HR\\0056.png"
          ],
          [
           "C:\\Users\\lucas\\OneDrive - Hochschule Düsseldorf\\Uni_Drive\\DIV2k\\DIV2K_train_HR\\DIV2K_train_HR\\0057.png"
          ],
          [
           "C:\\Users\\lucas\\OneDrive - Hochschule Düsseldorf\\Uni_Drive\\DIV2k\\DIV2K_train_HR\\DIV2K_train_HR\\0058.png"
          ],
          [
           "C:\\Users\\lucas\\OneDrive - Hochschule Düsseldorf\\Uni_Drive\\DIV2k\\DIV2K_train_HR\\DIV2K_train_HR\\0059.png"
          ],
          [
           "C:\\Users\\lucas\\OneDrive - Hochschule Düsseldorf\\Uni_Drive\\DIV2k\\DIV2K_train_HR\\DIV2K_train_HR\\0060.png"
          ],
          [
           "C:\\Users\\lucas\\OneDrive - Hochschule Düsseldorf\\Uni_Drive\\DIV2k\\DIV2K_train_HR\\DIV2K_train_HR\\0061.png"
          ],
          [
           "C:\\Users\\lucas\\OneDrive - Hochschule Düsseldorf\\Uni_Drive\\DIV2k\\DIV2K_train_HR\\DIV2K_train_HR\\0062.png"
          ],
          [
           "C:\\Users\\lucas\\OneDrive - Hochschule Düsseldorf\\Uni_Drive\\DIV2k\\DIV2K_train_HR\\DIV2K_train_HR\\0063.png"
          ],
          [
           "C:\\Users\\lucas\\OneDrive - Hochschule Düsseldorf\\Uni_Drive\\DIV2k\\DIV2K_train_HR\\DIV2K_train_HR\\0064.png"
          ],
          [
           "C:\\Users\\lucas\\OneDrive - Hochschule Düsseldorf\\Uni_Drive\\DIV2k\\DIV2K_train_HR\\DIV2K_train_HR\\0065.png"
          ],
          [
           "C:\\Users\\lucas\\OneDrive - Hochschule Düsseldorf\\Uni_Drive\\DIV2k\\DIV2K_train_HR\\DIV2K_train_HR\\0066.png"
          ],
          [
           "C:\\Users\\lucas\\OneDrive - Hochschule Düsseldorf\\Uni_Drive\\DIV2k\\DIV2K_train_HR\\DIV2K_train_HR\\0067.png"
          ],
          [
           "C:\\Users\\lucas\\OneDrive - Hochschule Düsseldorf\\Uni_Drive\\DIV2k\\DIV2K_train_HR\\DIV2K_train_HR\\0068.png"
          ],
          [
           "C:\\Users\\lucas\\OneDrive - Hochschule Düsseldorf\\Uni_Drive\\DIV2k\\DIV2K_train_HR\\DIV2K_train_HR\\0069.png"
          ],
          [
           "C:\\Users\\lucas\\OneDrive - Hochschule Düsseldorf\\Uni_Drive\\DIV2k\\DIV2K_train_HR\\DIV2K_train_HR\\0070.png"
          ],
          [
           "C:\\Users\\lucas\\OneDrive - Hochschule Düsseldorf\\Uni_Drive\\DIV2k\\DIV2K_train_HR\\DIV2K_train_HR\\0071.png"
          ],
          [
           "C:\\Users\\lucas\\OneDrive - Hochschule Düsseldorf\\Uni_Drive\\DIV2k\\DIV2K_train_HR\\DIV2K_train_HR\\0072.png"
          ],
          [
           "C:\\Users\\lucas\\OneDrive - Hochschule Düsseldorf\\Uni_Drive\\DIV2k\\DIV2K_train_HR\\DIV2K_train_HR\\0073.png"
          ],
          [
           "C:\\Users\\lucas\\OneDrive - Hochschule Düsseldorf\\Uni_Drive\\DIV2k\\DIV2K_train_HR\\DIV2K_train_HR\\0074.png"
          ],
          [
           "C:\\Users\\lucas\\OneDrive - Hochschule Düsseldorf\\Uni_Drive\\DIV2k\\DIV2K_train_HR\\DIV2K_train_HR\\0075.png"
          ],
          [
           "C:\\Users\\lucas\\OneDrive - Hochschule Düsseldorf\\Uni_Drive\\DIV2k\\DIV2K_train_HR\\DIV2K_train_HR\\0076.png"
          ],
          [
           "C:\\Users\\lucas\\OneDrive - Hochschule Düsseldorf\\Uni_Drive\\DIV2k\\DIV2K_train_HR\\DIV2K_train_HR\\0077.png"
          ],
          [
           "C:\\Users\\lucas\\OneDrive - Hochschule Düsseldorf\\Uni_Drive\\DIV2k\\DIV2K_train_HR\\DIV2K_train_HR\\0078.png"
          ],
          [
           "C:\\Users\\lucas\\OneDrive - Hochschule Düsseldorf\\Uni_Drive\\DIV2k\\DIV2K_train_HR\\DIV2K_train_HR\\0079.png"
          ],
          [
           "C:\\Users\\lucas\\OneDrive - Hochschule Düsseldorf\\Uni_Drive\\DIV2k\\DIV2K_train_HR\\DIV2K_train_HR\\0080.png"
          ],
          [
           "C:\\Users\\lucas\\OneDrive - Hochschule Düsseldorf\\Uni_Drive\\DIV2k\\DIV2K_train_HR\\DIV2K_train_HR\\0081.png"
          ],
          [
           "C:\\Users\\lucas\\OneDrive - Hochschule Düsseldorf\\Uni_Drive\\DIV2k\\DIV2K_train_HR\\DIV2K_train_HR\\0082.png"
          ],
          [
           "C:\\Users\\lucas\\OneDrive - Hochschule Düsseldorf\\Uni_Drive\\DIV2k\\DIV2K_train_HR\\DIV2K_train_HR\\0083.png"
          ],
          [
           "C:\\Users\\lucas\\OneDrive - Hochschule Düsseldorf\\Uni_Drive\\DIV2k\\DIV2K_train_HR\\DIV2K_train_HR\\0084.png"
          ],
          [
           "C:\\Users\\lucas\\OneDrive - Hochschule Düsseldorf\\Uni_Drive\\DIV2k\\DIV2K_train_HR\\DIV2K_train_HR\\0085.png"
          ],
          [
           "C:\\Users\\lucas\\OneDrive - Hochschule Düsseldorf\\Uni_Drive\\DIV2k\\DIV2K_train_HR\\DIV2K_train_HR\\0086.png"
          ],
          [
           "C:\\Users\\lucas\\OneDrive - Hochschule Düsseldorf\\Uni_Drive\\DIV2k\\DIV2K_train_HR\\DIV2K_train_HR\\0087.png"
          ],
          [
           "C:\\Users\\lucas\\OneDrive - Hochschule Düsseldorf\\Uni_Drive\\DIV2k\\DIV2K_train_HR\\DIV2K_train_HR\\0088.png"
          ],
          [
           "C:\\Users\\lucas\\OneDrive - Hochschule Düsseldorf\\Uni_Drive\\DIV2k\\DIV2K_train_HR\\DIV2K_train_HR\\0089.png"
          ],
          [
           "C:\\Users\\lucas\\OneDrive - Hochschule Düsseldorf\\Uni_Drive\\DIV2k\\DIV2K_train_HR\\DIV2K_train_HR\\0090.png"
          ],
          [
           "C:\\Users\\lucas\\OneDrive - Hochschule Düsseldorf\\Uni_Drive\\DIV2k\\DIV2K_train_HR\\DIV2K_train_HR\\0091.png"
          ],
          [
           "C:\\Users\\lucas\\OneDrive - Hochschule Düsseldorf\\Uni_Drive\\DIV2k\\DIV2K_train_HR\\DIV2K_train_HR\\0092.png"
          ],
          [
           "C:\\Users\\lucas\\OneDrive - Hochschule Düsseldorf\\Uni_Drive\\DIV2k\\DIV2K_train_HR\\DIV2K_train_HR\\0093.png"
          ],
          [
           "C:\\Users\\lucas\\OneDrive - Hochschule Düsseldorf\\Uni_Drive\\DIV2k\\DIV2K_train_HR\\DIV2K_train_HR\\0094.png"
          ],
          [
           "C:\\Users\\lucas\\OneDrive - Hochschule Düsseldorf\\Uni_Drive\\DIV2k\\DIV2K_train_HR\\DIV2K_train_HR\\0095.png"
          ],
          [
           "C:\\Users\\lucas\\OneDrive - Hochschule Düsseldorf\\Uni_Drive\\DIV2k\\DIV2K_train_HR\\DIV2K_train_HR\\0096.png"
          ],
          [
           "C:\\Users\\lucas\\OneDrive - Hochschule Düsseldorf\\Uni_Drive\\DIV2k\\DIV2K_train_HR\\DIV2K_train_HR\\0097.png"
          ],
          [
           "C:\\Users\\lucas\\OneDrive - Hochschule Düsseldorf\\Uni_Drive\\DIV2k\\DIV2K_train_HR\\DIV2K_train_HR\\0098.png"
          ],
          [
           "C:\\Users\\lucas\\OneDrive - Hochschule Düsseldorf\\Uni_Drive\\DIV2k\\DIV2K_train_HR\\DIV2K_train_HR\\0099.png"
          ],
          [
           "C:\\Users\\lucas\\OneDrive - Hochschule Düsseldorf\\Uni_Drive\\DIV2k\\DIV2K_train_HR\\DIV2K_train_HR\\0100.png"
          ],
          [
           "C:\\Users\\lucas\\OneDrive - Hochschule Düsseldorf\\Uni_Drive\\DIV2k\\DIV2K_train_HR\\DIV2K_train_HR\\0101.png"
          ],
          [
           "C:\\Users\\lucas\\OneDrive - Hochschule Düsseldorf\\Uni_Drive\\DIV2k\\DIV2K_train_HR\\DIV2K_train_HR\\0102.png"
          ],
          [
           "C:\\Users\\lucas\\OneDrive - Hochschule Düsseldorf\\Uni_Drive\\DIV2k\\DIV2K_train_HR\\DIV2K_train_HR\\0103.png"
          ],
          [
           "C:\\Users\\lucas\\OneDrive - Hochschule Düsseldorf\\Uni_Drive\\DIV2k\\DIV2K_train_HR\\DIV2K_train_HR\\0104.png"
          ],
          [
           "C:\\Users\\lucas\\OneDrive - Hochschule Düsseldorf\\Uni_Drive\\DIV2k\\DIV2K_train_HR\\DIV2K_train_HR\\0105.png"
          ],
          [
           "C:\\Users\\lucas\\OneDrive - Hochschule Düsseldorf\\Uni_Drive\\DIV2k\\DIV2K_train_HR\\DIV2K_train_HR\\0106.png"
          ],
          [
           "C:\\Users\\lucas\\OneDrive - Hochschule Düsseldorf\\Uni_Drive\\DIV2k\\DIV2K_train_HR\\DIV2K_train_HR\\0107.png"
          ],
          [
           "C:\\Users\\lucas\\OneDrive - Hochschule Düsseldorf\\Uni_Drive\\DIV2k\\DIV2K_train_HR\\DIV2K_train_HR\\0108.png"
          ],
          [
           "C:\\Users\\lucas\\OneDrive - Hochschule Düsseldorf\\Uni_Drive\\DIV2k\\DIV2K_train_HR\\DIV2K_train_HR\\0109.png"
          ],
          [
           "C:\\Users\\lucas\\OneDrive - Hochschule Düsseldorf\\Uni_Drive\\DIV2k\\DIV2K_train_HR\\DIV2K_train_HR\\0110.png"
          ],
          [
           "C:\\Users\\lucas\\OneDrive - Hochschule Düsseldorf\\Uni_Drive\\DIV2k\\DIV2K_train_HR\\DIV2K_train_HR\\0111.png"
          ],
          [
           "C:\\Users\\lucas\\OneDrive - Hochschule Düsseldorf\\Uni_Drive\\DIV2k\\DIV2K_train_HR\\DIV2K_train_HR\\0112.png"
          ],
          [
           "C:\\Users\\lucas\\OneDrive - Hochschule Düsseldorf\\Uni_Drive\\DIV2k\\DIV2K_train_HR\\DIV2K_train_HR\\0113.png"
          ],
          [
           "C:\\Users\\lucas\\OneDrive - Hochschule Düsseldorf\\Uni_Drive\\DIV2k\\DIV2K_train_HR\\DIV2K_train_HR\\0114.png"
          ],
          [
           "C:\\Users\\lucas\\OneDrive - Hochschule Düsseldorf\\Uni_Drive\\DIV2k\\DIV2K_train_HR\\DIV2K_train_HR\\0115.png"
          ],
          [
           "C:\\Users\\lucas\\OneDrive - Hochschule Düsseldorf\\Uni_Drive\\DIV2k\\DIV2K_train_HR\\DIV2K_train_HR\\0116.png"
          ],
          [
           "C:\\Users\\lucas\\OneDrive - Hochschule Düsseldorf\\Uni_Drive\\DIV2k\\DIV2K_train_HR\\DIV2K_train_HR\\0117.png"
          ],
          [
           "C:\\Users\\lucas\\OneDrive - Hochschule Düsseldorf\\Uni_Drive\\DIV2k\\DIV2K_train_HR\\DIV2K_train_HR\\0118.png"
          ],
          [
           "C:\\Users\\lucas\\OneDrive - Hochschule Düsseldorf\\Uni_Drive\\DIV2k\\DIV2K_train_HR\\DIV2K_train_HR\\0119.png"
          ],
          [
           "C:\\Users\\lucas\\OneDrive - Hochschule Düsseldorf\\Uni_Drive\\DIV2k\\DIV2K_train_HR\\DIV2K_train_HR\\0120.png"
          ],
          [
           "C:\\Users\\lucas\\OneDrive - Hochschule Düsseldorf\\Uni_Drive\\DIV2k\\DIV2K_train_HR\\DIV2K_train_HR\\0121.png"
          ],
          [
           "C:\\Users\\lucas\\OneDrive - Hochschule Düsseldorf\\Uni_Drive\\DIV2k\\DIV2K_train_HR\\DIV2K_train_HR\\0122.png"
          ],
          [
           "C:\\Users\\lucas\\OneDrive - Hochschule Düsseldorf\\Uni_Drive\\DIV2k\\DIV2K_train_HR\\DIV2K_train_HR\\0123.png"
          ],
          [
           "C:\\Users\\lucas\\OneDrive - Hochschule Düsseldorf\\Uni_Drive\\DIV2k\\DIV2K_train_HR\\DIV2K_train_HR\\0124.png"
          ],
          [
           "C:\\Users\\lucas\\OneDrive - Hochschule Düsseldorf\\Uni_Drive\\DIV2k\\DIV2K_train_HR\\DIV2K_train_HR\\0125.png"
          ],
          [
           "C:\\Users\\lucas\\OneDrive - Hochschule Düsseldorf\\Uni_Drive\\DIV2k\\DIV2K_train_HR\\DIV2K_train_HR\\0126.png"
          ],
          [
           "C:\\Users\\lucas\\OneDrive - Hochschule Düsseldorf\\Uni_Drive\\DIV2k\\DIV2K_train_HR\\DIV2K_train_HR\\0127.png"
          ],
          [
           "C:\\Users\\lucas\\OneDrive - Hochschule Düsseldorf\\Uni_Drive\\DIV2k\\DIV2K_train_HR\\DIV2K_train_HR\\0128.png"
          ],
          [
           "C:\\Users\\lucas\\OneDrive - Hochschule Düsseldorf\\Uni_Drive\\DIV2k\\DIV2K_train_HR\\DIV2K_train_HR\\0129.png"
          ],
          [
           "C:\\Users\\lucas\\OneDrive - Hochschule Düsseldorf\\Uni_Drive\\DIV2k\\DIV2K_train_HR\\DIV2K_train_HR\\0130.png"
          ],
          [
           "C:\\Users\\lucas\\OneDrive - Hochschule Düsseldorf\\Uni_Drive\\DIV2k\\DIV2K_train_HR\\DIV2K_train_HR\\0131.png"
          ],
          [
           "C:\\Users\\lucas\\OneDrive - Hochschule Düsseldorf\\Uni_Drive\\DIV2k\\DIV2K_train_HR\\DIV2K_train_HR\\0132.png"
          ],
          [
           "C:\\Users\\lucas\\OneDrive - Hochschule Düsseldorf\\Uni_Drive\\DIV2k\\DIV2K_train_HR\\DIV2K_train_HR\\0133.png"
          ],
          [
           "C:\\Users\\lucas\\OneDrive - Hochschule Düsseldorf\\Uni_Drive\\DIV2k\\DIV2K_train_HR\\DIV2K_train_HR\\0134.png"
          ],
          [
           "C:\\Users\\lucas\\OneDrive - Hochschule Düsseldorf\\Uni_Drive\\DIV2k\\DIV2K_train_HR\\DIV2K_train_HR\\0135.png"
          ],
          [
           "C:\\Users\\lucas\\OneDrive - Hochschule Düsseldorf\\Uni_Drive\\DIV2k\\DIV2K_train_HR\\DIV2K_train_HR\\0136.png"
          ],
          [
           "C:\\Users\\lucas\\OneDrive - Hochschule Düsseldorf\\Uni_Drive\\DIV2k\\DIV2K_train_HR\\DIV2K_train_HR\\0137.png"
          ],
          [
           "C:\\Users\\lucas\\OneDrive - Hochschule Düsseldorf\\Uni_Drive\\DIV2k\\DIV2K_train_HR\\DIV2K_train_HR\\0138.png"
          ],
          [
           "C:\\Users\\lucas\\OneDrive - Hochschule Düsseldorf\\Uni_Drive\\DIV2k\\DIV2K_train_HR\\DIV2K_train_HR\\0139.png"
          ],
          [
           "C:\\Users\\lucas\\OneDrive - Hochschule Düsseldorf\\Uni_Drive\\DIV2k\\DIV2K_train_HR\\DIV2K_train_HR\\0140.png"
          ],
          [
           "C:\\Users\\lucas\\OneDrive - Hochschule Düsseldorf\\Uni_Drive\\DIV2k\\DIV2K_train_HR\\DIV2K_train_HR\\0141.png"
          ],
          [
           "C:\\Users\\lucas\\OneDrive - Hochschule Düsseldorf\\Uni_Drive\\DIV2k\\DIV2K_train_HR\\DIV2K_train_HR\\0142.png"
          ],
          [
           "C:\\Users\\lucas\\OneDrive - Hochschule Düsseldorf\\Uni_Drive\\DIV2k\\DIV2K_train_HR\\DIV2K_train_HR\\0143.png"
          ],
          [
           "C:\\Users\\lucas\\OneDrive - Hochschule Düsseldorf\\Uni_Drive\\DIV2k\\DIV2K_train_HR\\DIV2K_train_HR\\0144.png"
          ],
          [
           "C:\\Users\\lucas\\OneDrive - Hochschule Düsseldorf\\Uni_Drive\\DIV2k\\DIV2K_train_HR\\DIV2K_train_HR\\0145.png"
          ],
          [
           "C:\\Users\\lucas\\OneDrive - Hochschule Düsseldorf\\Uni_Drive\\DIV2k\\DIV2K_train_HR\\DIV2K_train_HR\\0146.png"
          ],
          [
           "C:\\Users\\lucas\\OneDrive - Hochschule Düsseldorf\\Uni_Drive\\DIV2k\\DIV2K_train_HR\\DIV2K_train_HR\\0147.png"
          ],
          [
           "C:\\Users\\lucas\\OneDrive - Hochschule Düsseldorf\\Uni_Drive\\DIV2k\\DIV2K_train_HR\\DIV2K_train_HR\\0148.png"
          ],
          [
           "C:\\Users\\lucas\\OneDrive - Hochschule Düsseldorf\\Uni_Drive\\DIV2k\\DIV2K_train_HR\\DIV2K_train_HR\\0149.png"
          ],
          [
           "C:\\Users\\lucas\\OneDrive - Hochschule Düsseldorf\\Uni_Drive\\DIV2k\\DIV2K_train_HR\\DIV2K_train_HR\\0150.png"
          ],
          [
           "C:\\Users\\lucas\\OneDrive - Hochschule Düsseldorf\\Uni_Drive\\DIV2k\\DIV2K_train_HR\\DIV2K_train_HR\\0151.png"
          ],
          [
           "C:\\Users\\lucas\\OneDrive - Hochschule Düsseldorf\\Uni_Drive\\DIV2k\\DIV2K_train_HR\\DIV2K_train_HR\\0152.png"
          ],
          [
           "C:\\Users\\lucas\\OneDrive - Hochschule Düsseldorf\\Uni_Drive\\DIV2k\\DIV2K_train_HR\\DIV2K_train_HR\\0153.png"
          ],
          [
           "C:\\Users\\lucas\\OneDrive - Hochschule Düsseldorf\\Uni_Drive\\DIV2k\\DIV2K_train_HR\\DIV2K_train_HR\\0154.png"
          ],
          [
           "C:\\Users\\lucas\\OneDrive - Hochschule Düsseldorf\\Uni_Drive\\DIV2k\\DIV2K_train_HR\\DIV2K_train_HR\\0155.png"
          ],
          [
           "C:\\Users\\lucas\\OneDrive - Hochschule Düsseldorf\\Uni_Drive\\DIV2k\\DIV2K_train_HR\\DIV2K_train_HR\\0156.png"
          ],
          [
           "C:\\Users\\lucas\\OneDrive - Hochschule Düsseldorf\\Uni_Drive\\DIV2k\\DIV2K_train_HR\\DIV2K_train_HR\\0157.png"
          ],
          [
           "C:\\Users\\lucas\\OneDrive - Hochschule Düsseldorf\\Uni_Drive\\DIV2k\\DIV2K_train_HR\\DIV2K_train_HR\\0158.png"
          ],
          [
           "C:\\Users\\lucas\\OneDrive - Hochschule Düsseldorf\\Uni_Drive\\DIV2k\\DIV2K_train_HR\\DIV2K_train_HR\\0159.png"
          ],
          [
           "C:\\Users\\lucas\\OneDrive - Hochschule Düsseldorf\\Uni_Drive\\DIV2k\\DIV2K_train_HR\\DIV2K_train_HR\\0160.png"
          ],
          [
           "C:\\Users\\lucas\\OneDrive - Hochschule Düsseldorf\\Uni_Drive\\DIV2k\\DIV2K_train_HR\\DIV2K_train_HR\\0161.png"
          ],
          [
           "C:\\Users\\lucas\\OneDrive - Hochschule Düsseldorf\\Uni_Drive\\DIV2k\\DIV2K_train_HR\\DIV2K_train_HR\\0162.png"
          ],
          [
           "C:\\Users\\lucas\\OneDrive - Hochschule Düsseldorf\\Uni_Drive\\DIV2k\\DIV2K_train_HR\\DIV2K_train_HR\\0163.png"
          ],
          [
           "C:\\Users\\lucas\\OneDrive - Hochschule Düsseldorf\\Uni_Drive\\DIV2k\\DIV2K_train_HR\\DIV2K_train_HR\\0164.png"
          ],
          [
           "C:\\Users\\lucas\\OneDrive - Hochschule Düsseldorf\\Uni_Drive\\DIV2k\\DIV2K_train_HR\\DIV2K_train_HR\\0165.png"
          ],
          [
           "C:\\Users\\lucas\\OneDrive - Hochschule Düsseldorf\\Uni_Drive\\DIV2k\\DIV2K_train_HR\\DIV2K_train_HR\\0166.png"
          ],
          [
           "C:\\Users\\lucas\\OneDrive - Hochschule Düsseldorf\\Uni_Drive\\DIV2k\\DIV2K_train_HR\\DIV2K_train_HR\\0167.png"
          ],
          [
           "C:\\Users\\lucas\\OneDrive - Hochschule Düsseldorf\\Uni_Drive\\DIV2k\\DIV2K_train_HR\\DIV2K_train_HR\\0168.png"
          ],
          [
           "C:\\Users\\lucas\\OneDrive - Hochschule Düsseldorf\\Uni_Drive\\DIV2k\\DIV2K_train_HR\\DIV2K_train_HR\\0169.png"
          ],
          [
           "C:\\Users\\lucas\\OneDrive - Hochschule Düsseldorf\\Uni_Drive\\DIV2k\\DIV2K_train_HR\\DIV2K_train_HR\\0170.png"
          ],
          [
           "C:\\Users\\lucas\\OneDrive - Hochschule Düsseldorf\\Uni_Drive\\DIV2k\\DIV2K_train_HR\\DIV2K_train_HR\\0171.png"
          ],
          [
           "C:\\Users\\lucas\\OneDrive - Hochschule Düsseldorf\\Uni_Drive\\DIV2k\\DIV2K_train_HR\\DIV2K_train_HR\\0172.png"
          ],
          [
           "C:\\Users\\lucas\\OneDrive - Hochschule Düsseldorf\\Uni_Drive\\DIV2k\\DIV2K_train_HR\\DIV2K_train_HR\\0173.png"
          ],
          [
           "C:\\Users\\lucas\\OneDrive - Hochschule Düsseldorf\\Uni_Drive\\DIV2k\\DIV2K_train_HR\\DIV2K_train_HR\\0174.png"
          ],
          [
           "C:\\Users\\lucas\\OneDrive - Hochschule Düsseldorf\\Uni_Drive\\DIV2k\\DIV2K_train_HR\\DIV2K_train_HR\\0175.png"
          ],
          [
           "C:\\Users\\lucas\\OneDrive - Hochschule Düsseldorf\\Uni_Drive\\DIV2k\\DIV2K_train_HR\\DIV2K_train_HR\\0176.png"
          ],
          [
           "C:\\Users\\lucas\\OneDrive - Hochschule Düsseldorf\\Uni_Drive\\DIV2k\\DIV2K_train_HR\\DIV2K_train_HR\\0177.png"
          ],
          [
           "C:\\Users\\lucas\\OneDrive - Hochschule Düsseldorf\\Uni_Drive\\DIV2k\\DIV2K_train_HR\\DIV2K_train_HR\\0178.png"
          ],
          [
           "C:\\Users\\lucas\\OneDrive - Hochschule Düsseldorf\\Uni_Drive\\DIV2k\\DIV2K_train_HR\\DIV2K_train_HR\\0179.png"
          ],
          [
           "C:\\Users\\lucas\\OneDrive - Hochschule Düsseldorf\\Uni_Drive\\DIV2k\\DIV2K_train_HR\\DIV2K_train_HR\\0180.png"
          ],
          [
           "C:\\Users\\lucas\\OneDrive - Hochschule Düsseldorf\\Uni_Drive\\DIV2k\\DIV2K_train_HR\\DIV2K_train_HR\\0181.png"
          ],
          [
           "C:\\Users\\lucas\\OneDrive - Hochschule Düsseldorf\\Uni_Drive\\DIV2k\\DIV2K_train_HR\\DIV2K_train_HR\\0182.png"
          ],
          [
           "C:\\Users\\lucas\\OneDrive - Hochschule Düsseldorf\\Uni_Drive\\DIV2k\\DIV2K_train_HR\\DIV2K_train_HR\\0183.png"
          ],
          [
           "C:\\Users\\lucas\\OneDrive - Hochschule Düsseldorf\\Uni_Drive\\DIV2k\\DIV2K_train_HR\\DIV2K_train_HR\\0184.png"
          ],
          [
           "C:\\Users\\lucas\\OneDrive - Hochschule Düsseldorf\\Uni_Drive\\DIV2k\\DIV2K_train_HR\\DIV2K_train_HR\\0185.png"
          ],
          [
           "C:\\Users\\lucas\\OneDrive - Hochschule Düsseldorf\\Uni_Drive\\DIV2k\\DIV2K_train_HR\\DIV2K_train_HR\\0186.png"
          ],
          [
           "C:\\Users\\lucas\\OneDrive - Hochschule Düsseldorf\\Uni_Drive\\DIV2k\\DIV2K_train_HR\\DIV2K_train_HR\\0187.png"
          ],
          [
           "C:\\Users\\lucas\\OneDrive - Hochschule Düsseldorf\\Uni_Drive\\DIV2k\\DIV2K_train_HR\\DIV2K_train_HR\\0188.png"
          ],
          [
           "C:\\Users\\lucas\\OneDrive - Hochschule Düsseldorf\\Uni_Drive\\DIV2k\\DIV2K_train_HR\\DIV2K_train_HR\\0189.png"
          ],
          [
           "C:\\Users\\lucas\\OneDrive - Hochschule Düsseldorf\\Uni_Drive\\DIV2k\\DIV2K_train_HR\\DIV2K_train_HR\\0190.png"
          ],
          [
           "C:\\Users\\lucas\\OneDrive - Hochschule Düsseldorf\\Uni_Drive\\DIV2k\\DIV2K_train_HR\\DIV2K_train_HR\\0191.png"
          ],
          [
           "C:\\Users\\lucas\\OneDrive - Hochschule Düsseldorf\\Uni_Drive\\DIV2k\\DIV2K_train_HR\\DIV2K_train_HR\\0192.png"
          ],
          [
           "C:\\Users\\lucas\\OneDrive - Hochschule Düsseldorf\\Uni_Drive\\DIV2k\\DIV2K_train_HR\\DIV2K_train_HR\\0193.png"
          ],
          [
           "C:\\Users\\lucas\\OneDrive - Hochschule Düsseldorf\\Uni_Drive\\DIV2k\\DIV2K_train_HR\\DIV2K_train_HR\\0194.png"
          ],
          [
           "C:\\Users\\lucas\\OneDrive - Hochschule Düsseldorf\\Uni_Drive\\DIV2k\\DIV2K_train_HR\\DIV2K_train_HR\\0195.png"
          ],
          [
           "C:\\Users\\lucas\\OneDrive - Hochschule Düsseldorf\\Uni_Drive\\DIV2k\\DIV2K_train_HR\\DIV2K_train_HR\\0196.png"
          ],
          [
           "C:\\Users\\lucas\\OneDrive - Hochschule Düsseldorf\\Uni_Drive\\DIV2k\\DIV2K_train_HR\\DIV2K_train_HR\\0197.png"
          ],
          [
           "C:\\Users\\lucas\\OneDrive - Hochschule Düsseldorf\\Uni_Drive\\DIV2k\\DIV2K_train_HR\\DIV2K_train_HR\\0198.png"
          ],
          [
           "C:\\Users\\lucas\\OneDrive - Hochschule Düsseldorf\\Uni_Drive\\DIV2k\\DIV2K_train_HR\\DIV2K_train_HR\\0199.png"
          ],
          [
           "C:\\Users\\lucas\\OneDrive - Hochschule Düsseldorf\\Uni_Drive\\DIV2k\\DIV2K_train_HR\\DIV2K_train_HR\\0200.png"
          ],
          [
           "C:\\Users\\lucas\\OneDrive - Hochschule Düsseldorf\\Uni_Drive\\DIV2k\\DIV2K_train_HR\\DIV2K_train_HR\\0201.png"
          ],
          [
           "C:\\Users\\lucas\\OneDrive - Hochschule Düsseldorf\\Uni_Drive\\DIV2k\\DIV2K_train_HR\\DIV2K_train_HR\\0202.png"
          ],
          [
           "C:\\Users\\lucas\\OneDrive - Hochschule Düsseldorf\\Uni_Drive\\DIV2k\\DIV2K_train_HR\\DIV2K_train_HR\\0203.png"
          ],
          [
           "C:\\Users\\lucas\\OneDrive - Hochschule Düsseldorf\\Uni_Drive\\DIV2k\\DIV2K_train_HR\\DIV2K_train_HR\\0204.png"
          ],
          [
           "C:\\Users\\lucas\\OneDrive - Hochschule Düsseldorf\\Uni_Drive\\DIV2k\\DIV2K_train_HR\\DIV2K_train_HR\\0205.png"
          ],
          [
           "C:\\Users\\lucas\\OneDrive - Hochschule Düsseldorf\\Uni_Drive\\DIV2k\\DIV2K_train_HR\\DIV2K_train_HR\\0206.png"
          ],
          [
           "C:\\Users\\lucas\\OneDrive - Hochschule Düsseldorf\\Uni_Drive\\DIV2k\\DIV2K_train_HR\\DIV2K_train_HR\\0207.png"
          ],
          [
           "C:\\Users\\lucas\\OneDrive - Hochschule Düsseldorf\\Uni_Drive\\DIV2k\\DIV2K_train_HR\\DIV2K_train_HR\\0208.png"
          ],
          [
           "C:\\Users\\lucas\\OneDrive - Hochschule Düsseldorf\\Uni_Drive\\DIV2k\\DIV2K_train_HR\\DIV2K_train_HR\\0209.png"
          ],
          [
           "C:\\Users\\lucas\\OneDrive - Hochschule Düsseldorf\\Uni_Drive\\DIV2k\\DIV2K_train_HR\\DIV2K_train_HR\\0210.png"
          ],
          [
           "C:\\Users\\lucas\\OneDrive - Hochschule Düsseldorf\\Uni_Drive\\DIV2k\\DIV2K_train_HR\\DIV2K_train_HR\\0211.png"
          ],
          [
           "C:\\Users\\lucas\\OneDrive - Hochschule Düsseldorf\\Uni_Drive\\DIV2k\\DIV2K_train_HR\\DIV2K_train_HR\\0212.png"
          ],
          [
           "C:\\Users\\lucas\\OneDrive - Hochschule Düsseldorf\\Uni_Drive\\DIV2k\\DIV2K_train_HR\\DIV2K_train_HR\\0213.png"
          ],
          [
           "C:\\Users\\lucas\\OneDrive - Hochschule Düsseldorf\\Uni_Drive\\DIV2k\\DIV2K_train_HR\\DIV2K_train_HR\\0214.png"
          ],
          [
           "C:\\Users\\lucas\\OneDrive - Hochschule Düsseldorf\\Uni_Drive\\DIV2k\\DIV2K_train_HR\\DIV2K_train_HR\\0215.png"
          ],
          [
           "C:\\Users\\lucas\\OneDrive - Hochschule Düsseldorf\\Uni_Drive\\DIV2k\\DIV2K_train_HR\\DIV2K_train_HR\\0216.png"
          ],
          [
           "C:\\Users\\lucas\\OneDrive - Hochschule Düsseldorf\\Uni_Drive\\DIV2k\\DIV2K_train_HR\\DIV2K_train_HR\\0217.png"
          ],
          [
           "C:\\Users\\lucas\\OneDrive - Hochschule Düsseldorf\\Uni_Drive\\DIV2k\\DIV2K_train_HR\\DIV2K_train_HR\\0218.png"
          ],
          [
           "C:\\Users\\lucas\\OneDrive - Hochschule Düsseldorf\\Uni_Drive\\DIV2k\\DIV2K_train_HR\\DIV2K_train_HR\\0219.png"
          ],
          [
           "C:\\Users\\lucas\\OneDrive - Hochschule Düsseldorf\\Uni_Drive\\DIV2k\\DIV2K_train_HR\\DIV2K_train_HR\\0220.png"
          ],
          [
           "C:\\Users\\lucas\\OneDrive - Hochschule Düsseldorf\\Uni_Drive\\DIV2k\\DIV2K_train_HR\\DIV2K_train_HR\\0221.png"
          ],
          [
           "C:\\Users\\lucas\\OneDrive - Hochschule Düsseldorf\\Uni_Drive\\DIV2k\\DIV2K_train_HR\\DIV2K_train_HR\\0222.png"
          ],
          [
           "C:\\Users\\lucas\\OneDrive - Hochschule Düsseldorf\\Uni_Drive\\DIV2k\\DIV2K_train_HR\\DIV2K_train_HR\\0223.png"
          ],
          [
           "C:\\Users\\lucas\\OneDrive - Hochschule Düsseldorf\\Uni_Drive\\DIV2k\\DIV2K_train_HR\\DIV2K_train_HR\\0224.png"
          ],
          [
           "C:\\Users\\lucas\\OneDrive - Hochschule Düsseldorf\\Uni_Drive\\DIV2k\\DIV2K_train_HR\\DIV2K_train_HR\\0225.png"
          ],
          [
           "C:\\Users\\lucas\\OneDrive - Hochschule Düsseldorf\\Uni_Drive\\DIV2k\\DIV2K_train_HR\\DIV2K_train_HR\\0226.png"
          ],
          [
           "C:\\Users\\lucas\\OneDrive - Hochschule Düsseldorf\\Uni_Drive\\DIV2k\\DIV2K_train_HR\\DIV2K_train_HR\\0227.png"
          ],
          [
           "C:\\Users\\lucas\\OneDrive - Hochschule Düsseldorf\\Uni_Drive\\DIV2k\\DIV2K_train_HR\\DIV2K_train_HR\\0228.png"
          ],
          [
           "C:\\Users\\lucas\\OneDrive - Hochschule Düsseldorf\\Uni_Drive\\DIV2k\\DIV2K_train_HR\\DIV2K_train_HR\\0229.png"
          ],
          [
           "C:\\Users\\lucas\\OneDrive - Hochschule Düsseldorf\\Uni_Drive\\DIV2k\\DIV2K_train_HR\\DIV2K_train_HR\\0230.png"
          ],
          [
           "C:\\Users\\lucas\\OneDrive - Hochschule Düsseldorf\\Uni_Drive\\DIV2k\\DIV2K_train_HR\\DIV2K_train_HR\\0231.png"
          ],
          [
           "C:\\Users\\lucas\\OneDrive - Hochschule Düsseldorf\\Uni_Drive\\DIV2k\\DIV2K_train_HR\\DIV2K_train_HR\\0232.png"
          ],
          [
           "C:\\Users\\lucas\\OneDrive - Hochschule Düsseldorf\\Uni_Drive\\DIV2k\\DIV2K_train_HR\\DIV2K_train_HR\\0233.png"
          ],
          [
           "C:\\Users\\lucas\\OneDrive - Hochschule Düsseldorf\\Uni_Drive\\DIV2k\\DIV2K_train_HR\\DIV2K_train_HR\\0234.png"
          ],
          [
           "C:\\Users\\lucas\\OneDrive - Hochschule Düsseldorf\\Uni_Drive\\DIV2k\\DIV2K_train_HR\\DIV2K_train_HR\\0235.png"
          ],
          [
           "C:\\Users\\lucas\\OneDrive - Hochschule Düsseldorf\\Uni_Drive\\DIV2k\\DIV2K_train_HR\\DIV2K_train_HR\\0236.png"
          ],
          [
           "C:\\Users\\lucas\\OneDrive - Hochschule Düsseldorf\\Uni_Drive\\DIV2k\\DIV2K_train_HR\\DIV2K_train_HR\\0237.png"
          ],
          [
           "C:\\Users\\lucas\\OneDrive - Hochschule Düsseldorf\\Uni_Drive\\DIV2k\\DIV2K_train_HR\\DIV2K_train_HR\\0238.png"
          ],
          [
           "C:\\Users\\lucas\\OneDrive - Hochschule Düsseldorf\\Uni_Drive\\DIV2k\\DIV2K_train_HR\\DIV2K_train_HR\\0239.png"
          ],
          [
           "C:\\Users\\lucas\\OneDrive - Hochschule Düsseldorf\\Uni_Drive\\DIV2k\\DIV2K_train_HR\\DIV2K_train_HR\\0240.png"
          ],
          [
           "C:\\Users\\lucas\\OneDrive - Hochschule Düsseldorf\\Uni_Drive\\DIV2k\\DIV2K_train_HR\\DIV2K_train_HR\\0241.png"
          ],
          [
           "C:\\Users\\lucas\\OneDrive - Hochschule Düsseldorf\\Uni_Drive\\DIV2k\\DIV2K_train_HR\\DIV2K_train_HR\\0242.png"
          ],
          [
           "C:\\Users\\lucas\\OneDrive - Hochschule Düsseldorf\\Uni_Drive\\DIV2k\\DIV2K_train_HR\\DIV2K_train_HR\\0243.png"
          ],
          [
           "C:\\Users\\lucas\\OneDrive - Hochschule Düsseldorf\\Uni_Drive\\DIV2k\\DIV2K_train_HR\\DIV2K_train_HR\\0244.png"
          ],
          [
           "C:\\Users\\lucas\\OneDrive - Hochschule Düsseldorf\\Uni_Drive\\DIV2k\\DIV2K_train_HR\\DIV2K_train_HR\\0245.png"
          ],
          [
           "C:\\Users\\lucas\\OneDrive - Hochschule Düsseldorf\\Uni_Drive\\DIV2k\\DIV2K_train_HR\\DIV2K_train_HR\\0246.png"
          ],
          [
           "C:\\Users\\lucas\\OneDrive - Hochschule Düsseldorf\\Uni_Drive\\DIV2k\\DIV2K_train_HR\\DIV2K_train_HR\\0247.png"
          ],
          [
           "C:\\Users\\lucas\\OneDrive - Hochschule Düsseldorf\\Uni_Drive\\DIV2k\\DIV2K_train_HR\\DIV2K_train_HR\\0248.png"
          ],
          [
           "C:\\Users\\lucas\\OneDrive - Hochschule Düsseldorf\\Uni_Drive\\DIV2k\\DIV2K_train_HR\\DIV2K_train_HR\\0249.png"
          ],
          [
           "C:\\Users\\lucas\\OneDrive - Hochschule Düsseldorf\\Uni_Drive\\DIV2k\\DIV2K_train_HR\\DIV2K_train_HR\\0250.png"
          ],
          [
           "C:\\Users\\lucas\\OneDrive - Hochschule Düsseldorf\\Uni_Drive\\DIV2k\\DIV2K_train_HR\\DIV2K_train_HR\\0251.png"
          ],
          [
           "C:\\Users\\lucas\\OneDrive - Hochschule Düsseldorf\\Uni_Drive\\DIV2k\\DIV2K_train_HR\\DIV2K_train_HR\\0252.png"
          ],
          [
           "C:\\Users\\lucas\\OneDrive - Hochschule Düsseldorf\\Uni_Drive\\DIV2k\\DIV2K_train_HR\\DIV2K_train_HR\\0253.png"
          ],
          [
           "C:\\Users\\lucas\\OneDrive - Hochschule Düsseldorf\\Uni_Drive\\DIV2k\\DIV2K_train_HR\\DIV2K_train_HR\\0254.png"
          ],
          [
           "C:\\Users\\lucas\\OneDrive - Hochschule Düsseldorf\\Uni_Drive\\DIV2k\\DIV2K_train_HR\\DIV2K_train_HR\\0255.png"
          ],
          [
           "C:\\Users\\lucas\\OneDrive - Hochschule Düsseldorf\\Uni_Drive\\DIV2k\\DIV2K_train_HR\\DIV2K_train_HR\\0256.png"
          ],
          [
           "C:\\Users\\lucas\\OneDrive - Hochschule Düsseldorf\\Uni_Drive\\DIV2k\\DIV2K_train_HR\\DIV2K_train_HR\\0257.png"
          ],
          [
           "C:\\Users\\lucas\\OneDrive - Hochschule Düsseldorf\\Uni_Drive\\DIV2k\\DIV2K_train_HR\\DIV2K_train_HR\\0258.png"
          ],
          [
           "C:\\Users\\lucas\\OneDrive - Hochschule Düsseldorf\\Uni_Drive\\DIV2k\\DIV2K_train_HR\\DIV2K_train_HR\\0259.png"
          ],
          [
           "C:\\Users\\lucas\\OneDrive - Hochschule Düsseldorf\\Uni_Drive\\DIV2k\\DIV2K_train_HR\\DIV2K_train_HR\\0260.png"
          ],
          [
           "C:\\Users\\lucas\\OneDrive - Hochschule Düsseldorf\\Uni_Drive\\DIV2k\\DIV2K_train_HR\\DIV2K_train_HR\\0261.png"
          ],
          [
           "C:\\Users\\lucas\\OneDrive - Hochschule Düsseldorf\\Uni_Drive\\DIV2k\\DIV2K_train_HR\\DIV2K_train_HR\\0262.png"
          ],
          [
           "C:\\Users\\lucas\\OneDrive - Hochschule Düsseldorf\\Uni_Drive\\DIV2k\\DIV2K_train_HR\\DIV2K_train_HR\\0263.png"
          ],
          [
           "C:\\Users\\lucas\\OneDrive - Hochschule Düsseldorf\\Uni_Drive\\DIV2k\\DIV2K_train_HR\\DIV2K_train_HR\\0264.png"
          ],
          [
           "C:\\Users\\lucas\\OneDrive - Hochschule Düsseldorf\\Uni_Drive\\DIV2k\\DIV2K_train_HR\\DIV2K_train_HR\\0265.png"
          ],
          [
           "C:\\Users\\lucas\\OneDrive - Hochschule Düsseldorf\\Uni_Drive\\DIV2k\\DIV2K_train_HR\\DIV2K_train_HR\\0266.png"
          ],
          [
           "C:\\Users\\lucas\\OneDrive - Hochschule Düsseldorf\\Uni_Drive\\DIV2k\\DIV2K_train_HR\\DIV2K_train_HR\\0267.png"
          ],
          [
           "C:\\Users\\lucas\\OneDrive - Hochschule Düsseldorf\\Uni_Drive\\DIV2k\\DIV2K_train_HR\\DIV2K_train_HR\\0268.png"
          ],
          [
           "C:\\Users\\lucas\\OneDrive - Hochschule Düsseldorf\\Uni_Drive\\DIV2k\\DIV2K_train_HR\\DIV2K_train_HR\\0269.png"
          ],
          [
           "C:\\Users\\lucas\\OneDrive - Hochschule Düsseldorf\\Uni_Drive\\DIV2k\\DIV2K_train_HR\\DIV2K_train_HR\\0270.png"
          ],
          [
           "C:\\Users\\lucas\\OneDrive - Hochschule Düsseldorf\\Uni_Drive\\DIV2k\\DIV2K_train_HR\\DIV2K_train_HR\\0271.png"
          ],
          [
           "C:\\Users\\lucas\\OneDrive - Hochschule Düsseldorf\\Uni_Drive\\DIV2k\\DIV2K_train_HR\\DIV2K_train_HR\\0272.png"
          ],
          [
           "C:\\Users\\lucas\\OneDrive - Hochschule Düsseldorf\\Uni_Drive\\DIV2k\\DIV2K_train_HR\\DIV2K_train_HR\\0273.png"
          ],
          [
           "C:\\Users\\lucas\\OneDrive - Hochschule Düsseldorf\\Uni_Drive\\DIV2k\\DIV2K_train_HR\\DIV2K_train_HR\\0274.png"
          ],
          [
           "C:\\Users\\lucas\\OneDrive - Hochschule Düsseldorf\\Uni_Drive\\DIV2k\\DIV2K_train_HR\\DIV2K_train_HR\\0275.png"
          ],
          [
           "C:\\Users\\lucas\\OneDrive - Hochschule Düsseldorf\\Uni_Drive\\DIV2k\\DIV2K_train_HR\\DIV2K_train_HR\\0276.png"
          ],
          [
           "C:\\Users\\lucas\\OneDrive - Hochschule Düsseldorf\\Uni_Drive\\DIV2k\\DIV2K_train_HR\\DIV2K_train_HR\\0277.png"
          ],
          [
           "C:\\Users\\lucas\\OneDrive - Hochschule Düsseldorf\\Uni_Drive\\DIV2k\\DIV2K_train_HR\\DIV2K_train_HR\\0278.png"
          ],
          [
           "C:\\Users\\lucas\\OneDrive - Hochschule Düsseldorf\\Uni_Drive\\DIV2k\\DIV2K_train_HR\\DIV2K_train_HR\\0279.png"
          ],
          [
           "C:\\Users\\lucas\\OneDrive - Hochschule Düsseldorf\\Uni_Drive\\DIV2k\\DIV2K_train_HR\\DIV2K_train_HR\\0280.png"
          ],
          [
           "C:\\Users\\lucas\\OneDrive - Hochschule Düsseldorf\\Uni_Drive\\DIV2k\\DIV2K_train_HR\\DIV2K_train_HR\\0281.png"
          ],
          [
           "C:\\Users\\lucas\\OneDrive - Hochschule Düsseldorf\\Uni_Drive\\DIV2k\\DIV2K_train_HR\\DIV2K_train_HR\\0282.png"
          ],
          [
           "C:\\Users\\lucas\\OneDrive - Hochschule Düsseldorf\\Uni_Drive\\DIV2k\\DIV2K_train_HR\\DIV2K_train_HR\\0283.png"
          ],
          [
           "C:\\Users\\lucas\\OneDrive - Hochschule Düsseldorf\\Uni_Drive\\DIV2k\\DIV2K_train_HR\\DIV2K_train_HR\\0284.png"
          ],
          [
           "C:\\Users\\lucas\\OneDrive - Hochschule Düsseldorf\\Uni_Drive\\DIV2k\\DIV2K_train_HR\\DIV2K_train_HR\\0285.png"
          ],
          [
           "C:\\Users\\lucas\\OneDrive - Hochschule Düsseldorf\\Uni_Drive\\DIV2k\\DIV2K_train_HR\\DIV2K_train_HR\\0286.png"
          ],
          [
           "C:\\Users\\lucas\\OneDrive - Hochschule Düsseldorf\\Uni_Drive\\DIV2k\\DIV2K_train_HR\\DIV2K_train_HR\\0287.png"
          ],
          [
           "C:\\Users\\lucas\\OneDrive - Hochschule Düsseldorf\\Uni_Drive\\DIV2k\\DIV2K_train_HR\\DIV2K_train_HR\\0288.png"
          ],
          [
           "C:\\Users\\lucas\\OneDrive - Hochschule Düsseldorf\\Uni_Drive\\DIV2k\\DIV2K_train_HR\\DIV2K_train_HR\\0289.png"
          ],
          [
           "C:\\Users\\lucas\\OneDrive - Hochschule Düsseldorf\\Uni_Drive\\DIV2k\\DIV2K_train_HR\\DIV2K_train_HR\\0290.png"
          ],
          [
           "C:\\Users\\lucas\\OneDrive - Hochschule Düsseldorf\\Uni_Drive\\DIV2k\\DIV2K_train_HR\\DIV2K_train_HR\\0291.png"
          ],
          [
           "C:\\Users\\lucas\\OneDrive - Hochschule Düsseldorf\\Uni_Drive\\DIV2k\\DIV2K_train_HR\\DIV2K_train_HR\\0292.png"
          ],
          [
           "C:\\Users\\lucas\\OneDrive - Hochschule Düsseldorf\\Uni_Drive\\DIV2k\\DIV2K_train_HR\\DIV2K_train_HR\\0293.png"
          ],
          [
           "C:\\Users\\lucas\\OneDrive - Hochschule Düsseldorf\\Uni_Drive\\DIV2k\\DIV2K_train_HR\\DIV2K_train_HR\\0294.png"
          ],
          [
           "C:\\Users\\lucas\\OneDrive - Hochschule Düsseldorf\\Uni_Drive\\DIV2k\\DIV2K_train_HR\\DIV2K_train_HR\\0295.png"
          ],
          [
           "C:\\Users\\lucas\\OneDrive - Hochschule Düsseldorf\\Uni_Drive\\DIV2k\\DIV2K_train_HR\\DIV2K_train_HR\\0296.png"
          ],
          [
           "C:\\Users\\lucas\\OneDrive - Hochschule Düsseldorf\\Uni_Drive\\DIV2k\\DIV2K_train_HR\\DIV2K_train_HR\\0297.png"
          ],
          [
           "C:\\Users\\lucas\\OneDrive - Hochschule Düsseldorf\\Uni_Drive\\DIV2k\\DIV2K_train_HR\\DIV2K_train_HR\\0298.png"
          ],
          [
           "C:\\Users\\lucas\\OneDrive - Hochschule Düsseldorf\\Uni_Drive\\DIV2k\\DIV2K_train_HR\\DIV2K_train_HR\\0299.png"
          ],
          [
           "C:\\Users\\lucas\\OneDrive - Hochschule Düsseldorf\\Uni_Drive\\DIV2k\\DIV2K_train_HR\\DIV2K_train_HR\\0300.png"
          ],
          [
           "C:\\Users\\lucas\\OneDrive - Hochschule Düsseldorf\\Uni_Drive\\DIV2k\\DIV2K_train_HR\\DIV2K_train_HR\\0301.png"
          ],
          [
           "C:\\Users\\lucas\\OneDrive - Hochschule Düsseldorf\\Uni_Drive\\DIV2k\\DIV2K_train_HR\\DIV2K_train_HR\\0302.png"
          ],
          [
           "C:\\Users\\lucas\\OneDrive - Hochschule Düsseldorf\\Uni_Drive\\DIV2k\\DIV2K_train_HR\\DIV2K_train_HR\\0303.png"
          ],
          [
           "C:\\Users\\lucas\\OneDrive - Hochschule Düsseldorf\\Uni_Drive\\DIV2k\\DIV2K_train_HR\\DIV2K_train_HR\\0304.png"
          ],
          [
           "C:\\Users\\lucas\\OneDrive - Hochschule Düsseldorf\\Uni_Drive\\DIV2k\\DIV2K_train_HR\\DIV2K_train_HR\\0305.png"
          ],
          [
           "C:\\Users\\lucas\\OneDrive - Hochschule Düsseldorf\\Uni_Drive\\DIV2k\\DIV2K_train_HR\\DIV2K_train_HR\\0306.png"
          ],
          [
           "C:\\Users\\lucas\\OneDrive - Hochschule Düsseldorf\\Uni_Drive\\DIV2k\\DIV2K_train_HR\\DIV2K_train_HR\\0307.png"
          ],
          [
           "C:\\Users\\lucas\\OneDrive - Hochschule Düsseldorf\\Uni_Drive\\DIV2k\\DIV2K_train_HR\\DIV2K_train_HR\\0308.png"
          ],
          [
           "C:\\Users\\lucas\\OneDrive - Hochschule Düsseldorf\\Uni_Drive\\DIV2k\\DIV2K_train_HR\\DIV2K_train_HR\\0309.png"
          ],
          [
           "C:\\Users\\lucas\\OneDrive - Hochschule Düsseldorf\\Uni_Drive\\DIV2k\\DIV2K_train_HR\\DIV2K_train_HR\\0310.png"
          ],
          [
           "C:\\Users\\lucas\\OneDrive - Hochschule Düsseldorf\\Uni_Drive\\DIV2k\\DIV2K_train_HR\\DIV2K_train_HR\\0311.png"
          ],
          [
           "C:\\Users\\lucas\\OneDrive - Hochschule Düsseldorf\\Uni_Drive\\DIV2k\\DIV2K_train_HR\\DIV2K_train_HR\\0312.png"
          ],
          [
           "C:\\Users\\lucas\\OneDrive - Hochschule Düsseldorf\\Uni_Drive\\DIV2k\\DIV2K_train_HR\\DIV2K_train_HR\\0313.png"
          ],
          [
           "C:\\Users\\lucas\\OneDrive - Hochschule Düsseldorf\\Uni_Drive\\DIV2k\\DIV2K_train_HR\\DIV2K_train_HR\\0314.png"
          ],
          [
           "C:\\Users\\lucas\\OneDrive - Hochschule Düsseldorf\\Uni_Drive\\DIV2k\\DIV2K_train_HR\\DIV2K_train_HR\\0315.png"
          ],
          [
           "C:\\Users\\lucas\\OneDrive - Hochschule Düsseldorf\\Uni_Drive\\DIV2k\\DIV2K_train_HR\\DIV2K_train_HR\\0316.png"
          ],
          [
           "C:\\Users\\lucas\\OneDrive - Hochschule Düsseldorf\\Uni_Drive\\DIV2k\\DIV2K_train_HR\\DIV2K_train_HR\\0317.png"
          ],
          [
           "C:\\Users\\lucas\\OneDrive - Hochschule Düsseldorf\\Uni_Drive\\DIV2k\\DIV2K_train_HR\\DIV2K_train_HR\\0318.png"
          ],
          [
           "C:\\Users\\lucas\\OneDrive - Hochschule Düsseldorf\\Uni_Drive\\DIV2k\\DIV2K_train_HR\\DIV2K_train_HR\\0319.png"
          ],
          [
           "C:\\Users\\lucas\\OneDrive - Hochschule Düsseldorf\\Uni_Drive\\DIV2k\\DIV2K_train_HR\\DIV2K_train_HR\\0320.png"
          ],
          [
           "C:\\Users\\lucas\\OneDrive - Hochschule Düsseldorf\\Uni_Drive\\DIV2k\\DIV2K_train_HR\\DIV2K_train_HR\\0321.png"
          ],
          [
           "C:\\Users\\lucas\\OneDrive - Hochschule Düsseldorf\\Uni_Drive\\DIV2k\\DIV2K_train_HR\\DIV2K_train_HR\\0322.png"
          ],
          [
           "C:\\Users\\lucas\\OneDrive - Hochschule Düsseldorf\\Uni_Drive\\DIV2k\\DIV2K_train_HR\\DIV2K_train_HR\\0323.png"
          ],
          [
           "C:\\Users\\lucas\\OneDrive - Hochschule Düsseldorf\\Uni_Drive\\DIV2k\\DIV2K_train_HR\\DIV2K_train_HR\\0324.png"
          ],
          [
           "C:\\Users\\lucas\\OneDrive - Hochschule Düsseldorf\\Uni_Drive\\DIV2k\\DIV2K_train_HR\\DIV2K_train_HR\\0325.png"
          ],
          [
           "C:\\Users\\lucas\\OneDrive - Hochschule Düsseldorf\\Uni_Drive\\DIV2k\\DIV2K_train_HR\\DIV2K_train_HR\\0326.png"
          ],
          [
           "C:\\Users\\lucas\\OneDrive - Hochschule Düsseldorf\\Uni_Drive\\DIV2k\\DIV2K_train_HR\\DIV2K_train_HR\\0327.png"
          ],
          [
           "C:\\Users\\lucas\\OneDrive - Hochschule Düsseldorf\\Uni_Drive\\DIV2k\\DIV2K_train_HR\\DIV2K_train_HR\\0328.png"
          ],
          [
           "C:\\Users\\lucas\\OneDrive - Hochschule Düsseldorf\\Uni_Drive\\DIV2k\\DIV2K_train_HR\\DIV2K_train_HR\\0329.png"
          ],
          [
           "C:\\Users\\lucas\\OneDrive - Hochschule Düsseldorf\\Uni_Drive\\DIV2k\\DIV2K_train_HR\\DIV2K_train_HR\\0330.png"
          ],
          [
           "C:\\Users\\lucas\\OneDrive - Hochschule Düsseldorf\\Uni_Drive\\DIV2k\\DIV2K_train_HR\\DIV2K_train_HR\\0331.png"
          ],
          [
           "C:\\Users\\lucas\\OneDrive - Hochschule Düsseldorf\\Uni_Drive\\DIV2k\\DIV2K_train_HR\\DIV2K_train_HR\\0332.png"
          ],
          [
           "C:\\Users\\lucas\\OneDrive - Hochschule Düsseldorf\\Uni_Drive\\DIV2k\\DIV2K_train_HR\\DIV2K_train_HR\\0333.png"
          ],
          [
           "C:\\Users\\lucas\\OneDrive - Hochschule Düsseldorf\\Uni_Drive\\DIV2k\\DIV2K_train_HR\\DIV2K_train_HR\\0334.png"
          ],
          [
           "C:\\Users\\lucas\\OneDrive - Hochschule Düsseldorf\\Uni_Drive\\DIV2k\\DIV2K_train_HR\\DIV2K_train_HR\\0335.png"
          ],
          [
           "C:\\Users\\lucas\\OneDrive - Hochschule Düsseldorf\\Uni_Drive\\DIV2k\\DIV2K_train_HR\\DIV2K_train_HR\\0336.png"
          ],
          [
           "C:\\Users\\lucas\\OneDrive - Hochschule Düsseldorf\\Uni_Drive\\DIV2k\\DIV2K_train_HR\\DIV2K_train_HR\\0337.png"
          ],
          [
           "C:\\Users\\lucas\\OneDrive - Hochschule Düsseldorf\\Uni_Drive\\DIV2k\\DIV2K_train_HR\\DIV2K_train_HR\\0338.png"
          ],
          [
           "C:\\Users\\lucas\\OneDrive - Hochschule Düsseldorf\\Uni_Drive\\DIV2k\\DIV2K_train_HR\\DIV2K_train_HR\\0339.png"
          ],
          [
           "C:\\Users\\lucas\\OneDrive - Hochschule Düsseldorf\\Uni_Drive\\DIV2k\\DIV2K_train_HR\\DIV2K_train_HR\\0340.png"
          ],
          [
           "C:\\Users\\lucas\\OneDrive - Hochschule Düsseldorf\\Uni_Drive\\DIV2k\\DIV2K_train_HR\\DIV2K_train_HR\\0341.png"
          ],
          [
           "C:\\Users\\lucas\\OneDrive - Hochschule Düsseldorf\\Uni_Drive\\DIV2k\\DIV2K_train_HR\\DIV2K_train_HR\\0342.png"
          ],
          [
           "C:\\Users\\lucas\\OneDrive - Hochschule Düsseldorf\\Uni_Drive\\DIV2k\\DIV2K_train_HR\\DIV2K_train_HR\\0343.png"
          ],
          [
           "C:\\Users\\lucas\\OneDrive - Hochschule Düsseldorf\\Uni_Drive\\DIV2k\\DIV2K_train_HR\\DIV2K_train_HR\\0344.png"
          ],
          [
           "C:\\Users\\lucas\\OneDrive - Hochschule Düsseldorf\\Uni_Drive\\DIV2k\\DIV2K_train_HR\\DIV2K_train_HR\\0345.png"
          ],
          [
           "C:\\Users\\lucas\\OneDrive - Hochschule Düsseldorf\\Uni_Drive\\DIV2k\\DIV2K_train_HR\\DIV2K_train_HR\\0346.png"
          ],
          [
           "C:\\Users\\lucas\\OneDrive - Hochschule Düsseldorf\\Uni_Drive\\DIV2k\\DIV2K_train_HR\\DIV2K_train_HR\\0347.png"
          ],
          [
           "C:\\Users\\lucas\\OneDrive - Hochschule Düsseldorf\\Uni_Drive\\DIV2k\\DIV2K_train_HR\\DIV2K_train_HR\\0348.png"
          ],
          [
           "C:\\Users\\lucas\\OneDrive - Hochschule Düsseldorf\\Uni_Drive\\DIV2k\\DIV2K_train_HR\\DIV2K_train_HR\\0349.png"
          ],
          [
           "C:\\Users\\lucas\\OneDrive - Hochschule Düsseldorf\\Uni_Drive\\DIV2k\\DIV2K_train_HR\\DIV2K_train_HR\\0350.png"
          ],
          [
           "C:\\Users\\lucas\\OneDrive - Hochschule Düsseldorf\\Uni_Drive\\DIV2k\\DIV2K_train_HR\\DIV2K_train_HR\\0351.png"
          ],
          [
           "C:\\Users\\lucas\\OneDrive - Hochschule Düsseldorf\\Uni_Drive\\DIV2k\\DIV2K_train_HR\\DIV2K_train_HR\\0352.png"
          ],
          [
           "C:\\Users\\lucas\\OneDrive - Hochschule Düsseldorf\\Uni_Drive\\DIV2k\\DIV2K_train_HR\\DIV2K_train_HR\\0353.png"
          ],
          [
           "C:\\Users\\lucas\\OneDrive - Hochschule Düsseldorf\\Uni_Drive\\DIV2k\\DIV2K_train_HR\\DIV2K_train_HR\\0354.png"
          ],
          [
           "C:\\Users\\lucas\\OneDrive - Hochschule Düsseldorf\\Uni_Drive\\DIV2k\\DIV2K_train_HR\\DIV2K_train_HR\\0355.png"
          ],
          [
           "C:\\Users\\lucas\\OneDrive - Hochschule Düsseldorf\\Uni_Drive\\DIV2k\\DIV2K_train_HR\\DIV2K_train_HR\\0356.png"
          ],
          [
           "C:\\Users\\lucas\\OneDrive - Hochschule Düsseldorf\\Uni_Drive\\DIV2k\\DIV2K_train_HR\\DIV2K_train_HR\\0357.png"
          ],
          [
           "C:\\Users\\lucas\\OneDrive - Hochschule Düsseldorf\\Uni_Drive\\DIV2k\\DIV2K_train_HR\\DIV2K_train_HR\\0358.png"
          ],
          [
           "C:\\Users\\lucas\\OneDrive - Hochschule Düsseldorf\\Uni_Drive\\DIV2k\\DIV2K_train_HR\\DIV2K_train_HR\\0359.png"
          ],
          [
           "C:\\Users\\lucas\\OneDrive - Hochschule Düsseldorf\\Uni_Drive\\DIV2k\\DIV2K_train_HR\\DIV2K_train_HR\\0360.png"
          ],
          [
           "C:\\Users\\lucas\\OneDrive - Hochschule Düsseldorf\\Uni_Drive\\DIV2k\\DIV2K_train_HR\\DIV2K_train_HR\\0361.png"
          ],
          [
           "C:\\Users\\lucas\\OneDrive - Hochschule Düsseldorf\\Uni_Drive\\DIV2k\\DIV2K_train_HR\\DIV2K_train_HR\\0362.png"
          ],
          [
           "C:\\Users\\lucas\\OneDrive - Hochschule Düsseldorf\\Uni_Drive\\DIV2k\\DIV2K_train_HR\\DIV2K_train_HR\\0363.png"
          ],
          [
           "C:\\Users\\lucas\\OneDrive - Hochschule Düsseldorf\\Uni_Drive\\DIV2k\\DIV2K_train_HR\\DIV2K_train_HR\\0364.png"
          ],
          [
           "C:\\Users\\lucas\\OneDrive - Hochschule Düsseldorf\\Uni_Drive\\DIV2k\\DIV2K_train_HR\\DIV2K_train_HR\\0365.png"
          ],
          [
           "C:\\Users\\lucas\\OneDrive - Hochschule Düsseldorf\\Uni_Drive\\DIV2k\\DIV2K_train_HR\\DIV2K_train_HR\\0366.png"
          ],
          [
           "C:\\Users\\lucas\\OneDrive - Hochschule Düsseldorf\\Uni_Drive\\DIV2k\\DIV2K_train_HR\\DIV2K_train_HR\\0367.png"
          ],
          [
           "C:\\Users\\lucas\\OneDrive - Hochschule Düsseldorf\\Uni_Drive\\DIV2k\\DIV2K_train_HR\\DIV2K_train_HR\\0368.png"
          ],
          [
           "C:\\Users\\lucas\\OneDrive - Hochschule Düsseldorf\\Uni_Drive\\DIV2k\\DIV2K_train_HR\\DIV2K_train_HR\\0369.png"
          ],
          [
           "C:\\Users\\lucas\\OneDrive - Hochschule Düsseldorf\\Uni_Drive\\DIV2k\\DIV2K_train_HR\\DIV2K_train_HR\\0370.png"
          ],
          [
           "C:\\Users\\lucas\\OneDrive - Hochschule Düsseldorf\\Uni_Drive\\DIV2k\\DIV2K_train_HR\\DIV2K_train_HR\\0371.png"
          ],
          [
           "C:\\Users\\lucas\\OneDrive - Hochschule Düsseldorf\\Uni_Drive\\DIV2k\\DIV2K_train_HR\\DIV2K_train_HR\\0372.png"
          ],
          [
           "C:\\Users\\lucas\\OneDrive - Hochschule Düsseldorf\\Uni_Drive\\DIV2k\\DIV2K_train_HR\\DIV2K_train_HR\\0373.png"
          ],
          [
           "C:\\Users\\lucas\\OneDrive - Hochschule Düsseldorf\\Uni_Drive\\DIV2k\\DIV2K_train_HR\\DIV2K_train_HR\\0374.png"
          ],
          [
           "C:\\Users\\lucas\\OneDrive - Hochschule Düsseldorf\\Uni_Drive\\DIV2k\\DIV2K_train_HR\\DIV2K_train_HR\\0375.png"
          ],
          [
           "C:\\Users\\lucas\\OneDrive - Hochschule Düsseldorf\\Uni_Drive\\DIV2k\\DIV2K_train_HR\\DIV2K_train_HR\\0376.png"
          ],
          [
           "C:\\Users\\lucas\\OneDrive - Hochschule Düsseldorf\\Uni_Drive\\DIV2k\\DIV2K_train_HR\\DIV2K_train_HR\\0377.png"
          ],
          [
           "C:\\Users\\lucas\\OneDrive - Hochschule Düsseldorf\\Uni_Drive\\DIV2k\\DIV2K_train_HR\\DIV2K_train_HR\\0378.png"
          ],
          [
           "C:\\Users\\lucas\\OneDrive - Hochschule Düsseldorf\\Uni_Drive\\DIV2k\\DIV2K_train_HR\\DIV2K_train_HR\\0379.png"
          ],
          [
           "C:\\Users\\lucas\\OneDrive - Hochschule Düsseldorf\\Uni_Drive\\DIV2k\\DIV2K_train_HR\\DIV2K_train_HR\\0380.png"
          ],
          [
           "C:\\Users\\lucas\\OneDrive - Hochschule Düsseldorf\\Uni_Drive\\DIV2k\\DIV2K_train_HR\\DIV2K_train_HR\\0381.png"
          ],
          [
           "C:\\Users\\lucas\\OneDrive - Hochschule Düsseldorf\\Uni_Drive\\DIV2k\\DIV2K_train_HR\\DIV2K_train_HR\\0382.png"
          ],
          [
           "C:\\Users\\lucas\\OneDrive - Hochschule Düsseldorf\\Uni_Drive\\DIV2k\\DIV2K_train_HR\\DIV2K_train_HR\\0383.png"
          ],
          [
           "C:\\Users\\lucas\\OneDrive - Hochschule Düsseldorf\\Uni_Drive\\DIV2k\\DIV2K_train_HR\\DIV2K_train_HR\\0384.png"
          ],
          [
           "C:\\Users\\lucas\\OneDrive - Hochschule Düsseldorf\\Uni_Drive\\DIV2k\\DIV2K_train_HR\\DIV2K_train_HR\\0385.png"
          ],
          [
           "C:\\Users\\lucas\\OneDrive - Hochschule Düsseldorf\\Uni_Drive\\DIV2k\\DIV2K_train_HR\\DIV2K_train_HR\\0386.png"
          ],
          [
           "C:\\Users\\lucas\\OneDrive - Hochschule Düsseldorf\\Uni_Drive\\DIV2k\\DIV2K_train_HR\\DIV2K_train_HR\\0387.png"
          ],
          [
           "C:\\Users\\lucas\\OneDrive - Hochschule Düsseldorf\\Uni_Drive\\DIV2k\\DIV2K_train_HR\\DIV2K_train_HR\\0388.png"
          ],
          [
           "C:\\Users\\lucas\\OneDrive - Hochschule Düsseldorf\\Uni_Drive\\DIV2k\\DIV2K_train_HR\\DIV2K_train_HR\\0389.png"
          ],
          [
           "C:\\Users\\lucas\\OneDrive - Hochschule Düsseldorf\\Uni_Drive\\DIV2k\\DIV2K_train_HR\\DIV2K_train_HR\\0390.png"
          ],
          [
           "C:\\Users\\lucas\\OneDrive - Hochschule Düsseldorf\\Uni_Drive\\DIV2k\\DIV2K_train_HR\\DIV2K_train_HR\\0391.png"
          ],
          [
           "C:\\Users\\lucas\\OneDrive - Hochschule Düsseldorf\\Uni_Drive\\DIV2k\\DIV2K_train_HR\\DIV2K_train_HR\\0392.png"
          ],
          [
           "C:\\Users\\lucas\\OneDrive - Hochschule Düsseldorf\\Uni_Drive\\DIV2k\\DIV2K_train_HR\\DIV2K_train_HR\\0393.png"
          ],
          [
           "C:\\Users\\lucas\\OneDrive - Hochschule Düsseldorf\\Uni_Drive\\DIV2k\\DIV2K_train_HR\\DIV2K_train_HR\\0394.png"
          ],
          [
           "C:\\Users\\lucas\\OneDrive - Hochschule Düsseldorf\\Uni_Drive\\DIV2k\\DIV2K_train_HR\\DIV2K_train_HR\\0395.png"
          ],
          [
           "C:\\Users\\lucas\\OneDrive - Hochschule Düsseldorf\\Uni_Drive\\DIV2k\\DIV2K_train_HR\\DIV2K_train_HR\\0396.png"
          ],
          [
           "C:\\Users\\lucas\\OneDrive - Hochschule Düsseldorf\\Uni_Drive\\DIV2k\\DIV2K_train_HR\\DIV2K_train_HR\\0397.png"
          ],
          [
           "C:\\Users\\lucas\\OneDrive - Hochschule Düsseldorf\\Uni_Drive\\DIV2k\\DIV2K_train_HR\\DIV2K_train_HR\\0398.png"
          ],
          [
           "C:\\Users\\lucas\\OneDrive - Hochschule Düsseldorf\\Uni_Drive\\DIV2k\\DIV2K_train_HR\\DIV2K_train_HR\\0399.png"
          ],
          [
           "C:\\Users\\lucas\\OneDrive - Hochschule Düsseldorf\\Uni_Drive\\DIV2k\\DIV2K_train_HR\\DIV2K_train_HR\\0400.png"
          ],
          [
           "C:\\Users\\lucas\\OneDrive - Hochschule Düsseldorf\\Uni_Drive\\DIV2k\\DIV2K_train_HR\\DIV2K_train_HR\\0401.png"
          ],
          [
           "C:\\Users\\lucas\\OneDrive - Hochschule Düsseldorf\\Uni_Drive\\DIV2k\\DIV2K_train_HR\\DIV2K_train_HR\\0402.png"
          ],
          [
           "C:\\Users\\lucas\\OneDrive - Hochschule Düsseldorf\\Uni_Drive\\DIV2k\\DIV2K_train_HR\\DIV2K_train_HR\\0403.png"
          ],
          [
           "C:\\Users\\lucas\\OneDrive - Hochschule Düsseldorf\\Uni_Drive\\DIV2k\\DIV2K_train_HR\\DIV2K_train_HR\\0404.png"
          ],
          [
           "C:\\Users\\lucas\\OneDrive - Hochschule Düsseldorf\\Uni_Drive\\DIV2k\\DIV2K_train_HR\\DIV2K_train_HR\\0405.png"
          ],
          [
           "C:\\Users\\lucas\\OneDrive - Hochschule Düsseldorf\\Uni_Drive\\DIV2k\\DIV2K_train_HR\\DIV2K_train_HR\\0406.png"
          ],
          [
           "C:\\Users\\lucas\\OneDrive - Hochschule Düsseldorf\\Uni_Drive\\DIV2k\\DIV2K_train_HR\\DIV2K_train_HR\\0407.png"
          ],
          [
           "C:\\Users\\lucas\\OneDrive - Hochschule Düsseldorf\\Uni_Drive\\DIV2k\\DIV2K_train_HR\\DIV2K_train_HR\\0408.png"
          ],
          [
           "C:\\Users\\lucas\\OneDrive - Hochschule Düsseldorf\\Uni_Drive\\DIV2k\\DIV2K_train_HR\\DIV2K_train_HR\\0409.png"
          ],
          [
           "C:\\Users\\lucas\\OneDrive - Hochschule Düsseldorf\\Uni_Drive\\DIV2k\\DIV2K_train_HR\\DIV2K_train_HR\\0410.png"
          ],
          [
           "C:\\Users\\lucas\\OneDrive - Hochschule Düsseldorf\\Uni_Drive\\DIV2k\\DIV2K_train_HR\\DIV2K_train_HR\\0411.png"
          ],
          [
           "C:\\Users\\lucas\\OneDrive - Hochschule Düsseldorf\\Uni_Drive\\DIV2k\\DIV2K_train_HR\\DIV2K_train_HR\\0412.png"
          ],
          [
           "C:\\Users\\lucas\\OneDrive - Hochschule Düsseldorf\\Uni_Drive\\DIV2k\\DIV2K_train_HR\\DIV2K_train_HR\\0413.png"
          ],
          [
           "C:\\Users\\lucas\\OneDrive - Hochschule Düsseldorf\\Uni_Drive\\DIV2k\\DIV2K_train_HR\\DIV2K_train_HR\\0414.png"
          ],
          [
           "C:\\Users\\lucas\\OneDrive - Hochschule Düsseldorf\\Uni_Drive\\DIV2k\\DIV2K_train_HR\\DIV2K_train_HR\\0415.png"
          ],
          [
           "C:\\Users\\lucas\\OneDrive - Hochschule Düsseldorf\\Uni_Drive\\DIV2k\\DIV2K_train_HR\\DIV2K_train_HR\\0416.png"
          ],
          [
           "C:\\Users\\lucas\\OneDrive - Hochschule Düsseldorf\\Uni_Drive\\DIV2k\\DIV2K_train_HR\\DIV2K_train_HR\\0417.png"
          ],
          [
           "C:\\Users\\lucas\\OneDrive - Hochschule Düsseldorf\\Uni_Drive\\DIV2k\\DIV2K_train_HR\\DIV2K_train_HR\\0418.png"
          ],
          [
           "C:\\Users\\lucas\\OneDrive - Hochschule Düsseldorf\\Uni_Drive\\DIV2k\\DIV2K_train_HR\\DIV2K_train_HR\\0419.png"
          ],
          [
           "C:\\Users\\lucas\\OneDrive - Hochschule Düsseldorf\\Uni_Drive\\DIV2k\\DIV2K_train_HR\\DIV2K_train_HR\\0420.png"
          ],
          [
           "C:\\Users\\lucas\\OneDrive - Hochschule Düsseldorf\\Uni_Drive\\DIV2k\\DIV2K_train_HR\\DIV2K_train_HR\\0421.png"
          ],
          [
           "C:\\Users\\lucas\\OneDrive - Hochschule Düsseldorf\\Uni_Drive\\DIV2k\\DIV2K_train_HR\\DIV2K_train_HR\\0422.png"
          ],
          [
           "C:\\Users\\lucas\\OneDrive - Hochschule Düsseldorf\\Uni_Drive\\DIV2k\\DIV2K_train_HR\\DIV2K_train_HR\\0423.png"
          ],
          [
           "C:\\Users\\lucas\\OneDrive - Hochschule Düsseldorf\\Uni_Drive\\DIV2k\\DIV2K_train_HR\\DIV2K_train_HR\\0424.png"
          ],
          [
           "C:\\Users\\lucas\\OneDrive - Hochschule Düsseldorf\\Uni_Drive\\DIV2k\\DIV2K_train_HR\\DIV2K_train_HR\\0425.png"
          ],
          [
           "C:\\Users\\lucas\\OneDrive - Hochschule Düsseldorf\\Uni_Drive\\DIV2k\\DIV2K_train_HR\\DIV2K_train_HR\\0426.png"
          ],
          [
           "C:\\Users\\lucas\\OneDrive - Hochschule Düsseldorf\\Uni_Drive\\DIV2k\\DIV2K_train_HR\\DIV2K_train_HR\\0427.png"
          ],
          [
           "C:\\Users\\lucas\\OneDrive - Hochschule Düsseldorf\\Uni_Drive\\DIV2k\\DIV2K_train_HR\\DIV2K_train_HR\\0428.png"
          ],
          [
           "C:\\Users\\lucas\\OneDrive - Hochschule Düsseldorf\\Uni_Drive\\DIV2k\\DIV2K_train_HR\\DIV2K_train_HR\\0429.png"
          ],
          [
           "C:\\Users\\lucas\\OneDrive - Hochschule Düsseldorf\\Uni_Drive\\DIV2k\\DIV2K_train_HR\\DIV2K_train_HR\\0430.png"
          ],
          [
           "C:\\Users\\lucas\\OneDrive - Hochschule Düsseldorf\\Uni_Drive\\DIV2k\\DIV2K_train_HR\\DIV2K_train_HR\\0431.png"
          ],
          [
           "C:\\Users\\lucas\\OneDrive - Hochschule Düsseldorf\\Uni_Drive\\DIV2k\\DIV2K_train_HR\\DIV2K_train_HR\\0432.png"
          ],
          [
           "C:\\Users\\lucas\\OneDrive - Hochschule Düsseldorf\\Uni_Drive\\DIV2k\\DIV2K_train_HR\\DIV2K_train_HR\\0433.png"
          ],
          [
           "C:\\Users\\lucas\\OneDrive - Hochschule Düsseldorf\\Uni_Drive\\DIV2k\\DIV2K_train_HR\\DIV2K_train_HR\\0434.png"
          ],
          [
           "C:\\Users\\lucas\\OneDrive - Hochschule Düsseldorf\\Uni_Drive\\DIV2k\\DIV2K_train_HR\\DIV2K_train_HR\\0435.png"
          ],
          [
           "C:\\Users\\lucas\\OneDrive - Hochschule Düsseldorf\\Uni_Drive\\DIV2k\\DIV2K_train_HR\\DIV2K_train_HR\\0436.png"
          ],
          [
           "C:\\Users\\lucas\\OneDrive - Hochschule Düsseldorf\\Uni_Drive\\DIV2k\\DIV2K_train_HR\\DIV2K_train_HR\\0437.png"
          ],
          [
           "C:\\Users\\lucas\\OneDrive - Hochschule Düsseldorf\\Uni_Drive\\DIV2k\\DIV2K_train_HR\\DIV2K_train_HR\\0438.png"
          ],
          [
           "C:\\Users\\lucas\\OneDrive - Hochschule Düsseldorf\\Uni_Drive\\DIV2k\\DIV2K_train_HR\\DIV2K_train_HR\\0439.png"
          ],
          [
           "C:\\Users\\lucas\\OneDrive - Hochschule Düsseldorf\\Uni_Drive\\DIV2k\\DIV2K_train_HR\\DIV2K_train_HR\\0440.png"
          ],
          [
           "C:\\Users\\lucas\\OneDrive - Hochschule Düsseldorf\\Uni_Drive\\DIV2k\\DIV2K_train_HR\\DIV2K_train_HR\\0441.png"
          ],
          [
           "C:\\Users\\lucas\\OneDrive - Hochschule Düsseldorf\\Uni_Drive\\DIV2k\\DIV2K_train_HR\\DIV2K_train_HR\\0442.png"
          ],
          [
           "C:\\Users\\lucas\\OneDrive - Hochschule Düsseldorf\\Uni_Drive\\DIV2k\\DIV2K_train_HR\\DIV2K_train_HR\\0443.png"
          ],
          [
           "C:\\Users\\lucas\\OneDrive - Hochschule Düsseldorf\\Uni_Drive\\DIV2k\\DIV2K_train_HR\\DIV2K_train_HR\\0444.png"
          ],
          [
           "C:\\Users\\lucas\\OneDrive - Hochschule Düsseldorf\\Uni_Drive\\DIV2k\\DIV2K_train_HR\\DIV2K_train_HR\\0445.png"
          ],
          [
           "C:\\Users\\lucas\\OneDrive - Hochschule Düsseldorf\\Uni_Drive\\DIV2k\\DIV2K_train_HR\\DIV2K_train_HR\\0446.png"
          ],
          [
           "C:\\Users\\lucas\\OneDrive - Hochschule Düsseldorf\\Uni_Drive\\DIV2k\\DIV2K_train_HR\\DIV2K_train_HR\\0447.png"
          ],
          [
           "C:\\Users\\lucas\\OneDrive - Hochschule Düsseldorf\\Uni_Drive\\DIV2k\\DIV2K_train_HR\\DIV2K_train_HR\\0448.png"
          ],
          [
           "C:\\Users\\lucas\\OneDrive - Hochschule Düsseldorf\\Uni_Drive\\DIV2k\\DIV2K_train_HR\\DIV2K_train_HR\\0449.png"
          ],
          [
           "C:\\Users\\lucas\\OneDrive - Hochschule Düsseldorf\\Uni_Drive\\DIV2k\\DIV2K_train_HR\\DIV2K_train_HR\\0450.png"
          ],
          [
           "C:\\Users\\lucas\\OneDrive - Hochschule Düsseldorf\\Uni_Drive\\DIV2k\\DIV2K_train_HR\\DIV2K_train_HR\\0451.png"
          ],
          [
           "C:\\Users\\lucas\\OneDrive - Hochschule Düsseldorf\\Uni_Drive\\DIV2k\\DIV2K_train_HR\\DIV2K_train_HR\\0452.png"
          ],
          [
           "C:\\Users\\lucas\\OneDrive - Hochschule Düsseldorf\\Uni_Drive\\DIV2k\\DIV2K_train_HR\\DIV2K_train_HR\\0453.png"
          ],
          [
           "C:\\Users\\lucas\\OneDrive - Hochschule Düsseldorf\\Uni_Drive\\DIV2k\\DIV2K_train_HR\\DIV2K_train_HR\\0454.png"
          ],
          [
           "C:\\Users\\lucas\\OneDrive - Hochschule Düsseldorf\\Uni_Drive\\DIV2k\\DIV2K_train_HR\\DIV2K_train_HR\\0455.png"
          ],
          [
           "C:\\Users\\lucas\\OneDrive - Hochschule Düsseldorf\\Uni_Drive\\DIV2k\\DIV2K_train_HR\\DIV2K_train_HR\\0456.png"
          ],
          [
           "C:\\Users\\lucas\\OneDrive - Hochschule Düsseldorf\\Uni_Drive\\DIV2k\\DIV2K_train_HR\\DIV2K_train_HR\\0457.png"
          ],
          [
           "C:\\Users\\lucas\\OneDrive - Hochschule Düsseldorf\\Uni_Drive\\DIV2k\\DIV2K_train_HR\\DIV2K_train_HR\\0458.png"
          ],
          [
           "C:\\Users\\lucas\\OneDrive - Hochschule Düsseldorf\\Uni_Drive\\DIV2k\\DIV2K_train_HR\\DIV2K_train_HR\\0459.png"
          ],
          [
           "C:\\Users\\lucas\\OneDrive - Hochschule Düsseldorf\\Uni_Drive\\DIV2k\\DIV2K_train_HR\\DIV2K_train_HR\\0460.png"
          ],
          [
           "C:\\Users\\lucas\\OneDrive - Hochschule Düsseldorf\\Uni_Drive\\DIV2k\\DIV2K_train_HR\\DIV2K_train_HR\\0461.png"
          ],
          [
           "C:\\Users\\lucas\\OneDrive - Hochschule Düsseldorf\\Uni_Drive\\DIV2k\\DIV2K_train_HR\\DIV2K_train_HR\\0462.png"
          ],
          [
           "C:\\Users\\lucas\\OneDrive - Hochschule Düsseldorf\\Uni_Drive\\DIV2k\\DIV2K_train_HR\\DIV2K_train_HR\\0463.png"
          ],
          [
           "C:\\Users\\lucas\\OneDrive - Hochschule Düsseldorf\\Uni_Drive\\DIV2k\\DIV2K_train_HR\\DIV2K_train_HR\\0464.png"
          ],
          [
           "C:\\Users\\lucas\\OneDrive - Hochschule Düsseldorf\\Uni_Drive\\DIV2k\\DIV2K_train_HR\\DIV2K_train_HR\\0465.png"
          ],
          [
           "C:\\Users\\lucas\\OneDrive - Hochschule Düsseldorf\\Uni_Drive\\DIV2k\\DIV2K_train_HR\\DIV2K_train_HR\\0466.png"
          ],
          [
           "C:\\Users\\lucas\\OneDrive - Hochschule Düsseldorf\\Uni_Drive\\DIV2k\\DIV2K_train_HR\\DIV2K_train_HR\\0467.png"
          ],
          [
           "C:\\Users\\lucas\\OneDrive - Hochschule Düsseldorf\\Uni_Drive\\DIV2k\\DIV2K_train_HR\\DIV2K_train_HR\\0468.png"
          ],
          [
           "C:\\Users\\lucas\\OneDrive - Hochschule Düsseldorf\\Uni_Drive\\DIV2k\\DIV2K_train_HR\\DIV2K_train_HR\\0469.png"
          ],
          [
           "C:\\Users\\lucas\\OneDrive - Hochschule Düsseldorf\\Uni_Drive\\DIV2k\\DIV2K_train_HR\\DIV2K_train_HR\\0470.png"
          ],
          [
           "C:\\Users\\lucas\\OneDrive - Hochschule Düsseldorf\\Uni_Drive\\DIV2k\\DIV2K_train_HR\\DIV2K_train_HR\\0471.png"
          ],
          [
           "C:\\Users\\lucas\\OneDrive - Hochschule Düsseldorf\\Uni_Drive\\DIV2k\\DIV2K_train_HR\\DIV2K_train_HR\\0472.png"
          ],
          [
           "C:\\Users\\lucas\\OneDrive - Hochschule Düsseldorf\\Uni_Drive\\DIV2k\\DIV2K_train_HR\\DIV2K_train_HR\\0473.png"
          ],
          [
           "C:\\Users\\lucas\\OneDrive - Hochschule Düsseldorf\\Uni_Drive\\DIV2k\\DIV2K_train_HR\\DIV2K_train_HR\\0474.png"
          ],
          [
           "C:\\Users\\lucas\\OneDrive - Hochschule Düsseldorf\\Uni_Drive\\DIV2k\\DIV2K_train_HR\\DIV2K_train_HR\\0475.png"
          ],
          [
           "C:\\Users\\lucas\\OneDrive - Hochschule Düsseldorf\\Uni_Drive\\DIV2k\\DIV2K_train_HR\\DIV2K_train_HR\\0476.png"
          ],
          [
           "C:\\Users\\lucas\\OneDrive - Hochschule Düsseldorf\\Uni_Drive\\DIV2k\\DIV2K_train_HR\\DIV2K_train_HR\\0477.png"
          ],
          [
           "C:\\Users\\lucas\\OneDrive - Hochschule Düsseldorf\\Uni_Drive\\DIV2k\\DIV2K_train_HR\\DIV2K_train_HR\\0478.png"
          ],
          [
           "C:\\Users\\lucas\\OneDrive - Hochschule Düsseldorf\\Uni_Drive\\DIV2k\\DIV2K_train_HR\\DIV2K_train_HR\\0479.png"
          ],
          [
           "C:\\Users\\lucas\\OneDrive - Hochschule Düsseldorf\\Uni_Drive\\DIV2k\\DIV2K_train_HR\\DIV2K_train_HR\\0480.png"
          ],
          [
           "C:\\Users\\lucas\\OneDrive - Hochschule Düsseldorf\\Uni_Drive\\DIV2k\\DIV2K_train_HR\\DIV2K_train_HR\\0481.png"
          ],
          [
           "C:\\Users\\lucas\\OneDrive - Hochschule Düsseldorf\\Uni_Drive\\DIV2k\\DIV2K_train_HR\\DIV2K_train_HR\\0482.png"
          ],
          [
           "C:\\Users\\lucas\\OneDrive - Hochschule Düsseldorf\\Uni_Drive\\DIV2k\\DIV2K_train_HR\\DIV2K_train_HR\\0483.png"
          ],
          [
           "C:\\Users\\lucas\\OneDrive - Hochschule Düsseldorf\\Uni_Drive\\DIV2k\\DIV2K_train_HR\\DIV2K_train_HR\\0484.png"
          ],
          [
           "C:\\Users\\lucas\\OneDrive - Hochschule Düsseldorf\\Uni_Drive\\DIV2k\\DIV2K_train_HR\\DIV2K_train_HR\\0485.png"
          ],
          [
           "C:\\Users\\lucas\\OneDrive - Hochschule Düsseldorf\\Uni_Drive\\DIV2k\\DIV2K_train_HR\\DIV2K_train_HR\\0486.png"
          ],
          [
           "C:\\Users\\lucas\\OneDrive - Hochschule Düsseldorf\\Uni_Drive\\DIV2k\\DIV2K_train_HR\\DIV2K_train_HR\\0487.png"
          ],
          [
           "C:\\Users\\lucas\\OneDrive - Hochschule Düsseldorf\\Uni_Drive\\DIV2k\\DIV2K_train_HR\\DIV2K_train_HR\\0488.png"
          ],
          [
           "C:\\Users\\lucas\\OneDrive - Hochschule Düsseldorf\\Uni_Drive\\DIV2k\\DIV2K_train_HR\\DIV2K_train_HR\\0489.png"
          ],
          [
           "C:\\Users\\lucas\\OneDrive - Hochschule Düsseldorf\\Uni_Drive\\DIV2k\\DIV2K_train_HR\\DIV2K_train_HR\\0490.png"
          ],
          [
           "C:\\Users\\lucas\\OneDrive - Hochschule Düsseldorf\\Uni_Drive\\DIV2k\\DIV2K_train_HR\\DIV2K_train_HR\\0491.png"
          ],
          [
           "C:\\Users\\lucas\\OneDrive - Hochschule Düsseldorf\\Uni_Drive\\DIV2k\\DIV2K_train_HR\\DIV2K_train_HR\\0492.png"
          ],
          [
           "C:\\Users\\lucas\\OneDrive - Hochschule Düsseldorf\\Uni_Drive\\DIV2k\\DIV2K_train_HR\\DIV2K_train_HR\\0493.png"
          ],
          [
           "C:\\Users\\lucas\\OneDrive - Hochschule Düsseldorf\\Uni_Drive\\DIV2k\\DIV2K_train_HR\\DIV2K_train_HR\\0494.png"
          ],
          [
           "C:\\Users\\lucas\\OneDrive - Hochschule Düsseldorf\\Uni_Drive\\DIV2k\\DIV2K_train_HR\\DIV2K_train_HR\\0495.png"
          ],
          [
           "C:\\Users\\lucas\\OneDrive - Hochschule Düsseldorf\\Uni_Drive\\DIV2k\\DIV2K_train_HR\\DIV2K_train_HR\\0496.png"
          ],
          [
           "C:\\Users\\lucas\\OneDrive - Hochschule Düsseldorf\\Uni_Drive\\DIV2k\\DIV2K_train_HR\\DIV2K_train_HR\\0497.png"
          ],
          [
           "C:\\Users\\lucas\\OneDrive - Hochschule Düsseldorf\\Uni_Drive\\DIV2k\\DIV2K_train_HR\\DIV2K_train_HR\\0498.png"
          ],
          [
           "C:\\Users\\lucas\\OneDrive - Hochschule Düsseldorf\\Uni_Drive\\DIV2k\\DIV2K_train_HR\\DIV2K_train_HR\\0499.png"
          ],
          [
           "C:\\Users\\lucas\\OneDrive - Hochschule Düsseldorf\\Uni_Drive\\DIV2k\\DIV2K_train_HR\\DIV2K_train_HR\\0500.png"
          ],
          [
           "C:\\Users\\lucas\\OneDrive - Hochschule Düsseldorf\\Uni_Drive\\DIV2k\\DIV2K_train_HR\\DIV2K_train_HR\\0501.png"
          ],
          [
           "C:\\Users\\lucas\\OneDrive - Hochschule Düsseldorf\\Uni_Drive\\DIV2k\\DIV2K_train_HR\\DIV2K_train_HR\\0502.png"
          ],
          [
           "C:\\Users\\lucas\\OneDrive - Hochschule Düsseldorf\\Uni_Drive\\DIV2k\\DIV2K_train_HR\\DIV2K_train_HR\\0503.png"
          ],
          [
           "C:\\Users\\lucas\\OneDrive - Hochschule Düsseldorf\\Uni_Drive\\DIV2k\\DIV2K_train_HR\\DIV2K_train_HR\\0504.png"
          ],
          [
           "C:\\Users\\lucas\\OneDrive - Hochschule Düsseldorf\\Uni_Drive\\DIV2k\\DIV2K_train_HR\\DIV2K_train_HR\\0505.png"
          ],
          [
           "C:\\Users\\lucas\\OneDrive - Hochschule Düsseldorf\\Uni_Drive\\DIV2k\\DIV2K_train_HR\\DIV2K_train_HR\\0506.png"
          ],
          [
           "C:\\Users\\lucas\\OneDrive - Hochschule Düsseldorf\\Uni_Drive\\DIV2k\\DIV2K_train_HR\\DIV2K_train_HR\\0507.png"
          ],
          [
           "C:\\Users\\lucas\\OneDrive - Hochschule Düsseldorf\\Uni_Drive\\DIV2k\\DIV2K_train_HR\\DIV2K_train_HR\\0508.png"
          ],
          [
           "C:\\Users\\lucas\\OneDrive - Hochschule Düsseldorf\\Uni_Drive\\DIV2k\\DIV2K_train_HR\\DIV2K_train_HR\\0509.png"
          ],
          [
           "C:\\Users\\lucas\\OneDrive - Hochschule Düsseldorf\\Uni_Drive\\DIV2k\\DIV2K_train_HR\\DIV2K_train_HR\\0510.png"
          ],
          [
           "C:\\Users\\lucas\\OneDrive - Hochschule Düsseldorf\\Uni_Drive\\DIV2k\\DIV2K_train_HR\\DIV2K_train_HR\\0511.png"
          ],
          [
           "C:\\Users\\lucas\\OneDrive - Hochschule Düsseldorf\\Uni_Drive\\DIV2k\\DIV2K_train_HR\\DIV2K_train_HR\\0512.png"
          ],
          [
           "C:\\Users\\lucas\\OneDrive - Hochschule Düsseldorf\\Uni_Drive\\DIV2k\\DIV2K_train_HR\\DIV2K_train_HR\\0513.png"
          ],
          [
           "C:\\Users\\lucas\\OneDrive - Hochschule Düsseldorf\\Uni_Drive\\DIV2k\\DIV2K_train_HR\\DIV2K_train_HR\\0514.png"
          ],
          [
           "C:\\Users\\lucas\\OneDrive - Hochschule Düsseldorf\\Uni_Drive\\DIV2k\\DIV2K_train_HR\\DIV2K_train_HR\\0515.png"
          ],
          [
           "C:\\Users\\lucas\\OneDrive - Hochschule Düsseldorf\\Uni_Drive\\DIV2k\\DIV2K_train_HR\\DIV2K_train_HR\\0516.png"
          ],
          [
           "C:\\Users\\lucas\\OneDrive - Hochschule Düsseldorf\\Uni_Drive\\DIV2k\\DIV2K_train_HR\\DIV2K_train_HR\\0517.png"
          ],
          [
           "C:\\Users\\lucas\\OneDrive - Hochschule Düsseldorf\\Uni_Drive\\DIV2k\\DIV2K_train_HR\\DIV2K_train_HR\\0518.png"
          ],
          [
           "C:\\Users\\lucas\\OneDrive - Hochschule Düsseldorf\\Uni_Drive\\DIV2k\\DIV2K_train_HR\\DIV2K_train_HR\\0519.png"
          ],
          [
           "C:\\Users\\lucas\\OneDrive - Hochschule Düsseldorf\\Uni_Drive\\DIV2k\\DIV2K_train_HR\\DIV2K_train_HR\\0520.png"
          ],
          [
           "C:\\Users\\lucas\\OneDrive - Hochschule Düsseldorf\\Uni_Drive\\DIV2k\\DIV2K_train_HR\\DIV2K_train_HR\\0521.png"
          ],
          [
           "C:\\Users\\lucas\\OneDrive - Hochschule Düsseldorf\\Uni_Drive\\DIV2k\\DIV2K_train_HR\\DIV2K_train_HR\\0522.png"
          ],
          [
           "C:\\Users\\lucas\\OneDrive - Hochschule Düsseldorf\\Uni_Drive\\DIV2k\\DIV2K_train_HR\\DIV2K_train_HR\\0523.png"
          ],
          [
           "C:\\Users\\lucas\\OneDrive - Hochschule Düsseldorf\\Uni_Drive\\DIV2k\\DIV2K_train_HR\\DIV2K_train_HR\\0524.png"
          ],
          [
           "C:\\Users\\lucas\\OneDrive - Hochschule Düsseldorf\\Uni_Drive\\DIV2k\\DIV2K_train_HR\\DIV2K_train_HR\\0525.png"
          ],
          [
           "C:\\Users\\lucas\\OneDrive - Hochschule Düsseldorf\\Uni_Drive\\DIV2k\\DIV2K_train_HR\\DIV2K_train_HR\\0526.png"
          ],
          [
           "C:\\Users\\lucas\\OneDrive - Hochschule Düsseldorf\\Uni_Drive\\DIV2k\\DIV2K_train_HR\\DIV2K_train_HR\\0527.png"
          ],
          [
           "C:\\Users\\lucas\\OneDrive - Hochschule Düsseldorf\\Uni_Drive\\DIV2k\\DIV2K_train_HR\\DIV2K_train_HR\\0528.png"
          ],
          [
           "C:\\Users\\lucas\\OneDrive - Hochschule Düsseldorf\\Uni_Drive\\DIV2k\\DIV2K_train_HR\\DIV2K_train_HR\\0529.png"
          ],
          [
           "C:\\Users\\lucas\\OneDrive - Hochschule Düsseldorf\\Uni_Drive\\DIV2k\\DIV2K_train_HR\\DIV2K_train_HR\\0530.png"
          ],
          [
           "C:\\Users\\lucas\\OneDrive - Hochschule Düsseldorf\\Uni_Drive\\DIV2k\\DIV2K_train_HR\\DIV2K_train_HR\\0531.png"
          ],
          [
           "C:\\Users\\lucas\\OneDrive - Hochschule Düsseldorf\\Uni_Drive\\DIV2k\\DIV2K_train_HR\\DIV2K_train_HR\\0532.png"
          ],
          [
           "C:\\Users\\lucas\\OneDrive - Hochschule Düsseldorf\\Uni_Drive\\DIV2k\\DIV2K_train_HR\\DIV2K_train_HR\\0533.png"
          ],
          [
           "C:\\Users\\lucas\\OneDrive - Hochschule Düsseldorf\\Uni_Drive\\DIV2k\\DIV2K_train_HR\\DIV2K_train_HR\\0534.png"
          ],
          [
           "C:\\Users\\lucas\\OneDrive - Hochschule Düsseldorf\\Uni_Drive\\DIV2k\\DIV2K_train_HR\\DIV2K_train_HR\\0535.png"
          ],
          [
           "C:\\Users\\lucas\\OneDrive - Hochschule Düsseldorf\\Uni_Drive\\DIV2k\\DIV2K_train_HR\\DIV2K_train_HR\\0536.png"
          ],
          [
           "C:\\Users\\lucas\\OneDrive - Hochschule Düsseldorf\\Uni_Drive\\DIV2k\\DIV2K_train_HR\\DIV2K_train_HR\\0537.png"
          ],
          [
           "C:\\Users\\lucas\\OneDrive - Hochschule Düsseldorf\\Uni_Drive\\DIV2k\\DIV2K_train_HR\\DIV2K_train_HR\\0538.png"
          ],
          [
           "C:\\Users\\lucas\\OneDrive - Hochschule Düsseldorf\\Uni_Drive\\DIV2k\\DIV2K_train_HR\\DIV2K_train_HR\\0539.png"
          ],
          [
           "C:\\Users\\lucas\\OneDrive - Hochschule Düsseldorf\\Uni_Drive\\DIV2k\\DIV2K_train_HR\\DIV2K_train_HR\\0540.png"
          ],
          [
           "C:\\Users\\lucas\\OneDrive - Hochschule Düsseldorf\\Uni_Drive\\DIV2k\\DIV2K_train_HR\\DIV2K_train_HR\\0541.png"
          ],
          [
           "C:\\Users\\lucas\\OneDrive - Hochschule Düsseldorf\\Uni_Drive\\DIV2k\\DIV2K_train_HR\\DIV2K_train_HR\\0542.png"
          ],
          [
           "C:\\Users\\lucas\\OneDrive - Hochschule Düsseldorf\\Uni_Drive\\DIV2k\\DIV2K_train_HR\\DIV2K_train_HR\\0543.png"
          ],
          [
           "C:\\Users\\lucas\\OneDrive - Hochschule Düsseldorf\\Uni_Drive\\DIV2k\\DIV2K_train_HR\\DIV2K_train_HR\\0544.png"
          ],
          [
           "C:\\Users\\lucas\\OneDrive - Hochschule Düsseldorf\\Uni_Drive\\DIV2k\\DIV2K_train_HR\\DIV2K_train_HR\\0545.png"
          ],
          [
           "C:\\Users\\lucas\\OneDrive - Hochschule Düsseldorf\\Uni_Drive\\DIV2k\\DIV2K_train_HR\\DIV2K_train_HR\\0546.png"
          ],
          [
           "C:\\Users\\lucas\\OneDrive - Hochschule Düsseldorf\\Uni_Drive\\DIV2k\\DIV2K_train_HR\\DIV2K_train_HR\\0547.png"
          ],
          [
           "C:\\Users\\lucas\\OneDrive - Hochschule Düsseldorf\\Uni_Drive\\DIV2k\\DIV2K_train_HR\\DIV2K_train_HR\\0548.png"
          ],
          [
           "C:\\Users\\lucas\\OneDrive - Hochschule Düsseldorf\\Uni_Drive\\DIV2k\\DIV2K_train_HR\\DIV2K_train_HR\\0549.png"
          ],
          [
           "C:\\Users\\lucas\\OneDrive - Hochschule Düsseldorf\\Uni_Drive\\DIV2k\\DIV2K_train_HR\\DIV2K_train_HR\\0550.png"
          ],
          [
           "C:\\Users\\lucas\\OneDrive - Hochschule Düsseldorf\\Uni_Drive\\DIV2k\\DIV2K_train_HR\\DIV2K_train_HR\\0551.png"
          ],
          [
           "C:\\Users\\lucas\\OneDrive - Hochschule Düsseldorf\\Uni_Drive\\DIV2k\\DIV2K_train_HR\\DIV2K_train_HR\\0552.png"
          ],
          [
           "C:\\Users\\lucas\\OneDrive - Hochschule Düsseldorf\\Uni_Drive\\DIV2k\\DIV2K_train_HR\\DIV2K_train_HR\\0553.png"
          ],
          [
           "C:\\Users\\lucas\\OneDrive - Hochschule Düsseldorf\\Uni_Drive\\DIV2k\\DIV2K_train_HR\\DIV2K_train_HR\\0554.png"
          ],
          [
           "C:\\Users\\lucas\\OneDrive - Hochschule Düsseldorf\\Uni_Drive\\DIV2k\\DIV2K_train_HR\\DIV2K_train_HR\\0555.png"
          ],
          [
           "C:\\Users\\lucas\\OneDrive - Hochschule Düsseldorf\\Uni_Drive\\DIV2k\\DIV2K_train_HR\\DIV2K_train_HR\\0556.png"
          ],
          [
           "C:\\Users\\lucas\\OneDrive - Hochschule Düsseldorf\\Uni_Drive\\DIV2k\\DIV2K_train_HR\\DIV2K_train_HR\\0557.png"
          ],
          [
           "C:\\Users\\lucas\\OneDrive - Hochschule Düsseldorf\\Uni_Drive\\DIV2k\\DIV2K_train_HR\\DIV2K_train_HR\\0558.png"
          ],
          [
           "C:\\Users\\lucas\\OneDrive - Hochschule Düsseldorf\\Uni_Drive\\DIV2k\\DIV2K_train_HR\\DIV2K_train_HR\\0559.png"
          ],
          [
           "C:\\Users\\lucas\\OneDrive - Hochschule Düsseldorf\\Uni_Drive\\DIV2k\\DIV2K_train_HR\\DIV2K_train_HR\\0560.png"
          ],
          [
           "C:\\Users\\lucas\\OneDrive - Hochschule Düsseldorf\\Uni_Drive\\DIV2k\\DIV2K_train_HR\\DIV2K_train_HR\\0561.png"
          ],
          [
           "C:\\Users\\lucas\\OneDrive - Hochschule Düsseldorf\\Uni_Drive\\DIV2k\\DIV2K_train_HR\\DIV2K_train_HR\\0562.png"
          ],
          [
           "C:\\Users\\lucas\\OneDrive - Hochschule Düsseldorf\\Uni_Drive\\DIV2k\\DIV2K_train_HR\\DIV2K_train_HR\\0563.png"
          ],
          [
           "C:\\Users\\lucas\\OneDrive - Hochschule Düsseldorf\\Uni_Drive\\DIV2k\\DIV2K_train_HR\\DIV2K_train_HR\\0564.png"
          ],
          [
           "C:\\Users\\lucas\\OneDrive - Hochschule Düsseldorf\\Uni_Drive\\DIV2k\\DIV2K_train_HR\\DIV2K_train_HR\\0565.png"
          ],
          [
           "C:\\Users\\lucas\\OneDrive - Hochschule Düsseldorf\\Uni_Drive\\DIV2k\\DIV2K_train_HR\\DIV2K_train_HR\\0566.png"
          ],
          [
           "C:\\Users\\lucas\\OneDrive - Hochschule Düsseldorf\\Uni_Drive\\DIV2k\\DIV2K_train_HR\\DIV2K_train_HR\\0567.png"
          ],
          [
           "C:\\Users\\lucas\\OneDrive - Hochschule Düsseldorf\\Uni_Drive\\DIV2k\\DIV2K_train_HR\\DIV2K_train_HR\\0568.png"
          ],
          [
           "C:\\Users\\lucas\\OneDrive - Hochschule Düsseldorf\\Uni_Drive\\DIV2k\\DIV2K_train_HR\\DIV2K_train_HR\\0569.png"
          ],
          [
           "C:\\Users\\lucas\\OneDrive - Hochschule Düsseldorf\\Uni_Drive\\DIV2k\\DIV2K_train_HR\\DIV2K_train_HR\\0570.png"
          ],
          [
           "C:\\Users\\lucas\\OneDrive - Hochschule Düsseldorf\\Uni_Drive\\DIV2k\\DIV2K_train_HR\\DIV2K_train_HR\\0571.png"
          ],
          [
           "C:\\Users\\lucas\\OneDrive - Hochschule Düsseldorf\\Uni_Drive\\DIV2k\\DIV2K_train_HR\\DIV2K_train_HR\\0572.png"
          ],
          [
           "C:\\Users\\lucas\\OneDrive - Hochschule Düsseldorf\\Uni_Drive\\DIV2k\\DIV2K_train_HR\\DIV2K_train_HR\\0573.png"
          ],
          [
           "C:\\Users\\lucas\\OneDrive - Hochschule Düsseldorf\\Uni_Drive\\DIV2k\\DIV2K_train_HR\\DIV2K_train_HR\\0574.png"
          ],
          [
           "C:\\Users\\lucas\\OneDrive - Hochschule Düsseldorf\\Uni_Drive\\DIV2k\\DIV2K_train_HR\\DIV2K_train_HR\\0575.png"
          ],
          [
           "C:\\Users\\lucas\\OneDrive - Hochschule Düsseldorf\\Uni_Drive\\DIV2k\\DIV2K_train_HR\\DIV2K_train_HR\\0576.png"
          ],
          [
           "C:\\Users\\lucas\\OneDrive - Hochschule Düsseldorf\\Uni_Drive\\DIV2k\\DIV2K_train_HR\\DIV2K_train_HR\\0577.png"
          ],
          [
           "C:\\Users\\lucas\\OneDrive - Hochschule Düsseldorf\\Uni_Drive\\DIV2k\\DIV2K_train_HR\\DIV2K_train_HR\\0578.png"
          ],
          [
           "C:\\Users\\lucas\\OneDrive - Hochschule Düsseldorf\\Uni_Drive\\DIV2k\\DIV2K_train_HR\\DIV2K_train_HR\\0579.png"
          ],
          [
           "C:\\Users\\lucas\\OneDrive - Hochschule Düsseldorf\\Uni_Drive\\DIV2k\\DIV2K_train_HR\\DIV2K_train_HR\\0580.png"
          ],
          [
           "C:\\Users\\lucas\\OneDrive - Hochschule Düsseldorf\\Uni_Drive\\DIV2k\\DIV2K_train_HR\\DIV2K_train_HR\\0581.png"
          ],
          [
           "C:\\Users\\lucas\\OneDrive - Hochschule Düsseldorf\\Uni_Drive\\DIV2k\\DIV2K_train_HR\\DIV2K_train_HR\\0582.png"
          ],
          [
           "C:\\Users\\lucas\\OneDrive - Hochschule Düsseldorf\\Uni_Drive\\DIV2k\\DIV2K_train_HR\\DIV2K_train_HR\\0583.png"
          ],
          [
           "C:\\Users\\lucas\\OneDrive - Hochschule Düsseldorf\\Uni_Drive\\DIV2k\\DIV2K_train_HR\\DIV2K_train_HR\\0584.png"
          ],
          [
           "C:\\Users\\lucas\\OneDrive - Hochschule Düsseldorf\\Uni_Drive\\DIV2k\\DIV2K_train_HR\\DIV2K_train_HR\\0585.png"
          ],
          [
           "C:\\Users\\lucas\\OneDrive - Hochschule Düsseldorf\\Uni_Drive\\DIV2k\\DIV2K_train_HR\\DIV2K_train_HR\\0586.png"
          ],
          [
           "C:\\Users\\lucas\\OneDrive - Hochschule Düsseldorf\\Uni_Drive\\DIV2k\\DIV2K_train_HR\\DIV2K_train_HR\\0587.png"
          ],
          [
           "C:\\Users\\lucas\\OneDrive - Hochschule Düsseldorf\\Uni_Drive\\DIV2k\\DIV2K_train_HR\\DIV2K_train_HR\\0588.png"
          ],
          [
           "C:\\Users\\lucas\\OneDrive - Hochschule Düsseldorf\\Uni_Drive\\DIV2k\\DIV2K_train_HR\\DIV2K_train_HR\\0589.png"
          ],
          [
           "C:\\Users\\lucas\\OneDrive - Hochschule Düsseldorf\\Uni_Drive\\DIV2k\\DIV2K_train_HR\\DIV2K_train_HR\\0590.png"
          ],
          [
           "C:\\Users\\lucas\\OneDrive - Hochschule Düsseldorf\\Uni_Drive\\DIV2k\\DIV2K_train_HR\\DIV2K_train_HR\\0591.png"
          ],
          [
           "C:\\Users\\lucas\\OneDrive - Hochschule Düsseldorf\\Uni_Drive\\DIV2k\\DIV2K_train_HR\\DIV2K_train_HR\\0592.png"
          ],
          [
           "C:\\Users\\lucas\\OneDrive - Hochschule Düsseldorf\\Uni_Drive\\DIV2k\\DIV2K_train_HR\\DIV2K_train_HR\\0593.png"
          ],
          [
           "C:\\Users\\lucas\\OneDrive - Hochschule Düsseldorf\\Uni_Drive\\DIV2k\\DIV2K_train_HR\\DIV2K_train_HR\\0594.png"
          ],
          [
           "C:\\Users\\lucas\\OneDrive - Hochschule Düsseldorf\\Uni_Drive\\DIV2k\\DIV2K_train_HR\\DIV2K_train_HR\\0595.png"
          ],
          [
           "C:\\Users\\lucas\\OneDrive - Hochschule Düsseldorf\\Uni_Drive\\DIV2k\\DIV2K_train_HR\\DIV2K_train_HR\\0596.png"
          ],
          [
           "C:\\Users\\lucas\\OneDrive - Hochschule Düsseldorf\\Uni_Drive\\DIV2k\\DIV2K_train_HR\\DIV2K_train_HR\\0597.png"
          ],
          [
           "C:\\Users\\lucas\\OneDrive - Hochschule Düsseldorf\\Uni_Drive\\DIV2k\\DIV2K_train_HR\\DIV2K_train_HR\\0598.png"
          ],
          [
           "C:\\Users\\lucas\\OneDrive - Hochschule Düsseldorf\\Uni_Drive\\DIV2k\\DIV2K_train_HR\\DIV2K_train_HR\\0599.png"
          ],
          [
           "C:\\Users\\lucas\\OneDrive - Hochschule Düsseldorf\\Uni_Drive\\DIV2k\\DIV2K_train_HR\\DIV2K_train_HR\\0600.png"
          ],
          [
           "C:\\Users\\lucas\\OneDrive - Hochschule Düsseldorf\\Uni_Drive\\DIV2k\\DIV2K_train_HR\\DIV2K_train_HR\\0601.png"
          ],
          [
           "C:\\Users\\lucas\\OneDrive - Hochschule Düsseldorf\\Uni_Drive\\DIV2k\\DIV2K_train_HR\\DIV2K_train_HR\\0602.png"
          ],
          [
           "C:\\Users\\lucas\\OneDrive - Hochschule Düsseldorf\\Uni_Drive\\DIV2k\\DIV2K_train_HR\\DIV2K_train_HR\\0603.png"
          ],
          [
           "C:\\Users\\lucas\\OneDrive - Hochschule Düsseldorf\\Uni_Drive\\DIV2k\\DIV2K_train_HR\\DIV2K_train_HR\\0604.png"
          ],
          [
           "C:\\Users\\lucas\\OneDrive - Hochschule Düsseldorf\\Uni_Drive\\DIV2k\\DIV2K_train_HR\\DIV2K_train_HR\\0605.png"
          ],
          [
           "C:\\Users\\lucas\\OneDrive - Hochschule Düsseldorf\\Uni_Drive\\DIV2k\\DIV2K_train_HR\\DIV2K_train_HR\\0606.png"
          ],
          [
           "C:\\Users\\lucas\\OneDrive - Hochschule Düsseldorf\\Uni_Drive\\DIV2k\\DIV2K_train_HR\\DIV2K_train_HR\\0607.png"
          ],
          [
           "C:\\Users\\lucas\\OneDrive - Hochschule Düsseldorf\\Uni_Drive\\DIV2k\\DIV2K_train_HR\\DIV2K_train_HR\\0608.png"
          ],
          [
           "C:\\Users\\lucas\\OneDrive - Hochschule Düsseldorf\\Uni_Drive\\DIV2k\\DIV2K_train_HR\\DIV2K_train_HR\\0609.png"
          ],
          [
           "C:\\Users\\lucas\\OneDrive - Hochschule Düsseldorf\\Uni_Drive\\DIV2k\\DIV2K_train_HR\\DIV2K_train_HR\\0610.png"
          ],
          [
           "C:\\Users\\lucas\\OneDrive - Hochschule Düsseldorf\\Uni_Drive\\DIV2k\\DIV2K_train_HR\\DIV2K_train_HR\\0611.png"
          ],
          [
           "C:\\Users\\lucas\\OneDrive - Hochschule Düsseldorf\\Uni_Drive\\DIV2k\\DIV2K_train_HR\\DIV2K_train_HR\\0612.png"
          ],
          [
           "C:\\Users\\lucas\\OneDrive - Hochschule Düsseldorf\\Uni_Drive\\DIV2k\\DIV2K_train_HR\\DIV2K_train_HR\\0613.png"
          ],
          [
           "C:\\Users\\lucas\\OneDrive - Hochschule Düsseldorf\\Uni_Drive\\DIV2k\\DIV2K_train_HR\\DIV2K_train_HR\\0614.png"
          ],
          [
           "C:\\Users\\lucas\\OneDrive - Hochschule Düsseldorf\\Uni_Drive\\DIV2k\\DIV2K_train_HR\\DIV2K_train_HR\\0615.png"
          ],
          [
           "C:\\Users\\lucas\\OneDrive - Hochschule Düsseldorf\\Uni_Drive\\DIV2k\\DIV2K_train_HR\\DIV2K_train_HR\\0616.png"
          ],
          [
           "C:\\Users\\lucas\\OneDrive - Hochschule Düsseldorf\\Uni_Drive\\DIV2k\\DIV2K_train_HR\\DIV2K_train_HR\\0617.png"
          ],
          [
           "C:\\Users\\lucas\\OneDrive - Hochschule Düsseldorf\\Uni_Drive\\DIV2k\\DIV2K_train_HR\\DIV2K_train_HR\\0618.png"
          ],
          [
           "C:\\Users\\lucas\\OneDrive - Hochschule Düsseldorf\\Uni_Drive\\DIV2k\\DIV2K_train_HR\\DIV2K_train_HR\\0619.png"
          ],
          [
           "C:\\Users\\lucas\\OneDrive - Hochschule Düsseldorf\\Uni_Drive\\DIV2k\\DIV2K_train_HR\\DIV2K_train_HR\\0620.png"
          ],
          [
           "C:\\Users\\lucas\\OneDrive - Hochschule Düsseldorf\\Uni_Drive\\DIV2k\\DIV2K_train_HR\\DIV2K_train_HR\\0621.png"
          ],
          [
           "C:\\Users\\lucas\\OneDrive - Hochschule Düsseldorf\\Uni_Drive\\DIV2k\\DIV2K_train_HR\\DIV2K_train_HR\\0622.png"
          ],
          [
           "C:\\Users\\lucas\\OneDrive - Hochschule Düsseldorf\\Uni_Drive\\DIV2k\\DIV2K_train_HR\\DIV2K_train_HR\\0623.png"
          ],
          [
           "C:\\Users\\lucas\\OneDrive - Hochschule Düsseldorf\\Uni_Drive\\DIV2k\\DIV2K_train_HR\\DIV2K_train_HR\\0624.png"
          ],
          [
           "C:\\Users\\lucas\\OneDrive - Hochschule Düsseldorf\\Uni_Drive\\DIV2k\\DIV2K_train_HR\\DIV2K_train_HR\\0625.png"
          ],
          [
           "C:\\Users\\lucas\\OneDrive - Hochschule Düsseldorf\\Uni_Drive\\DIV2k\\DIV2K_train_HR\\DIV2K_train_HR\\0626.png"
          ],
          [
           "C:\\Users\\lucas\\OneDrive - Hochschule Düsseldorf\\Uni_Drive\\DIV2k\\DIV2K_train_HR\\DIV2K_train_HR\\0627.png"
          ],
          [
           "C:\\Users\\lucas\\OneDrive - Hochschule Düsseldorf\\Uni_Drive\\DIV2k\\DIV2K_train_HR\\DIV2K_train_HR\\0628.png"
          ],
          [
           "C:\\Users\\lucas\\OneDrive - Hochschule Düsseldorf\\Uni_Drive\\DIV2k\\DIV2K_train_HR\\DIV2K_train_HR\\0629.png"
          ],
          [
           "C:\\Users\\lucas\\OneDrive - Hochschule Düsseldorf\\Uni_Drive\\DIV2k\\DIV2K_train_HR\\DIV2K_train_HR\\0630.png"
          ],
          [
           "C:\\Users\\lucas\\OneDrive - Hochschule Düsseldorf\\Uni_Drive\\DIV2k\\DIV2K_train_HR\\DIV2K_train_HR\\0631.png"
          ],
          [
           "C:\\Users\\lucas\\OneDrive - Hochschule Düsseldorf\\Uni_Drive\\DIV2k\\DIV2K_train_HR\\DIV2K_train_HR\\0632.png"
          ],
          [
           "C:\\Users\\lucas\\OneDrive - Hochschule Düsseldorf\\Uni_Drive\\DIV2k\\DIV2K_train_HR\\DIV2K_train_HR\\0633.png"
          ],
          [
           "C:\\Users\\lucas\\OneDrive - Hochschule Düsseldorf\\Uni_Drive\\DIV2k\\DIV2K_train_HR\\DIV2K_train_HR\\0634.png"
          ],
          [
           "C:\\Users\\lucas\\OneDrive - Hochschule Düsseldorf\\Uni_Drive\\DIV2k\\DIV2K_train_HR\\DIV2K_train_HR\\0635.png"
          ],
          [
           "C:\\Users\\lucas\\OneDrive - Hochschule Düsseldorf\\Uni_Drive\\DIV2k\\DIV2K_train_HR\\DIV2K_train_HR\\0636.png"
          ],
          [
           "C:\\Users\\lucas\\OneDrive - Hochschule Düsseldorf\\Uni_Drive\\DIV2k\\DIV2K_train_HR\\DIV2K_train_HR\\0637.png"
          ],
          [
           "C:\\Users\\lucas\\OneDrive - Hochschule Düsseldorf\\Uni_Drive\\DIV2k\\DIV2K_train_HR\\DIV2K_train_HR\\0638.png"
          ],
          [
           "C:\\Users\\lucas\\OneDrive - Hochschule Düsseldorf\\Uni_Drive\\DIV2k\\DIV2K_train_HR\\DIV2K_train_HR\\0639.png"
          ],
          [
           "C:\\Users\\lucas\\OneDrive - Hochschule Düsseldorf\\Uni_Drive\\DIV2k\\DIV2K_train_HR\\DIV2K_train_HR\\0640.png"
          ],
          [
           "C:\\Users\\lucas\\OneDrive - Hochschule Düsseldorf\\Uni_Drive\\DIV2k\\DIV2K_train_HR\\DIV2K_train_HR\\0641.png"
          ],
          [
           "C:\\Users\\lucas\\OneDrive - Hochschule Düsseldorf\\Uni_Drive\\DIV2k\\DIV2K_train_HR\\DIV2K_train_HR\\0642.png"
          ],
          [
           "C:\\Users\\lucas\\OneDrive - Hochschule Düsseldorf\\Uni_Drive\\DIV2k\\DIV2K_train_HR\\DIV2K_train_HR\\0643.png"
          ],
          [
           "C:\\Users\\lucas\\OneDrive - Hochschule Düsseldorf\\Uni_Drive\\DIV2k\\DIV2K_train_HR\\DIV2K_train_HR\\0644.png"
          ],
          [
           "C:\\Users\\lucas\\OneDrive - Hochschule Düsseldorf\\Uni_Drive\\DIV2k\\DIV2K_train_HR\\DIV2K_train_HR\\0645.png"
          ],
          [
           "C:\\Users\\lucas\\OneDrive - Hochschule Düsseldorf\\Uni_Drive\\DIV2k\\DIV2K_train_HR\\DIV2K_train_HR\\0646.png"
          ],
          [
           "C:\\Users\\lucas\\OneDrive - Hochschule Düsseldorf\\Uni_Drive\\DIV2k\\DIV2K_train_HR\\DIV2K_train_HR\\0647.png"
          ],
          [
           "C:\\Users\\lucas\\OneDrive - Hochschule Düsseldorf\\Uni_Drive\\DIV2k\\DIV2K_train_HR\\DIV2K_train_HR\\0648.png"
          ],
          [
           "C:\\Users\\lucas\\OneDrive - Hochschule Düsseldorf\\Uni_Drive\\DIV2k\\DIV2K_train_HR\\DIV2K_train_HR\\0649.png"
          ],
          [
           "C:\\Users\\lucas\\OneDrive - Hochschule Düsseldorf\\Uni_Drive\\DIV2k\\DIV2K_train_HR\\DIV2K_train_HR\\0650.png"
          ],
          [
           "C:\\Users\\lucas\\OneDrive - Hochschule Düsseldorf\\Uni_Drive\\DIV2k\\DIV2K_train_HR\\DIV2K_train_HR\\0651.png"
          ],
          [
           "C:\\Users\\lucas\\OneDrive - Hochschule Düsseldorf\\Uni_Drive\\DIV2k\\DIV2K_train_HR\\DIV2K_train_HR\\0652.png"
          ],
          [
           "C:\\Users\\lucas\\OneDrive - Hochschule Düsseldorf\\Uni_Drive\\DIV2k\\DIV2K_train_HR\\DIV2K_train_HR\\0653.png"
          ],
          [
           "C:\\Users\\lucas\\OneDrive - Hochschule Düsseldorf\\Uni_Drive\\DIV2k\\DIV2K_train_HR\\DIV2K_train_HR\\0654.png"
          ],
          [
           "C:\\Users\\lucas\\OneDrive - Hochschule Düsseldorf\\Uni_Drive\\DIV2k\\DIV2K_train_HR\\DIV2K_train_HR\\0655.png"
          ],
          [
           "C:\\Users\\lucas\\OneDrive - Hochschule Düsseldorf\\Uni_Drive\\DIV2k\\DIV2K_train_HR\\DIV2K_train_HR\\0656.png"
          ],
          [
           "C:\\Users\\lucas\\OneDrive - Hochschule Düsseldorf\\Uni_Drive\\DIV2k\\DIV2K_train_HR\\DIV2K_train_HR\\0657.png"
          ],
          [
           "C:\\Users\\lucas\\OneDrive - Hochschule Düsseldorf\\Uni_Drive\\DIV2k\\DIV2K_train_HR\\DIV2K_train_HR\\0658.png"
          ],
          [
           "C:\\Users\\lucas\\OneDrive - Hochschule Düsseldorf\\Uni_Drive\\DIV2k\\DIV2K_train_HR\\DIV2K_train_HR\\0659.png"
          ],
          [
           "C:\\Users\\lucas\\OneDrive - Hochschule Düsseldorf\\Uni_Drive\\DIV2k\\DIV2K_train_HR\\DIV2K_train_HR\\0660.png"
          ],
          [
           "C:\\Users\\lucas\\OneDrive - Hochschule Düsseldorf\\Uni_Drive\\DIV2k\\DIV2K_train_HR\\DIV2K_train_HR\\0661.png"
          ],
          [
           "C:\\Users\\lucas\\OneDrive - Hochschule Düsseldorf\\Uni_Drive\\DIV2k\\DIV2K_train_HR\\DIV2K_train_HR\\0662.png"
          ],
          [
           "C:\\Users\\lucas\\OneDrive - Hochschule Düsseldorf\\Uni_Drive\\DIV2k\\DIV2K_train_HR\\DIV2K_train_HR\\0663.png"
          ],
          [
           "C:\\Users\\lucas\\OneDrive - Hochschule Düsseldorf\\Uni_Drive\\DIV2k\\DIV2K_train_HR\\DIV2K_train_HR\\0664.png"
          ],
          [
           "C:\\Users\\lucas\\OneDrive - Hochschule Düsseldorf\\Uni_Drive\\DIV2k\\DIV2K_train_HR\\DIV2K_train_HR\\0665.png"
          ],
          [
           "C:\\Users\\lucas\\OneDrive - Hochschule Düsseldorf\\Uni_Drive\\DIV2k\\DIV2K_train_HR\\DIV2K_train_HR\\0666.png"
          ],
          [
           "C:\\Users\\lucas\\OneDrive - Hochschule Düsseldorf\\Uni_Drive\\DIV2k\\DIV2K_train_HR\\DIV2K_train_HR\\0667.png"
          ],
          [
           "C:\\Users\\lucas\\OneDrive - Hochschule Düsseldorf\\Uni_Drive\\DIV2k\\DIV2K_train_HR\\DIV2K_train_HR\\0668.png"
          ],
          [
           "C:\\Users\\lucas\\OneDrive - Hochschule Düsseldorf\\Uni_Drive\\DIV2k\\DIV2K_train_HR\\DIV2K_train_HR\\0669.png"
          ],
          [
           "C:\\Users\\lucas\\OneDrive - Hochschule Düsseldorf\\Uni_Drive\\DIV2k\\DIV2K_train_HR\\DIV2K_train_HR\\0670.png"
          ],
          [
           "C:\\Users\\lucas\\OneDrive - Hochschule Düsseldorf\\Uni_Drive\\DIV2k\\DIV2K_train_HR\\DIV2K_train_HR\\0671.png"
          ],
          [
           "C:\\Users\\lucas\\OneDrive - Hochschule Düsseldorf\\Uni_Drive\\DIV2k\\DIV2K_train_HR\\DIV2K_train_HR\\0672.png"
          ],
          [
           "C:\\Users\\lucas\\OneDrive - Hochschule Düsseldorf\\Uni_Drive\\DIV2k\\DIV2K_train_HR\\DIV2K_train_HR\\0673.png"
          ],
          [
           "C:\\Users\\lucas\\OneDrive - Hochschule Düsseldorf\\Uni_Drive\\DIV2k\\DIV2K_train_HR\\DIV2K_train_HR\\0674.png"
          ],
          [
           "C:\\Users\\lucas\\OneDrive - Hochschule Düsseldorf\\Uni_Drive\\DIV2k\\DIV2K_train_HR\\DIV2K_train_HR\\0675.png"
          ],
          [
           "C:\\Users\\lucas\\OneDrive - Hochschule Düsseldorf\\Uni_Drive\\DIV2k\\DIV2K_train_HR\\DIV2K_train_HR\\0676.png"
          ],
          [
           "C:\\Users\\lucas\\OneDrive - Hochschule Düsseldorf\\Uni_Drive\\DIV2k\\DIV2K_train_HR\\DIV2K_train_HR\\0677.png"
          ],
          [
           "C:\\Users\\lucas\\OneDrive - Hochschule Düsseldorf\\Uni_Drive\\DIV2k\\DIV2K_train_HR\\DIV2K_train_HR\\0678.png"
          ],
          [
           "C:\\Users\\lucas\\OneDrive - Hochschule Düsseldorf\\Uni_Drive\\DIV2k\\DIV2K_train_HR\\DIV2K_train_HR\\0679.png"
          ],
          [
           "C:\\Users\\lucas\\OneDrive - Hochschule Düsseldorf\\Uni_Drive\\DIV2k\\DIV2K_train_HR\\DIV2K_train_HR\\0680.png"
          ],
          [
           "C:\\Users\\lucas\\OneDrive - Hochschule Düsseldorf\\Uni_Drive\\DIV2k\\DIV2K_train_HR\\DIV2K_train_HR\\0681.png"
          ],
          [
           "C:\\Users\\lucas\\OneDrive - Hochschule Düsseldorf\\Uni_Drive\\DIV2k\\DIV2K_train_HR\\DIV2K_train_HR\\0682.png"
          ],
          [
           "C:\\Users\\lucas\\OneDrive - Hochschule Düsseldorf\\Uni_Drive\\DIV2k\\DIV2K_train_HR\\DIV2K_train_HR\\0683.png"
          ],
          [
           "C:\\Users\\lucas\\OneDrive - Hochschule Düsseldorf\\Uni_Drive\\DIV2k\\DIV2K_train_HR\\DIV2K_train_HR\\0684.png"
          ],
          [
           "C:\\Users\\lucas\\OneDrive - Hochschule Düsseldorf\\Uni_Drive\\DIV2k\\DIV2K_train_HR\\DIV2K_train_HR\\0685.png"
          ],
          [
           "C:\\Users\\lucas\\OneDrive - Hochschule Düsseldorf\\Uni_Drive\\DIV2k\\DIV2K_train_HR\\DIV2K_train_HR\\0686.png"
          ],
          [
           "C:\\Users\\lucas\\OneDrive - Hochschule Düsseldorf\\Uni_Drive\\DIV2k\\DIV2K_train_HR\\DIV2K_train_HR\\0687.png"
          ],
          [
           "C:\\Users\\lucas\\OneDrive - Hochschule Düsseldorf\\Uni_Drive\\DIV2k\\DIV2K_train_HR\\DIV2K_train_HR\\0688.png"
          ],
          [
           "C:\\Users\\lucas\\OneDrive - Hochschule Düsseldorf\\Uni_Drive\\DIV2k\\DIV2K_train_HR\\DIV2K_train_HR\\0689.png"
          ],
          [
           "C:\\Users\\lucas\\OneDrive - Hochschule Düsseldorf\\Uni_Drive\\DIV2k\\DIV2K_train_HR\\DIV2K_train_HR\\0690.png"
          ],
          [
           "C:\\Users\\lucas\\OneDrive - Hochschule Düsseldorf\\Uni_Drive\\DIV2k\\DIV2K_train_HR\\DIV2K_train_HR\\0691.png"
          ],
          [
           "C:\\Users\\lucas\\OneDrive - Hochschule Düsseldorf\\Uni_Drive\\DIV2k\\DIV2K_train_HR\\DIV2K_train_HR\\0692.png"
          ],
          [
           "C:\\Users\\lucas\\OneDrive - Hochschule Düsseldorf\\Uni_Drive\\DIV2k\\DIV2K_train_HR\\DIV2K_train_HR\\0693.png"
          ],
          [
           "C:\\Users\\lucas\\OneDrive - Hochschule Düsseldorf\\Uni_Drive\\DIV2k\\DIV2K_train_HR\\DIV2K_train_HR\\0694.png"
          ],
          [
           "C:\\Users\\lucas\\OneDrive - Hochschule Düsseldorf\\Uni_Drive\\DIV2k\\DIV2K_train_HR\\DIV2K_train_HR\\0695.png"
          ],
          [
           "C:\\Users\\lucas\\OneDrive - Hochschule Düsseldorf\\Uni_Drive\\DIV2k\\DIV2K_train_HR\\DIV2K_train_HR\\0696.png"
          ],
          [
           "C:\\Users\\lucas\\OneDrive - Hochschule Düsseldorf\\Uni_Drive\\DIV2k\\DIV2K_train_HR\\DIV2K_train_HR\\0697.png"
          ],
          [
           "C:\\Users\\lucas\\OneDrive - Hochschule Düsseldorf\\Uni_Drive\\DIV2k\\DIV2K_train_HR\\DIV2K_train_HR\\0698.png"
          ],
          [
           "C:\\Users\\lucas\\OneDrive - Hochschule Düsseldorf\\Uni_Drive\\DIV2k\\DIV2K_train_HR\\DIV2K_train_HR\\0699.png"
          ],
          [
           "C:\\Users\\lucas\\OneDrive - Hochschule Düsseldorf\\Uni_Drive\\DIV2k\\DIV2K_train_HR\\DIV2K_train_HR\\0700.png"
          ],
          [
           "C:\\Users\\lucas\\OneDrive - Hochschule Düsseldorf\\Uni_Drive\\DIV2k\\DIV2K_train_HR\\DIV2K_train_HR\\0701.png"
          ],
          [
           "C:\\Users\\lucas\\OneDrive - Hochschule Düsseldorf\\Uni_Drive\\DIV2k\\DIV2K_train_HR\\DIV2K_train_HR\\0702.png"
          ],
          [
           "C:\\Users\\lucas\\OneDrive - Hochschule Düsseldorf\\Uni_Drive\\DIV2k\\DIV2K_train_HR\\DIV2K_train_HR\\0703.png"
          ],
          [
           "C:\\Users\\lucas\\OneDrive - Hochschule Düsseldorf\\Uni_Drive\\DIV2k\\DIV2K_train_HR\\DIV2K_train_HR\\0704.png"
          ],
          [
           "C:\\Users\\lucas\\OneDrive - Hochschule Düsseldorf\\Uni_Drive\\DIV2k\\DIV2K_train_HR\\DIV2K_train_HR\\0705.png"
          ],
          [
           "C:\\Users\\lucas\\OneDrive - Hochschule Düsseldorf\\Uni_Drive\\DIV2k\\DIV2K_train_HR\\DIV2K_train_HR\\0706.png"
          ],
          [
           "C:\\Users\\lucas\\OneDrive - Hochschule Düsseldorf\\Uni_Drive\\DIV2k\\DIV2K_train_HR\\DIV2K_train_HR\\0707.png"
          ],
          [
           "C:\\Users\\lucas\\OneDrive - Hochschule Düsseldorf\\Uni_Drive\\DIV2k\\DIV2K_train_HR\\DIV2K_train_HR\\0708.png"
          ],
          [
           "C:\\Users\\lucas\\OneDrive - Hochschule Düsseldorf\\Uni_Drive\\DIV2k\\DIV2K_train_HR\\DIV2K_train_HR\\0709.png"
          ],
          [
           "C:\\Users\\lucas\\OneDrive - Hochschule Düsseldorf\\Uni_Drive\\DIV2k\\DIV2K_train_HR\\DIV2K_train_HR\\0710.png"
          ],
          [
           "C:\\Users\\lucas\\OneDrive - Hochschule Düsseldorf\\Uni_Drive\\DIV2k\\DIV2K_train_HR\\DIV2K_train_HR\\0711.png"
          ],
          [
           "C:\\Users\\lucas\\OneDrive - Hochschule Düsseldorf\\Uni_Drive\\DIV2k\\DIV2K_train_HR\\DIV2K_train_HR\\0712.png"
          ],
          [
           "C:\\Users\\lucas\\OneDrive - Hochschule Düsseldorf\\Uni_Drive\\DIV2k\\DIV2K_train_HR\\DIV2K_train_HR\\0713.png"
          ],
          [
           "C:\\Users\\lucas\\OneDrive - Hochschule Düsseldorf\\Uni_Drive\\DIV2k\\DIV2K_train_HR\\DIV2K_train_HR\\0714.png"
          ],
          [
           "C:\\Users\\lucas\\OneDrive - Hochschule Düsseldorf\\Uni_Drive\\DIV2k\\DIV2K_train_HR\\DIV2K_train_HR\\0715.png"
          ],
          [
           "C:\\Users\\lucas\\OneDrive - Hochschule Düsseldorf\\Uni_Drive\\DIV2k\\DIV2K_train_HR\\DIV2K_train_HR\\0716.png"
          ],
          [
           "C:\\Users\\lucas\\OneDrive - Hochschule Düsseldorf\\Uni_Drive\\DIV2k\\DIV2K_train_HR\\DIV2K_train_HR\\0717.png"
          ],
          [
           "C:\\Users\\lucas\\OneDrive - Hochschule Düsseldorf\\Uni_Drive\\DIV2k\\DIV2K_train_HR\\DIV2K_train_HR\\0718.png"
          ],
          [
           "C:\\Users\\lucas\\OneDrive - Hochschule Düsseldorf\\Uni_Drive\\DIV2k\\DIV2K_train_HR\\DIV2K_train_HR\\0719.png"
          ],
          [
           "C:\\Users\\lucas\\OneDrive - Hochschule Düsseldorf\\Uni_Drive\\DIV2k\\DIV2K_train_HR\\DIV2K_train_HR\\0720.png"
          ],
          [
           "C:\\Users\\lucas\\OneDrive - Hochschule Düsseldorf\\Uni_Drive\\DIV2k\\DIV2K_train_HR\\DIV2K_train_HR\\0721.png"
          ],
          [
           "C:\\Users\\lucas\\OneDrive - Hochschule Düsseldorf\\Uni_Drive\\DIV2k\\DIV2K_train_HR\\DIV2K_train_HR\\0722.png"
          ],
          [
           "C:\\Users\\lucas\\OneDrive - Hochschule Düsseldorf\\Uni_Drive\\DIV2k\\DIV2K_train_HR\\DIV2K_train_HR\\0723.png"
          ],
          [
           "C:\\Users\\lucas\\OneDrive - Hochschule Düsseldorf\\Uni_Drive\\DIV2k\\DIV2K_train_HR\\DIV2K_train_HR\\0724.png"
          ],
          [
           "C:\\Users\\lucas\\OneDrive - Hochschule Düsseldorf\\Uni_Drive\\DIV2k\\DIV2K_train_HR\\DIV2K_train_HR\\0725.png"
          ],
          [
           "C:\\Users\\lucas\\OneDrive - Hochschule Düsseldorf\\Uni_Drive\\DIV2k\\DIV2K_train_HR\\DIV2K_train_HR\\0726.png"
          ],
          [
           "C:\\Users\\lucas\\OneDrive - Hochschule Düsseldorf\\Uni_Drive\\DIV2k\\DIV2K_train_HR\\DIV2K_train_HR\\0727.png"
          ],
          [
           "C:\\Users\\lucas\\OneDrive - Hochschule Düsseldorf\\Uni_Drive\\DIV2k\\DIV2K_train_HR\\DIV2K_train_HR\\0728.png"
          ],
          [
           "C:\\Users\\lucas\\OneDrive - Hochschule Düsseldorf\\Uni_Drive\\DIV2k\\DIV2K_train_HR\\DIV2K_train_HR\\0729.png"
          ],
          [
           "C:\\Users\\lucas\\OneDrive - Hochschule Düsseldorf\\Uni_Drive\\DIV2k\\DIV2K_train_HR\\DIV2K_train_HR\\0730.png"
          ],
          [
           "C:\\Users\\lucas\\OneDrive - Hochschule Düsseldorf\\Uni_Drive\\DIV2k\\DIV2K_train_HR\\DIV2K_train_HR\\0731.png"
          ],
          [
           "C:\\Users\\lucas\\OneDrive - Hochschule Düsseldorf\\Uni_Drive\\DIV2k\\DIV2K_train_HR\\DIV2K_train_HR\\0732.png"
          ],
          [
           "C:\\Users\\lucas\\OneDrive - Hochschule Düsseldorf\\Uni_Drive\\DIV2k\\DIV2K_train_HR\\DIV2K_train_HR\\0733.png"
          ],
          [
           "C:\\Users\\lucas\\OneDrive - Hochschule Düsseldorf\\Uni_Drive\\DIV2k\\DIV2K_train_HR\\DIV2K_train_HR\\0734.png"
          ],
          [
           "C:\\Users\\lucas\\OneDrive - Hochschule Düsseldorf\\Uni_Drive\\DIV2k\\DIV2K_train_HR\\DIV2K_train_HR\\0735.png"
          ],
          [
           "C:\\Users\\lucas\\OneDrive - Hochschule Düsseldorf\\Uni_Drive\\DIV2k\\DIV2K_train_HR\\DIV2K_train_HR\\0736.png"
          ],
          [
           "C:\\Users\\lucas\\OneDrive - Hochschule Düsseldorf\\Uni_Drive\\DIV2k\\DIV2K_train_HR\\DIV2K_train_HR\\0737.png"
          ],
          [
           "C:\\Users\\lucas\\OneDrive - Hochschule Düsseldorf\\Uni_Drive\\DIV2k\\DIV2K_train_HR\\DIV2K_train_HR\\0738.png"
          ],
          [
           "C:\\Users\\lucas\\OneDrive - Hochschule Düsseldorf\\Uni_Drive\\DIV2k\\DIV2K_train_HR\\DIV2K_train_HR\\0739.png"
          ],
          [
           "C:\\Users\\lucas\\OneDrive - Hochschule Düsseldorf\\Uni_Drive\\DIV2k\\DIV2K_train_HR\\DIV2K_train_HR\\0740.png"
          ],
          [
           "C:\\Users\\lucas\\OneDrive - Hochschule Düsseldorf\\Uni_Drive\\DIV2k\\DIV2K_train_HR\\DIV2K_train_HR\\0741.png"
          ],
          [
           "C:\\Users\\lucas\\OneDrive - Hochschule Düsseldorf\\Uni_Drive\\DIV2k\\DIV2K_train_HR\\DIV2K_train_HR\\0742.png"
          ],
          [
           "C:\\Users\\lucas\\OneDrive - Hochschule Düsseldorf\\Uni_Drive\\DIV2k\\DIV2K_train_HR\\DIV2K_train_HR\\0743.png"
          ],
          [
           "C:\\Users\\lucas\\OneDrive - Hochschule Düsseldorf\\Uni_Drive\\DIV2k\\DIV2K_train_HR\\DIV2K_train_HR\\0744.png"
          ],
          [
           "C:\\Users\\lucas\\OneDrive - Hochschule Düsseldorf\\Uni_Drive\\DIV2k\\DIV2K_train_HR\\DIV2K_train_HR\\0745.png"
          ],
          [
           "C:\\Users\\lucas\\OneDrive - Hochschule Düsseldorf\\Uni_Drive\\DIV2k\\DIV2K_train_HR\\DIV2K_train_HR\\0746.png"
          ],
          [
           "C:\\Users\\lucas\\OneDrive - Hochschule Düsseldorf\\Uni_Drive\\DIV2k\\DIV2K_train_HR\\DIV2K_train_HR\\0747.png"
          ],
          [
           "C:\\Users\\lucas\\OneDrive - Hochschule Düsseldorf\\Uni_Drive\\DIV2k\\DIV2K_train_HR\\DIV2K_train_HR\\0748.png"
          ],
          [
           "C:\\Users\\lucas\\OneDrive - Hochschule Düsseldorf\\Uni_Drive\\DIV2k\\DIV2K_train_HR\\DIV2K_train_HR\\0749.png"
          ],
          [
           "C:\\Users\\lucas\\OneDrive - Hochschule Düsseldorf\\Uni_Drive\\DIV2k\\DIV2K_train_HR\\DIV2K_train_HR\\0750.png"
          ],
          [
           "C:\\Users\\lucas\\OneDrive - Hochschule Düsseldorf\\Uni_Drive\\DIV2k\\DIV2K_train_HR\\DIV2K_train_HR\\0751.png"
          ],
          [
           "C:\\Users\\lucas\\OneDrive - Hochschule Düsseldorf\\Uni_Drive\\DIV2k\\DIV2K_train_HR\\DIV2K_train_HR\\0752.png"
          ],
          [
           "C:\\Users\\lucas\\OneDrive - Hochschule Düsseldorf\\Uni_Drive\\DIV2k\\DIV2K_train_HR\\DIV2K_train_HR\\0753.png"
          ],
          [
           "C:\\Users\\lucas\\OneDrive - Hochschule Düsseldorf\\Uni_Drive\\DIV2k\\DIV2K_train_HR\\DIV2K_train_HR\\0754.png"
          ],
          [
           "C:\\Users\\lucas\\OneDrive - Hochschule Düsseldorf\\Uni_Drive\\DIV2k\\DIV2K_train_HR\\DIV2K_train_HR\\0755.png"
          ],
          [
           "C:\\Users\\lucas\\OneDrive - Hochschule Düsseldorf\\Uni_Drive\\DIV2k\\DIV2K_train_HR\\DIV2K_train_HR\\0756.png"
          ],
          [
           "C:\\Users\\lucas\\OneDrive - Hochschule Düsseldorf\\Uni_Drive\\DIV2k\\DIV2K_train_HR\\DIV2K_train_HR\\0757.png"
          ],
          [
           "C:\\Users\\lucas\\OneDrive - Hochschule Düsseldorf\\Uni_Drive\\DIV2k\\DIV2K_train_HR\\DIV2K_train_HR\\0758.png"
          ],
          [
           "C:\\Users\\lucas\\OneDrive - Hochschule Düsseldorf\\Uni_Drive\\DIV2k\\DIV2K_train_HR\\DIV2K_train_HR\\0759.png"
          ],
          [
           "C:\\Users\\lucas\\OneDrive - Hochschule Düsseldorf\\Uni_Drive\\DIV2k\\DIV2K_train_HR\\DIV2K_train_HR\\0760.png"
          ],
          [
           "C:\\Users\\lucas\\OneDrive - Hochschule Düsseldorf\\Uni_Drive\\DIV2k\\DIV2K_train_HR\\DIV2K_train_HR\\0761.png"
          ],
          [
           "C:\\Users\\lucas\\OneDrive - Hochschule Düsseldorf\\Uni_Drive\\DIV2k\\DIV2K_train_HR\\DIV2K_train_HR\\0762.png"
          ],
          [
           "C:\\Users\\lucas\\OneDrive - Hochschule Düsseldorf\\Uni_Drive\\DIV2k\\DIV2K_train_HR\\DIV2K_train_HR\\0763.png"
          ],
          [
           "C:\\Users\\lucas\\OneDrive - Hochschule Düsseldorf\\Uni_Drive\\DIV2k\\DIV2K_train_HR\\DIV2K_train_HR\\0764.png"
          ],
          [
           "C:\\Users\\lucas\\OneDrive - Hochschule Düsseldorf\\Uni_Drive\\DIV2k\\DIV2K_train_HR\\DIV2K_train_HR\\0765.png"
          ],
          [
           "C:\\Users\\lucas\\OneDrive - Hochschule Düsseldorf\\Uni_Drive\\DIV2k\\DIV2K_train_HR\\DIV2K_train_HR\\0766.png"
          ],
          [
           "C:\\Users\\lucas\\OneDrive - Hochschule Düsseldorf\\Uni_Drive\\DIV2k\\DIV2K_train_HR\\DIV2K_train_HR\\0767.png"
          ],
          [
           "C:\\Users\\lucas\\OneDrive - Hochschule Düsseldorf\\Uni_Drive\\DIV2k\\DIV2K_train_HR\\DIV2K_train_HR\\0768.png"
          ],
          [
           "C:\\Users\\lucas\\OneDrive - Hochschule Düsseldorf\\Uni_Drive\\DIV2k\\DIV2K_train_HR\\DIV2K_train_HR\\0769.png"
          ],
          [
           "C:\\Users\\lucas\\OneDrive - Hochschule Düsseldorf\\Uni_Drive\\DIV2k\\DIV2K_train_HR\\DIV2K_train_HR\\0770.png"
          ],
          [
           "C:\\Users\\lucas\\OneDrive - Hochschule Düsseldorf\\Uni_Drive\\DIV2k\\DIV2K_train_HR\\DIV2K_train_HR\\0771.png"
          ],
          [
           "C:\\Users\\lucas\\OneDrive - Hochschule Düsseldorf\\Uni_Drive\\DIV2k\\DIV2K_train_HR\\DIV2K_train_HR\\0772.png"
          ],
          [
           "C:\\Users\\lucas\\OneDrive - Hochschule Düsseldorf\\Uni_Drive\\DIV2k\\DIV2K_train_HR\\DIV2K_train_HR\\0773.png"
          ],
          [
           "C:\\Users\\lucas\\OneDrive - Hochschule Düsseldorf\\Uni_Drive\\DIV2k\\DIV2K_train_HR\\DIV2K_train_HR\\0774.png"
          ],
          [
           "C:\\Users\\lucas\\OneDrive - Hochschule Düsseldorf\\Uni_Drive\\DIV2k\\DIV2K_train_HR\\DIV2K_train_HR\\0775.png"
          ],
          [
           "C:\\Users\\lucas\\OneDrive - Hochschule Düsseldorf\\Uni_Drive\\DIV2k\\DIV2K_train_HR\\DIV2K_train_HR\\0776.png"
          ],
          [
           "C:\\Users\\lucas\\OneDrive - Hochschule Düsseldorf\\Uni_Drive\\DIV2k\\DIV2K_train_HR\\DIV2K_train_HR\\0777.png"
          ],
          [
           "C:\\Users\\lucas\\OneDrive - Hochschule Düsseldorf\\Uni_Drive\\DIV2k\\DIV2K_train_HR\\DIV2K_train_HR\\0778.png"
          ],
          [
           "C:\\Users\\lucas\\OneDrive - Hochschule Düsseldorf\\Uni_Drive\\DIV2k\\DIV2K_train_HR\\DIV2K_train_HR\\0779.png"
          ],
          [
           "C:\\Users\\lucas\\OneDrive - Hochschule Düsseldorf\\Uni_Drive\\DIV2k\\DIV2K_train_HR\\DIV2K_train_HR\\0780.png"
          ],
          [
           "C:\\Users\\lucas\\OneDrive - Hochschule Düsseldorf\\Uni_Drive\\DIV2k\\DIV2K_train_HR\\DIV2K_train_HR\\0781.png"
          ],
          [
           "C:\\Users\\lucas\\OneDrive - Hochschule Düsseldorf\\Uni_Drive\\DIV2k\\DIV2K_train_HR\\DIV2K_train_HR\\0782.png"
          ],
          [
           "C:\\Users\\lucas\\OneDrive - Hochschule Düsseldorf\\Uni_Drive\\DIV2k\\DIV2K_train_HR\\DIV2K_train_HR\\0783.png"
          ],
          [
           "C:\\Users\\lucas\\OneDrive - Hochschule Düsseldorf\\Uni_Drive\\DIV2k\\DIV2K_train_HR\\DIV2K_train_HR\\0784.png"
          ],
          [
           "C:\\Users\\lucas\\OneDrive - Hochschule Düsseldorf\\Uni_Drive\\DIV2k\\DIV2K_train_HR\\DIV2K_train_HR\\0785.png"
          ],
          [
           "C:\\Users\\lucas\\OneDrive - Hochschule Düsseldorf\\Uni_Drive\\DIV2k\\DIV2K_train_HR\\DIV2K_train_HR\\0786.png"
          ],
          [
           "C:\\Users\\lucas\\OneDrive - Hochschule Düsseldorf\\Uni_Drive\\DIV2k\\DIV2K_train_HR\\DIV2K_train_HR\\0787.png"
          ],
          [
           "C:\\Users\\lucas\\OneDrive - Hochschule Düsseldorf\\Uni_Drive\\DIV2k\\DIV2K_train_HR\\DIV2K_train_HR\\0788.png"
          ],
          [
           "C:\\Users\\lucas\\OneDrive - Hochschule Düsseldorf\\Uni_Drive\\DIV2k\\DIV2K_train_HR\\DIV2K_train_HR\\0789.png"
          ],
          [
           "C:\\Users\\lucas\\OneDrive - Hochschule Düsseldorf\\Uni_Drive\\DIV2k\\DIV2K_train_HR\\DIV2K_train_HR\\0790.png"
          ],
          [
           "C:\\Users\\lucas\\OneDrive - Hochschule Düsseldorf\\Uni_Drive\\DIV2k\\DIV2K_train_HR\\DIV2K_train_HR\\0791.png"
          ],
          [
           "C:\\Users\\lucas\\OneDrive - Hochschule Düsseldorf\\Uni_Drive\\DIV2k\\DIV2K_train_HR\\DIV2K_train_HR\\0792.png"
          ],
          [
           "C:\\Users\\lucas\\OneDrive - Hochschule Düsseldorf\\Uni_Drive\\DIV2k\\DIV2K_train_HR\\DIV2K_train_HR\\0793.png"
          ],
          [
           "C:\\Users\\lucas\\OneDrive - Hochschule Düsseldorf\\Uni_Drive\\DIV2k\\DIV2K_train_HR\\DIV2K_train_HR\\0794.png"
          ],
          [
           "C:\\Users\\lucas\\OneDrive - Hochschule Düsseldorf\\Uni_Drive\\DIV2k\\DIV2K_train_HR\\DIV2K_train_HR\\0795.png"
          ],
          [
           "C:\\Users\\lucas\\OneDrive - Hochschule Düsseldorf\\Uni_Drive\\DIV2k\\DIV2K_train_HR\\DIV2K_train_HR\\0796.png"
          ],
          [
           "C:\\Users\\lucas\\OneDrive - Hochschule Düsseldorf\\Uni_Drive\\DIV2k\\DIV2K_train_HR\\DIV2K_train_HR\\0797.png"
          ],
          [
           "C:\\Users\\lucas\\OneDrive - Hochschule Düsseldorf\\Uni_Drive\\DIV2k\\DIV2K_train_HR\\DIV2K_train_HR\\0798.png"
          ],
          [
           "C:\\Users\\lucas\\OneDrive - Hochschule Düsseldorf\\Uni_Drive\\DIV2k\\DIV2K_train_HR\\DIV2K_train_HR\\0799.png"
          ],
          [
           "C:\\Users\\lucas\\OneDrive - Hochschule Düsseldorf\\Uni_Drive\\DIV2k\\DIV2K_train_HR\\DIV2K_train_HR\\0800.png"
          ],
          [
           "C:\\Users\\lucas\\OneDrive - Hochschule Düsseldorf\\Uni_Drive\\DIV2k\\DIV2K_train_HR\\DIV2K_train_HR\\Gewitter2.jpg"
          ]
         ],
         "hovertemplate": "Path: %{customdata[0]}<br>x: %{x}<br>y: %{y}",
         "legendgroup": "DIV2K_train_HR",
         "marker": {
          "color": "#636efa",
          "symbol": "circle"
         },
         "mode": "markers",
         "name": "DIV2K_train_HR",
         "opacity": 0.7,
         "orientation": "v",
         "showlegend": true,
         "type": "scatter",
         "x": [
          -33.84418487548828,
          3.8104164600372314,
          11.821907997131348,
          8.074238777160645,
          -10.571741104125977,
          -26.831161499023438,
          3.5099401473999023,
          -16.808584213256836,
          18.83245277404785,
          -26.186906814575195,
          -26.05854606628418,
          -27.594928741455078,
          -10.42084789276123,
          -10.699382781982422,
          -33.3823127746582,
          -14.079919815063477,
          27.048105239868164,
          9.133809089660645,
          -32.84687042236328,
          -2.3595001697540283,
          21.590261459350586,
          16.57538604736328,
          -18.595983505249023,
          -33.09252166748047,
          11.62828254699707,
          -29.16330909729004,
          -22.81803321838379,
          -8.028603553771973,
          10.136669158935547,
          7.283217906951904,
          6.689504146575928,
          16.810245513916016,
          7.673742294311523,
          6.240536689758301,
          -20.16903305053711,
          -21.909923553466797,
          -41.62126922607422,
          31.266368865966797,
          6.422206401824951,
          -10.775972366333008,
          24.986522674560547,
          22.148326873779297,
          31.069868087768555,
          -17.384916305541992,
          28.834732055664062,
          -3.1429684162139893,
          3.1090831756591797,
          -40.606903076171875,
          16.710962295532227,
          10.919035911560059,
          8.03706169128418,
          33.72527313232422,
          14.345863342285156,
          -12.21419620513916,
          -19.62093734741211,
          21.282072067260742,
          18.26788902282715,
          -9.739917755126953,
          9.476177215576172,
          18.441495895385742,
          -5.335204124450684,
          1.5625239610671997,
          -37.65594482421875,
          -22.41016960144043,
          15.137718200683594,
          -15.331354141235352,
          -4.076180934906006,
          -16.255043029785156,
          8.319265365600586,
          10.320219039916992,
          -5.735260486602783,
          3.978886842727661,
          18.555986404418945,
          16.86492156982422,
          4.64946174621582,
          -18.33684730529785,
          -15.369972229003906,
          34.01113510131836,
          10.150540351867676,
          6.1123833656311035,
          -35.29570007324219,
          15.361143112182617,
          34.452396392822266,
          4.90371561050415,
          -4.566300868988037,
          1.8744312524795532,
          25.877609252929688,
          -31.858888626098633,
          -19.665307998657227,
          -3.419710159301758,
          4.768833637237549,
          22.068897247314453,
          9.470197677612305,
          20.341781616210938,
          5.318274974822998,
          -0.1432657092809677,
          -24.43406105041504,
          -35.03794479370117,
          -28.458236694335938,
          4.406592845916748,
          -31.987403869628906,
          14.981555938720703,
          1.722907543182373,
          25.70288848876953,
          -16.19230079650879,
          20.129358291625977,
          4.652120590209961,
          -36.60489273071289,
          -11.0723237991333,
          -6.369872093200684,
          14.324145317077637,
          -13.450319290161133,
          3.2057876586914062,
          -13.739293098449707,
          -32.553932189941406,
          -8.211163520812988,
          -12.06074047088623,
          -26.501115798950195,
          19.951662063598633,
          21.999160766601562,
          -17.88274574279785,
          16.530710220336914,
          3.481184720993042,
          -25.391311645507812,
          -5.944749355316162,
          -32.55862045288086,
          18.35588836669922,
          -14.05027961730957,
          -25.33584213256836,
          -21.127233505249023,
          7.80631160736084,
          4.69435453414917,
          6.912431240081787,
          27.85465431213379,
          -24.17545509338379,
          -14.683561325073242,
          14.737364768981934,
          5.072748184204102,
          -37.745853424072266,
          -13.501431465148926,
          -12.83203125,
          10.819258689880371,
          8.530834197998047,
          17.085519790649414,
          2.0889060497283936,
          11.242095947265625,
          26.170886993408203,
          15.38225269317627,
          21.5975399017334,
          18.420385360717773,
          30.843950271606445,
          -23.55615997314453,
          -14.981234550476074,
          34.40354537963867,
          28.843231201171875,
          -6.103771209716797,
          -14.700725555419922,
          21.20461654663086,
          1.633824348449707,
          -22.75216293334961,
          9.39732837677002,
          1.5238920450210571,
          -14.421562194824219,
          -4.494402885437012,
          25.00041961669922,
          -9.494057655334473,
          -3.2902956008911133,
          -21.020565032958984,
          -25.768705368041992,
          0.4773794412612915,
          11.275117874145508,
          6.163577079772949,
          18.50850486755371,
          -21.0237979888916,
          10.682380676269531,
          -32.24494934082031,
          -13.059999465942383,
          27.116573333740234,
          0.4820978343486786,
          -12.070499420166016,
          -11.509836196899414,
          25.00558853149414,
          -28.21977424621582,
          0.5495725274085999,
          -28.499570846557617,
          -41.04634475708008,
          -27.230762481689453,
          31.097503662109375,
          -17.381187438964844,
          -0.15632455050945282,
          6.745288848876953,
          -6.145305633544922,
          2.7640469074249268,
          1.5862199068069458,
          -2.2339346408843994,
          -22.018070220947266,
          -25.522964477539062,
          13.199180603027344,
          -9.508687973022461,
          -28.355005264282227,
          4.895082473754883,
          24.825916290283203,
          0.5921981930732727,
          -3.5758755207061768,
          11.481630325317383,
          11.963081359863281,
          33.06053161621094,
          15.093544006347656,
          2.5799880027770996,
          14.802783012390137,
          5.42994499206543,
          -2.3840248584747314,
          -20.182069778442383,
          23.536266326904297,
          -6.335636615753174,
          -18.205732345581055,
          -6.229228973388672,
          7.328465461730957,
          10.453096389770508,
          22.98008918762207,
          -27.94391441345215,
          18.98307228088379,
          -16.292034149169922,
          -7.889302730560303,
          -23.06869125366211,
          6.027520179748535,
          6.139922618865967,
          -14.497767448425293,
          7.3949737548828125,
          29.45592498779297,
          -0.39416053891181946,
          4.8801493644714355,
          17.326948165893555,
          7.7137980461120605,
          -15.173593521118164,
          9.401705741882324,
          14.723910331726074,
          26.73052406311035,
          27.442626953125,
          -32.41864776611328,
          4.639618396759033,
          -24.78687858581543,
          15.713277816772461,
          28.28317642211914,
          -35.349754333496094,
          15.943132400512695,
          1.721051812171936,
          8.182061195373535,
          -25.07539939880371,
          -20.267654418945312,
          -17.848220825195312,
          -40.40958023071289,
          -18.442527770996094,
          -40.1999626159668,
          5.5031208992004395,
          -33.350521087646484,
          -24.721487045288086,
          -31.25738525390625,
          6.54069185256958,
          -13.271224975585938,
          11.853177070617676,
          5.369116306304932,
          -15.627094268798828,
          6.042377948760986,
          -27.77303695678711,
          10.63137435913086,
          -27.467016220092773,
          -12.421537399291992,
          -8.629636764526367,
          -26.749515533447266,
          22.03045654296875,
          13.362849235534668,
          -32.34514236450195,
          9.480271339416504,
          -2.7676892280578613,
          16.82499885559082,
          -17.551212310791016,
          -11.725542068481445,
          23.285930633544922,
          3.328001022338867,
          10.635079383850098,
          4.895872116088867,
          16.28957176208496,
          -21.11714744567871,
          -9.669795989990234,
          8.666058540344238,
          -4.39673376083374,
          -0.7186710834503174,
          13.338096618652344,
          6.725057601928711,
          11.85356616973877,
          15.858820915222168,
          18.9183406829834,
          -19.635889053344727,
          38.44157028198242,
          -7.775158882141113,
          -23.781213760375977,
          -33.55955123901367,
          -22.1749210357666,
          17.28256607055664,
          -0.6285931468009949,
          18.341121673583984,
          13.023879051208496,
          -3.172020435333252,
          16.60862922668457,
          8.655200004577637,
          -3.969547986984253,
          10.503165245056152,
          -24.937747955322266,
          -3.991807222366333,
          1.8465741872787476,
          17.544355392456055,
          -1.85409677028656,
          10.029151916503906,
          -0.0640973448753357,
          15.746317863464355,
          17.12178611755371,
          10.625740051269531,
          -26.666622161865234,
          28.713151931762695,
          -3.710535764694214,
          23.190065383911133,
          7.1095380783081055,
          2.566575288772583,
          25.107175827026367,
          28.466676712036133,
          -14.721150398254395,
          -27.524553298950195,
          -13.749122619628906,
          -0.863438069820404,
          -10.456351280212402,
          -36.434478759765625,
          0.6887133717536926,
          -1.5918272733688354,
          -18.93607521057129,
          -16.524980545043945,
          -22.757564544677734,
          -17.454235076904297,
          -30.97821044921875,
          21.530067443847656,
          -13.879288673400879,
          19.940099716186523,
          5.675545692443848,
          -19.081247329711914,
          -3.811476469039917,
          4.302855491638184,
          17.245136260986328,
          -13.66639518737793,
          -24.30838394165039,
          13.419841766357422,
          20.328571319580078,
          13.618785858154297,
          12.806661605834961,
          -0.937881588935852,
          16.42228126525879,
          17.136131286621094,
          -36.36540222167969,
          9.357098579406738,
          -15.257226943969727,
          22.598649978637695,
          12.852738380432129,
          7.06214714050293,
          22.798049926757812,
          -19.489450454711914,
          3.143444299697876,
          -40.05002975463867,
          -5.652692794799805,
          -9.360795021057129,
          -37.70765686035156,
          -5.850404739379883,
          19.464799880981445,
          12.389161109924316,
          1.370283603668213,
          -12.829239845275879,
          15.132852554321289,
          -27.67784881591797,
          -0.33061036467552185,
          -19.80073356628418,
          7.189176559448242,
          8.55103874206543,
          -10.866104125976562,
          12.929426193237305,
          -13.866382598876953,
          4.200109958648682,
          19.856822967529297,
          14.389066696166992,
          5.676609992980957,
          31.823957443237305,
          2.894608974456787,
          20.552379608154297,
          0.6815338730812073,
          22.896503448486328,
          17.71870231628418,
          -16.884977340698242,
          -13.177607536315918,
          7.148435115814209,
          9.271835327148438,
          6.900696754455566,
          26.787460327148438,
          -0.1987755298614502,
          15.42473030090332,
          0.6316177248954773,
          -27.373136520385742,
          -6.513756275177002,
          14.119526863098145,
          -10.377910614013672,
          -25.09974479675293,
          -34.50049591064453,
          -15.907068252563477,
          -19.700618743896484,
          15.534607887268066,
          -25.683250427246094,
          -5.522876262664795,
          26.969324111938477,
          -20.364892959594727,
          -12.4065580368042,
          8.683307647705078,
          -12.90512752532959,
          -26.999401092529297,
          -21.403989791870117,
          10.195640563964844,
          4.649174690246582,
          -24.093097686767578,
          7.181071758270264,
          3.0924232006073,
          8.410043716430664,
          8.991385459899902,
          -14.189163208007812,
          -35.17512130737305,
          -24.25358772277832,
          6.683852672576904,
          5.980973720550537,
          14.116288185119629,
          -35.34479904174805,
          -14.031896591186523,
          9.206778526306152,
          18.880146026611328,
          23.343433380126953,
          4.370827674865723,
          10.790520668029785,
          -14.995866775512695,
          -7.830974578857422,
          16.18716049194336,
          23.01942253112793,
          -24.261266708374023,
          9.004351615905762,
          21.406526565551758,
          -18.61479949951172,
          14.318255424499512,
          6.918646335601807,
          -39.119293212890625,
          -15.296710014343262,
          6.2850799560546875,
          7.832176685333252,
          -8.485371589660645,
          0.8852468729019165,
          27.794849395751953,
          4.548639297485352,
          10.132630348205566,
          27.82366180419922,
          27.450565338134766,
          -12.600147247314453,
          25.377466201782227,
          8.40963363647461,
          -28.96192169189453,
          12.424802780151367,
          -5.259200096130371,
          4.6934123039245605,
          -18.698530197143555,
          24.50203514099121,
          2.8578670024871826,
          -34.843746185302734,
          2.692908763885498,
          -17.188478469848633,
          -21.47138214111328,
          11.909722328186035,
          4.994603633880615,
          -2.4082465171813965,
          -25.488094329833984,
          -7.098040580749512,
          7.890324592590332,
          23.71963882446289,
          10.08718204498291,
          7.231040000915527,
          3.2658846378326416,
          5.1655802726745605,
          8.409845352172852,
          -13.27734088897705,
          -14.224637985229492,
          9.594225883483887,
          0.5657687187194824,
          25.022842407226562,
          33.688232421875,
          -11.940996170043945,
          -14.940640449523926,
          9.796248435974121,
          6.95560884475708,
          17.553430557250977,
          -21.287817001342773,
          11.188206672668457,
          5.223657131195068,
          -37.49452209472656,
          16.860803604125977,
          1.04781973361969,
          -3.589111089706421,
          17.3591251373291,
          -5.499382019042969,
          -37.22569274902344,
          18.85331153869629,
          9.12335205078125,
          -6.725660800933838,
          23.411155700683594,
          -11.636975288391113,
          4.24441385269165,
          -25.521549224853516,
          24.36753273010254,
          6.389429092407227,
          3.4220664501190186,
          -19.28468894958496,
          32.57950973510742,
          13.821539878845215,
          -16.928794860839844,
          23.826297760009766,
          -14.132505416870117,
          -18.67799949645996,
          17.39993667602539,
          18.266881942749023,
          -34.41692352294922,
          -1.9335200786590576,
          -26.850793838500977,
          -34.753604888916016,
          -4.08679723739624,
          18.82087516784668,
          -10.469621658325195,
          18.240089416503906,
          18.19904327392578,
          10.564802169799805,
          -16.37591552734375,
          -3.878816843032837,
          -24.624170303344727,
          8.438017845153809,
          -3.5485005378723145,
          -10.537879943847656,
          10.199905395507812,
          13.028465270996094,
          12.562385559082031,
          -20.444490432739258,
          -5.714442253112793,
          0.855954110622406,
          -2.424891471862793,
          23.96829605102539,
          -19.261615753173828,
          17.148731231689453,
          18.931541442871094,
          -37.309574127197266,
          2.6107699871063232,
          15.198698043823242,
          7.235698223114014,
          -36.506309509277344,
          -17.493473052978516,
          25.448074340820312,
          33.714542388916016,
          -33.37685775756836,
          26.741575241088867,
          3.6445469856262207,
          24.62420082092285,
          18.43981170654297,
          22.572492599487305,
          -1.6264091730117798,
          21.104372024536133,
          -25.241302490234375,
          24.063785552978516,
          -25.22028350830078,
          -17.531097412109375,
          -27.79718589782715,
          13.648382186889648,
          -38.18160629272461,
          -11.806864738464355,
          9.378634452819824,
          18.646501541137695,
          22.458980560302734,
          -1.2086085081100464,
          19.134971618652344,
          23.83255958557129,
          15.190500259399414,
          14.870388984680176,
          -21.611080169677734,
          16.053409576416016,
          13.139508247375488,
          -3.5401601791381836,
          -18.542287826538086,
          -24.17254066467285,
          28.547975540161133,
          -12.313133239746094,
          5.824278831481934,
          -27.296855926513672,
          -12.89006519317627,
          -23.555959701538086,
          -22.38214874267578,
          22.587827682495117,
          -25.278642654418945,
          7.213110446929932,
          -21.43192481994629,
          -37.675010681152344,
          3.554075241088867,
          1.1855350732803345,
          7.394852638244629,
          30.042051315307617,
          4.686779499053955,
          -19.87732696533203,
          9.096087455749512,
          5.283258438110352,
          20.904281616210938,
          13.991912841796875,
          -10.244539260864258,
          -30.674179077148438,
          1.6498841047286987,
          -41.2491569519043,
          -21.51772117614746,
          6.431466102600098,
          13.472990036010742,
          -19.0688533782959,
          4.584161758422852,
          -26.44939613342285,
          7.013460159301758,
          -22.628984451293945,
          19.957386016845703,
          38.43415069580078,
          -16.501256942749023,
          -12.232539176940918,
          5.298284530639648,
          -26.331695556640625,
          -40.13933181762695,
          -24.414493560791016,
          0.090836301445961,
          11.80941104888916,
          -38.12703323364258,
          2.995342969894409,
          -1.1231344938278198,
          10.258401870727539,
          14.030805587768555,
          -13.891515731811523,
          16.72612190246582,
          -32.1906623840332,
          -30.460412979125977,
          -20.079387664794922,
          -21.88255500793457,
          20.385826110839844,
          -32.90800857543945,
          20.879901885986328,
          -36.869140625,
          -16.495264053344727,
          24.26308250427246,
          22.72127342224121,
          33.05960464477539,
          8.667140007019043,
          6.384279727935791,
          14.9801607131958,
          -16.73371124267578,
          28.719274520874023,
          -17.951236724853516,
          -14.101723670959473,
          3.787787437438965,
          -15.13134765625,
          -1.5920013189315796,
          -31.585399627685547,
          5.301358699798584,
          1.5659867525100708,
          -34.65751647949219,
          -11.858505249023438,
          -1.1474868059158325,
          0.5298416018486023,
          27.43779945373535,
          8.863724708557129,
          22.495712280273438,
          3.1637232303619385,
          7.259670734405518,
          -8.820391654968262,
          27.867897033691406,
          8.634234428405762,
          15.340667724609375,
          -5.532575607299805,
          -19.447935104370117,
          28.31119728088379,
          -25.40852165222168,
          -24.66542625427246,
          -37.712738037109375,
          -27.049701690673828,
          1.5053766965866089,
          -20.99047088623047,
          18.422016143798828,
          6.478553771972656,
          8.007887840270996,
          -16.75025177001953,
          -17.87388038635254,
          -21.999061584472656,
          6.979768753051758,
          -14.14990520477295,
          20.27277946472168,
          -7.05001974105835,
          9.811945915222168,
          -21.872196197509766,
          25.735177993774414,
          -24.053483963012695,
          -24.168563842773438,
          9.56861686706543,
          4.6875481605529785,
          -0.03858243674039841,
          2.7372488975524902,
          4.929645538330078,
          -27.01661491394043,
          30.117355346679688,
          -0.07711836695671082,
          16.47269630432129,
          3.2220048904418945,
          -8.484940528869629,
          -22.363330841064453,
          -31.417604446411133,
          9.326772689819336,
          6.812665939331055,
          -2.275749683380127,
          -18.683626174926758,
          -23.987648010253906,
          -25.69528579711914,
          3.660541296005249,
          -15.628264427185059,
          -20.061010360717773,
          -10.686210632324219,
          -20.43600082397461,
          8.854142189025879,
          14.879594802856445,
          5.505673408508301,
          -25.640344619750977,
          -21.226165771484375,
          26.978227615356445,
          -15.941622734069824,
          8.248272895812988,
          9.440107345581055,
          -25.995948791503906,
          -12.458754539489746,
          -8.413101196289062,
          21.90916633605957,
          -37.05294418334961,
          10.857629776000977,
          11.503036499023438,
          -28.729999542236328,
          -32.118099212646484,
          21.51055145263672,
          -34.60720443725586,
          25.563026428222656,
          15.010794639587402,
          28.212921142578125,
          -0.12863397598266602,
          -26.98016929626465,
          1.3524246215820312,
          20.523427963256836,
          -20.734888076782227,
          28.643857955932617,
          -19.88893699645996,
          6.57900333404541,
          26.517427444458008,
          12.641873359680176,
          -16.321369171142578,
          11.686479568481445,
          -3.4642510414123535,
          -2.548429489135742,
          -17.595417022705078,
          -13.129572868347168,
          32.60404968261719,
          14.435532569885254,
          -33.126094818115234,
          29.174808502197266,
          -24.38488006591797,
          -25.400768280029297,
          1.1129928827285767,
          -17.588821411132812,
          -30.036962509155273,
          14.759523391723633,
          -17.963363647460938,
          16.003801345825195,
          -19.012819290161133,
          -5.223278999328613,
          -0.07828669995069504,
          19.4197940826416,
          -36.84750747680664,
          28.923433303833008,
          -9.100240707397461,
          -18.73731803894043,
          -14.05582332611084,
          -20.31011962890625,
          -9.277173042297363,
          4.545539855957031,
          -0.7690792679786682,
          21.137264251708984,
          7.410797595977783,
          24.777360916137695,
          -4.379824638366699,
          3.4357728958129883,
          2.3856475353240967,
          5.2533369064331055,
          5.567519187927246
         ],
         "xaxis": "x",
         "y": [
          -3.26025128364563,
          19.24423599243164,
          -3.9566187858581543,
          14.090394973754883,
          -0.9707921147346497,
          2.678976535797119,
          18.41798973083496,
          -18.588594436645508,
          8.69287395477295,
          10.297497749328613,
          -5.084136009216309,
          3.45745587348938,
          -9.540047645568848,
          -7.673725128173828,
          -6.6438422203063965,
          16.337766647338867,
          11.599583625793457,
          -16.723602294921875,
          -14.97165298461914,
          -15.180900573730469,
          -0.49227336049079895,
          -7.842940807342529,
          0.1184544712305069,
          -0.522948145866394,
          2.5102593898773193,
          -2.5728535652160645,
          -5.515498161315918,
          -19.912324905395508,
          -21.210063934326172,
          19.62871742248535,
          -7.350587844848633,
          8.925939559936523,
          -13.105907440185547,
          -21.706424713134766,
          20.31676483154297,
          -9.434456825256348,
          -6.028077125549316,
          -0.9898022413253784,
          17.756847381591797,
          9.698263168334961,
          23.60637092590332,
          14.668496131896973,
          -14.608097076416016,
          -14.10066032409668,
          -5.711935997009277,
          -28.69989013671875,
          -6.436721324920654,
          -3.9020631313323975,
          -1.2677046060562134,
          -13.31464672088623,
          23.955398559570312,
          -7.460227966308594,
          2.738447427749634,
          4.259136199951172,
          10.015533447265625,
          1.5542455911636353,
          -4.783448696136475,
          -20.106311798095703,
          15.012161254882812,
          2.245835304260254,
          16.906633377075195,
          17.247196197509766,
          -11.440607070922852,
          6.779551982879639,
          24.198169708251953,
          16.251842498779297,
          -15.895050048828125,
          -0.8740353584289551,
          -24.488100051879883,
          4.760866641998291,
          -19.00368881225586,
          20.12737274169922,
          7.464475154876709,
          7.0064592361450195,
          7.736931800842285,
          15.07234001159668,
          -1.1527915000915527,
          -7.562918663024902,
          19.081382751464844,
          -0.7412663102149963,
          -7.79015588760376,
          -18.5323543548584,
          -7.73453950881958,
          22.140289306640625,
          -7.786324501037598,
          27.72772979736328,
          21.561796188354492,
          -8.660072326660156,
          -12.487581253051758,
          -23.461084365844727,
          -9.226913452148438,
          2.7686047554016113,
          -21.04380226135254,
          -11.056506156921387,
          20.02460479736328,
          -13.94764518737793,
          14.601370811462402,
          -0.1847180426120758,
          -5.639049053192139,
          -9.279365539550781,
          7.190098285675049,
          8.110542297363281,
          -2.631054401397705,
          -12.939814567565918,
          10.77134895324707,
          -1.0170855522155762,
          -2.290710210800171,
          -1.8609087467193604,
          -19.122648239135742,
          -20.964258193969727,
          -16.41401481628418,
          -7.400177955627441,
          3.0504097938537598,
          -21.899261474609375,
          7.2623443603515625,
          -16.137155532836914,
          12.218579292297363,
          0.8737732768058777,
          -7.244135856628418,
          17.54878807067871,
          2.5014731884002686,
          26.304168701171875,
          -20.63617706298828,
          6.4248528480529785,
          -20.660507202148438,
          -2.132553815841675,
          4.856994152069092,
          8.438239097595215,
          11.764630317687988,
          -1.7477680444717407,
          20.522624969482422,
          6.262960910797119,
          -4.857078552246094,
          -4.733450412750244,
          9.924739837646484,
          11.760931015014648,
          -25.437734603881836,
          1.178879976272583,
          -3.169934034347534,
          5.886610507965088,
          -11.565083503723145,
          -0.093794085085392,
          2.196655035018921,
          -20.948211669921875,
          12.054988861083984,
          5.812970161437988,
          11.090517044067383,
          6.454892158508301,
          0.12285313755273819,
          -0.3954295516014099,
          -5.889185428619385,
          -1.4015560150146484,
          6.592238426208496,
          3.5866434574127197,
          -7.013683319091797,
          -15.81775951385498,
          -11.306563377380371,
          -1.7696752548217773,
          -17.312898635864258,
          -19.090349197387695,
          13.371684074401855,
          -9.09754753112793,
          3.2651617527008057,
          18.524272918701172,
          23.32581329345703,
          1.4236624240875244,
          -12.18332290649414,
          -15.093913078308105,
          -12.036040306091309,
          5.576481342315674,
          17.24020767211914,
          13.277372360229492,
          -14.403428077697754,
          13.89991283416748,
          6.818418502807617,
          7.09150505065918,
          -2.2307965755462646,
          10.288207054138184,
          20.429027557373047,
          -10.713828086853027,
          19.865440368652344,
          5.747279644012451,
          3.876479387283325,
          -13.060481071472168,
          1.853087067604065,
          -8.833386421203613,
          -4.776883125305176,
          -14.609914779663086,
          18.58807373046875,
          5.27399206161499,
          -22.14944839477539,
          23.09787368774414,
          -17.868799209594727,
          -5.339783668518066,
          -6.326720714569092,
          17.146879196166992,
          10.833377838134766,
          -23.511831283569336,
          -24.55330467224121,
          -18.986183166503906,
          19.275697708129883,
          -16.283367156982422,
          20.859983444213867,
          -28.704439163208008,
          27.05906105041504,
          -21.9765567779541,
          8.905174255371094,
          0.3490891456604004,
          24.18484115600586,
          -8.418956756591797,
          16.786523818969727,
          14.05276107788086,
          5.418979167938232,
          -16.572431564331055,
          -4.823197364807129,
          13.918911933898926,
          -10.569036483764648,
          10.02403450012207,
          -8.043694496154785,
          -1.452541708946228,
          -5.123032569885254,
          -7.439876079559326,
          7.519388675689697,
          -13.46861457824707,
          -15.601386070251465,
          -2.457010269165039,
          -4.068360328674316,
          -7.608307361602783,
          21.53965187072754,
          -3.017564058303833,
          21.25259017944336,
          -13.280256271362305,
          -13.45014762878418,
          8.148147583007812,
          4.905764579772949,
          21.52074432373047,
          -15.02542781829834,
          12.579261779785156,
          -19.048629760742188,
          -4.743293762207031,
          28.773012161254883,
          -15.841033935546875,
          10.932156562805176,
          11.231718063354492,
          -4.138045310974121,
          -3.154459238052368,
          -26.35758399963379,
          -21.543764114379883,
          7.6519670486450195,
          11.793118476867676,
          -1.1729618310928345,
          -5.9073333740234375,
          1.1913235187530518,
          -0.9889081120491028,
          -9.908839225769043,
          8.076498031616211,
          -4.884875774383545,
          1.8805651664733887,
          20.152347564697266,
          0.2646654546260834,
          11.838800430297852,
          23.778383255004883,
          -11.35810375213623,
          -3.5633809566497803,
          5.6879472732543945,
          20.68292999267578,
          2.0807788372039795,
          -9.371434211730957,
          -17.45133399963379,
          11.900432586669922,
          8.605670928955078,
          18.985811233520508,
          -14.61461067199707,
          -19.672761917114258,
          -2.4418671131134033,
          9.018590927124023,
          7.743703365325928,
          -13.348367691040039,
          21.724918365478516,
          21.045982360839844,
          9.20964527130127,
          -6.6603102684021,
          10.642243385314941,
          16.923357009887695,
          -21.033885955810547,
          9.50865364074707,
          -28.888832092285156,
          14.526004791259766,
          -1.3928738832473755,
          -18.007070541381836,
          11.664586067199707,
          2.9392166137695312,
          -7.522696018218994,
          4.728394508361816,
          -2.7485201358795166,
          -16.403600692749023,
          1.4764689207077026,
          -5.78333044052124,
          2.369089126586914,
          5.743693828582764,
          -0.3235849142074585,
          -16.300161361694336,
          -25.47734260559082,
          19.287328720092773,
          15.604425430297852,
          23.539287567138672,
          4.19124174118042,
          -27.632394790649414,
          -3.81241512298584,
          3.304344892501831,
          12.185946464538574,
          4.589382171630859,
          19.089855194091797,
          -11.63296890258789,
          1.3170613050460815,
          -14.61107349395752,
          -1.7656766176223755,
          -17.805742263793945,
          1.3305234909057617,
          -1.1085468530654907,
          20.113168716430664,
          -5.684143543243408,
          7.691569805145264,
          15.166086196899414,
          -3.9308950901031494,
          1.338487982749939,
          17.75905418395996,
          10.474376678466797,
          -21.097408294677734,
          22.788759231567383,
          -14.900398254394531,
          -4.135777473449707,
          19.37583351135254,
          22.962886810302734,
          14.035572052001953,
          14.103389739990234,
          -11.650496482849121,
          2.460296154022217,
          12.201004028320312,
          -2.9236040115356445,
          11.652181625366211,
          -12.25083065032959,
          18.729820251464844,
          -3.879354476928711,
          1.7390658855438232,
          20.967613220214844,
          2.1760194301605225,
          4.477227687835693,
          2.9223673343658447,
          2.989065647125244,
          -10.439817428588867,
          -13.411802291870117,
          -15.437723159790039,
          -16.04998779296875,
          4.151037693023682,
          -9.189118385314941,
          -5.530508518218994,
          2.797295570373535,
          21.6180419921875,
          -7.733965873718262,
          -19.950145721435547,
          3.96868896484375,
          16.459880828857422,
          6.880276679992676,
          19.960590362548828,
          -4.480809688568115,
          -18.18101692199707,
          12.381487846374512,
          5.849533557891846,
          23.181682586669922,
          2.4224660396575928,
          14.461384773254395,
          6.0157928466796875,
          -7.348968505859375,
          -2.339869976043701,
          -18.121274948120117,
          -22.10048484802246,
          16.399810791015625,
          -8.318758964538574,
          3.9090185165405273,
          6.219338417053223,
          3.8656821250915527,
          10.224716186523438,
          -1.5006606578826904,
          1.5694549083709717,
          -15.695773124694824,
          -0.6260700821876526,
          6.961489677429199,
          -5.5226826667785645,
          0.17265988886356354,
          -13.585582733154297,
          6.929836273193359,
          5.106832981109619,
          4.155301570892334,
          9.263976097106934,
          26.390186309814453,
          15.49260139465332,
          21.407758712768555,
          -2.0001635551452637,
          -10.341339111328125,
          -9.843045234680176,
          27.559978485107422,
          -10.742807388305664,
          -0.38544920086860657,
          -8.606969833374023,
          -21.015541076660156,
          -17.811674118041992,
          -4.395122528076172,
          16.101343154907227,
          13.41238021850586,
          11.343355178833008,
          -6.119992256164551,
          9.607791900634766,
          7.491095542907715,
          -17.480224609375,
          -9.595358848571777,
          -23.940645217895508,
          7.910562992095947,
          -16.92823600769043,
          8.137073516845703,
          1.5740658044815063,
          -5.007072448730469,
          2.7866203784942627,
          14.77231502532959,
          29.944543838500977,
          17.887405395507812,
          21.478418350219727,
          14.22091293334961,
          -2.146239757537842,
          18.17864990234375,
          1.8856958150863647,
          27.36757469177246,
          -10.859798431396484,
          -5.744197368621826,
          -23.813962936401367,
          24.56998062133789,
          -5.091898441314697,
          15.260615348815918,
          22.93260955810547,
          -23.133296966552734,
          -17.108776092529297,
          -8.15125846862793,
          24.16191864013672,
          -10.9746732711792,
          -10.32829761505127,
          5.732723712921143,
          -2.994774103164673,
          3.63507080078125,
          18.42691421508789,
          3.3632736206054688,
          -0.6860765218734741,
          8.630005836486816,
          3.963327169418335,
          -3.4859209060668945,
          -12.359585762023926,
          -17.036184310913086,
          -4.312460422515869,
          25.12413787841797,
          -11.517410278320312,
          -2.4520909786224365,
          12.79922866821289,
          13.312273979187012,
          -7.977397441864014,
          13.979223251342773,
          -9.915853500366211,
          -5.854265213012695,
          -14.52250862121582,
          -24.32372283935547,
          -3.734175682067871,
          13.294951438903809,
          22.649913787841797,
          -0.2018473744392395,
          -10.150811195373535,
          -2.4050583839416504,
          8.083313941955566,
          -4.803092002868652,
          -22.537595748901367,
          8.732040405273438,
          -17.54851722717285,
          -17.654315948486328,
          18.57769775390625,
          10.414166450500488,
          -10.71702766418457,
          16.771129608154297,
          -8.619305610656738,
          -23.874055862426758,
          6.139106750488281,
          -9.663680076599121,
          -15.230918884277344,
          -15.393057823181152,
          13.693188667297363,
          -3.5926716327667236,
          3.068500280380249,
          -8.627161026000977,
          3.4367024898529053,
          -9.656118392944336,
          19.57013702392578,
          21.827661514282227,
          2.6423287391662598,
          -10.612645149230957,
          -27.979690551757812,
          5.351088047027588,
          -18.784706115722656,
          -20.88404655456543,
          26.07197380065918,
          22.029460906982422,
          -11.572509765625,
          -4.5788254737854,
          -13.272146224975586,
          -24.026084899902344,
          -23.246665954589844,
          8.507169723510742,
          -8.70124626159668,
          -11.20071029663086,
          11.768589973449707,
          -10.31399917602539,
          -5.002676010131836,
          -10.325404167175293,
          11.727399826049805,
          -1.8036450147628784,
          1.0223681926727295,
          9.327902793884277,
          -7.5118842124938965,
          -15.408541679382324,
          -0.8475441336631775,
          10.486339569091797,
          3.26450252532959,
          -1.5219335556030273,
          13.446414947509766,
          10.84184741973877,
          -3.849313974380493,
          -28.806499481201172,
          0.9229515194892883,
          13.456512451171875,
          0.2505083382129669,
          -2.8711252212524414,
          -0.01344489585608244,
          -2.145944356918335,
          -21.757028579711914,
          -19.12373924255371,
          9.330062866210938,
          25.258373260498047,
          -14.688775062561035,
          22.052547454833984,
          13.821416854858398,
          -17.493608474731445,
          9.869099617004395,
          -15.063274383544922,
          -23.600431442260742,
          -17.622570037841797,
          2.756645441055298,
          2.5371406078338623,
          -0.4771865904331207,
          -1.0440009832382202,
          -1.3392661809921265,
          17.666048049926758,
          4.688392639160156,
          -15.396568298339844,
          -2.124119520187378,
          0.8951845169067383,
          0.6041846871376038,
          3.141169309616089,
          -9.518367767333984,
          20.844871520996094,
          -3.2623727321624756,
          -2.8616745471954346,
          -13.711249351501465,
          8.308857917785645,
          -22.669410705566406,
          4.986994743347168,
          -20.277320861816406,
          -17.276710510253906,
          7.9176483154296875,
          17.686485290527344,
          15.131424903869629,
          6.437289237976074,
          -8.654019355773926,
          -10.974037170410156,
          5.287503719329834,
          -1.5349793434143066,
          0.16239528357982635,
          15.284608840942383,
          -11.909144401550293,
          15.339799880981445,
          -22.390504837036133,
          0.226129412651062,
          3.720707654953003,
          24.160371780395508,
          7.425103187561035,
          -13.268671989440918,
          13.187585830688477,
          10.885571479797363,
          -8.456441879272461,
          7.446773052215576,
          21.424213409423828,
          14.142354011535645,
          10.768052101135254,
          -4.385117053985596,
          6.8378448486328125,
          7.968006610870361,
          -19.967988967895508,
          22.895305633544922,
          -17.685888290405273,
          -11.55339527130127,
          -18.240034103393555,
          -23.546100616455078,
          -23.494136810302734,
          -1.102760672569275,
          -10.452672958374023,
          -7.7413434982299805,
          16.380064010620117,
          -11.528241157531738,
          6.413290977478027,
          -1.956667184829712,
          -15.908794403076172,
          -4.106383800506592,
          -11.962142944335938,
          -3.524200677871704,
          -18.833133697509766,
          22.81456756591797,
          -19.798389434814453,
          -1.7595787048339844,
          7.295820236206055,
          9.95785903930664,
          4.9720869064331055,
          -6.936948776245117,
          -2.3723883628845215,
          -2.751091480255127,
          12.25925350189209,
          1.7444151639938354,
          -8.63390827178955,
          4.476902484893799,
          -5.200181007385254,
          -17.19687843322754,
          -12.268444061279297,
          -4.693411350250244,
          -5.525802135467529,
          8.401954650878906,
          -20.595911026000977,
          -7.554492950439453,
          9.900805473327637,
          3.0005271434783936,
          -6.231743812561035,
          1.4342151880264282,
          -7.133747577667236,
          -7.799053192138672,
          2.8904004096984863,
          14.420676231384277,
          -12.214903831481934,
          0.7352784276008606,
          -6.879627227783203,
          14.118833541870117,
          -7.653947353363037,
          3.2447056770324707,
          8.908823013305664,
          -27.62544059753418,
          -11.892685890197754,
          -8.189652442932129,
          14.834734916687012,
          13.346914291381836,
          12.739973068237305,
          1.633571743965149,
          22.254045486450195,
          1.6931349039077759,
          -14.856178283691406,
          5.309849739074707,
          -12.894055366516113,
          -23.65849494934082,
          -8.140416145324707,
          -16.4976806640625,
          14.738658905029297,
          -12.751245498657227,
          -19.00450897216797,
          -16.43194007873535,
          4.458791732788086,
          15.92795181274414,
          -0.38458818197250366,
          -10.998834609985352,
          20.009286880493164,
          -0.6592086553573608,
          -24.620004653930664,
          9.616884231567383,
          12.522907257080078,
          -6.681777000427246,
          3.261840581893921,
          13.817343711853027,
          -7.685676097869873,
          -2.007500410079956,
          27.760387420654297,
          -20.715194702148438,
          3.023042917251587,
          25.922664642333984,
          -28.95767593383789,
          6.214420318603516,
          -11.010986328125,
          -4.286566734313965,
          23.962158203125,
          -12.928152084350586,
          -9.663830757141113,
          -0.3929324448108673,
          6.274857997894287,
          11.094382286071777,
          -1.7623709440231323,
          -8.601941108703613,
          13.227505683898926,
          4.606725215911865,
          14.87772274017334,
          -6.540014743804932,
          24.266036987304688,
          18.928237915039062,
          -11.450655937194824,
          -7.2051100730896,
          1.4336211681365967,
          -7.856461048126221,
          0.4917409420013428,
          5.148698329925537,
          -7.010537147521973,
          -7.266611576080322,
          -4.300727367401123,
          -7.103425025939941,
          -10.191474914550781,
          10.837773323059082,
          10.501626968383789,
          8.045082092285156,
          -12.604616165161133,
          5.924208641052246,
          0.060907721519470215,
          -11.082428932189941,
          20.752737045288086,
          -19.50652503967285,
          -25.547975540161133,
          20.51546287536621,
          -1.87671959400177,
          -17.552562713623047,
          20.66989517211914,
          -3.298210859298706,
          -6.373568058013916,
          23.903839111328125,
          10.741144180297852,
          3.153576374053955,
          7.619697093963623,
          2.727837085723877,
          11.91433048248291,
          20.73271942138672,
          27.105241775512695,
          -9.91128921508789,
          8.866439819335938,
          8.999821662902832,
          1.0232332944869995,
          3.405315637588501,
          4.349338531494141,
          -5.115234851837158,
          -18.2585391998291,
          -9.49942684173584,
          -26.48295021057129,
          2.992062568664551,
          12.511858940124512,
          -3.025815963745117,
          14.762442588806152,
          -9.740324020385742,
          7.807366847991943,
          -1.9230308532714844,
          2.7411208152770996,
          21.351377487182617,
          -23.566747665405273,
          13.133727073669434,
          10.272248268127441,
          -6.411259174346924,
          1.0587971210479736,
          -21.57906150817871,
          0.8735112547874451,
          4.952653408050537,
          -11.12845230102539,
          -19.416044235229492,
          12.027965545654297,
          16.82084083557129,
          4.162967681884766,
          -19.328689575195312,
          4.439211845397949,
          -25.45857048034668,
          8.409629821777344,
          -0.2577348053455353,
          -18.561580657958984,
          11.27303409576416,
          -5.088339805603027,
          -9.147173881530762,
          -4.175199508666992,
          11.872437477111816,
          -23.902009963989258,
          -1.0154014825820923,
          13.706770896911621,
          -6.9179606437683105,
          -2.7841637134552,
          -4.361633777618408,
          -22.520551681518555,
          -11.973087310791016,
          25.966222763061523,
          -1.5386695861816406,
          -4.735690593719482,
          -21.204837799072266,
          27.62099266052246
         ],
         "yaxis": "y"
        },
        {
         "customdata": [
          [
           "C:\\Users\\lucas\\OneDrive - Hochschule Düsseldorf\\Uni_Drive\\DIV2k\\DIV2K_valid_HR\\DIV2K_valid_HR\\0801.png"
          ],
          [
           "C:\\Users\\lucas\\OneDrive - Hochschule Düsseldorf\\Uni_Drive\\DIV2k\\DIV2K_valid_HR\\DIV2K_valid_HR\\0802.png"
          ],
          [
           "C:\\Users\\lucas\\OneDrive - Hochschule Düsseldorf\\Uni_Drive\\DIV2k\\DIV2K_valid_HR\\DIV2K_valid_HR\\0803.png"
          ],
          [
           "C:\\Users\\lucas\\OneDrive - Hochschule Düsseldorf\\Uni_Drive\\DIV2k\\DIV2K_valid_HR\\DIV2K_valid_HR\\0804.png"
          ],
          [
           "C:\\Users\\lucas\\OneDrive - Hochschule Düsseldorf\\Uni_Drive\\DIV2k\\DIV2K_valid_HR\\DIV2K_valid_HR\\0805.png"
          ],
          [
           "C:\\Users\\lucas\\OneDrive - Hochschule Düsseldorf\\Uni_Drive\\DIV2k\\DIV2K_valid_HR\\DIV2K_valid_HR\\0806.png"
          ],
          [
           "C:\\Users\\lucas\\OneDrive - Hochschule Düsseldorf\\Uni_Drive\\DIV2k\\DIV2K_valid_HR\\DIV2K_valid_HR\\0807.png"
          ],
          [
           "C:\\Users\\lucas\\OneDrive - Hochschule Düsseldorf\\Uni_Drive\\DIV2k\\DIV2K_valid_HR\\DIV2K_valid_HR\\0808.png"
          ],
          [
           "C:\\Users\\lucas\\OneDrive - Hochschule Düsseldorf\\Uni_Drive\\DIV2k\\DIV2K_valid_HR\\DIV2K_valid_HR\\0809.png"
          ],
          [
           "C:\\Users\\lucas\\OneDrive - Hochschule Düsseldorf\\Uni_Drive\\DIV2k\\DIV2K_valid_HR\\DIV2K_valid_HR\\0810.png"
          ],
          [
           "C:\\Users\\lucas\\OneDrive - Hochschule Düsseldorf\\Uni_Drive\\DIV2k\\DIV2K_valid_HR\\DIV2K_valid_HR\\0811.png"
          ],
          [
           "C:\\Users\\lucas\\OneDrive - Hochschule Düsseldorf\\Uni_Drive\\DIV2k\\DIV2K_valid_HR\\DIV2K_valid_HR\\0812.png"
          ],
          [
           "C:\\Users\\lucas\\OneDrive - Hochschule Düsseldorf\\Uni_Drive\\DIV2k\\DIV2K_valid_HR\\DIV2K_valid_HR\\0813.png"
          ],
          [
           "C:\\Users\\lucas\\OneDrive - Hochschule Düsseldorf\\Uni_Drive\\DIV2k\\DIV2K_valid_HR\\DIV2K_valid_HR\\0814.png"
          ],
          [
           "C:\\Users\\lucas\\OneDrive - Hochschule Düsseldorf\\Uni_Drive\\DIV2k\\DIV2K_valid_HR\\DIV2K_valid_HR\\0815.png"
          ],
          [
           "C:\\Users\\lucas\\OneDrive - Hochschule Düsseldorf\\Uni_Drive\\DIV2k\\DIV2K_valid_HR\\DIV2K_valid_HR\\0816.png"
          ],
          [
           "C:\\Users\\lucas\\OneDrive - Hochschule Düsseldorf\\Uni_Drive\\DIV2k\\DIV2K_valid_HR\\DIV2K_valid_HR\\0817.png"
          ],
          [
           "C:\\Users\\lucas\\OneDrive - Hochschule Düsseldorf\\Uni_Drive\\DIV2k\\DIV2K_valid_HR\\DIV2K_valid_HR\\0818.png"
          ],
          [
           "C:\\Users\\lucas\\OneDrive - Hochschule Düsseldorf\\Uni_Drive\\DIV2k\\DIV2K_valid_HR\\DIV2K_valid_HR\\0819.png"
          ],
          [
           "C:\\Users\\lucas\\OneDrive - Hochschule Düsseldorf\\Uni_Drive\\DIV2k\\DIV2K_valid_HR\\DIV2K_valid_HR\\0820.png"
          ],
          [
           "C:\\Users\\lucas\\OneDrive - Hochschule Düsseldorf\\Uni_Drive\\DIV2k\\DIV2K_valid_HR\\DIV2K_valid_HR\\0821.png"
          ],
          [
           "C:\\Users\\lucas\\OneDrive - Hochschule Düsseldorf\\Uni_Drive\\DIV2k\\DIV2K_valid_HR\\DIV2K_valid_HR\\0822.png"
          ],
          [
           "C:\\Users\\lucas\\OneDrive - Hochschule Düsseldorf\\Uni_Drive\\DIV2k\\DIV2K_valid_HR\\DIV2K_valid_HR\\0823.png"
          ],
          [
           "C:\\Users\\lucas\\OneDrive - Hochschule Düsseldorf\\Uni_Drive\\DIV2k\\DIV2K_valid_HR\\DIV2K_valid_HR\\0824.png"
          ],
          [
           "C:\\Users\\lucas\\OneDrive - Hochschule Düsseldorf\\Uni_Drive\\DIV2k\\DIV2K_valid_HR\\DIV2K_valid_HR\\0825.png"
          ],
          [
           "C:\\Users\\lucas\\OneDrive - Hochschule Düsseldorf\\Uni_Drive\\DIV2k\\DIV2K_valid_HR\\DIV2K_valid_HR\\0826.png"
          ],
          [
           "C:\\Users\\lucas\\OneDrive - Hochschule Düsseldorf\\Uni_Drive\\DIV2k\\DIV2K_valid_HR\\DIV2K_valid_HR\\0827.png"
          ],
          [
           "C:\\Users\\lucas\\OneDrive - Hochschule Düsseldorf\\Uni_Drive\\DIV2k\\DIV2K_valid_HR\\DIV2K_valid_HR\\0828.png"
          ],
          [
           "C:\\Users\\lucas\\OneDrive - Hochschule Düsseldorf\\Uni_Drive\\DIV2k\\DIV2K_valid_HR\\DIV2K_valid_HR\\0829.png"
          ],
          [
           "C:\\Users\\lucas\\OneDrive - Hochschule Düsseldorf\\Uni_Drive\\DIV2k\\DIV2K_valid_HR\\DIV2K_valid_HR\\0830.png"
          ],
          [
           "C:\\Users\\lucas\\OneDrive - Hochschule Düsseldorf\\Uni_Drive\\DIV2k\\DIV2K_valid_HR\\DIV2K_valid_HR\\0831.png"
          ],
          [
           "C:\\Users\\lucas\\OneDrive - Hochschule Düsseldorf\\Uni_Drive\\DIV2k\\DIV2K_valid_HR\\DIV2K_valid_HR\\0832.png"
          ],
          [
           "C:\\Users\\lucas\\OneDrive - Hochschule Düsseldorf\\Uni_Drive\\DIV2k\\DIV2K_valid_HR\\DIV2K_valid_HR\\0833.png"
          ],
          [
           "C:\\Users\\lucas\\OneDrive - Hochschule Düsseldorf\\Uni_Drive\\DIV2k\\DIV2K_valid_HR\\DIV2K_valid_HR\\0834.png"
          ],
          [
           "C:\\Users\\lucas\\OneDrive - Hochschule Düsseldorf\\Uni_Drive\\DIV2k\\DIV2K_valid_HR\\DIV2K_valid_HR\\0835.png"
          ],
          [
           "C:\\Users\\lucas\\OneDrive - Hochschule Düsseldorf\\Uni_Drive\\DIV2k\\DIV2K_valid_HR\\DIV2K_valid_HR\\0836.png"
          ],
          [
           "C:\\Users\\lucas\\OneDrive - Hochschule Düsseldorf\\Uni_Drive\\DIV2k\\DIV2K_valid_HR\\DIV2K_valid_HR\\0837.png"
          ],
          [
           "C:\\Users\\lucas\\OneDrive - Hochschule Düsseldorf\\Uni_Drive\\DIV2k\\DIV2K_valid_HR\\DIV2K_valid_HR\\0838.png"
          ],
          [
           "C:\\Users\\lucas\\OneDrive - Hochschule Düsseldorf\\Uni_Drive\\DIV2k\\DIV2K_valid_HR\\DIV2K_valid_HR\\0839.png"
          ],
          [
           "C:\\Users\\lucas\\OneDrive - Hochschule Düsseldorf\\Uni_Drive\\DIV2k\\DIV2K_valid_HR\\DIV2K_valid_HR\\0840.png"
          ],
          [
           "C:\\Users\\lucas\\OneDrive - Hochschule Düsseldorf\\Uni_Drive\\DIV2k\\DIV2K_valid_HR\\DIV2K_valid_HR\\0841.png"
          ],
          [
           "C:\\Users\\lucas\\OneDrive - Hochschule Düsseldorf\\Uni_Drive\\DIV2k\\DIV2K_valid_HR\\DIV2K_valid_HR\\0842.png"
          ],
          [
           "C:\\Users\\lucas\\OneDrive - Hochschule Düsseldorf\\Uni_Drive\\DIV2k\\DIV2K_valid_HR\\DIV2K_valid_HR\\0843.png"
          ],
          [
           "C:\\Users\\lucas\\OneDrive - Hochschule Düsseldorf\\Uni_Drive\\DIV2k\\DIV2K_valid_HR\\DIV2K_valid_HR\\0844.png"
          ],
          [
           "C:\\Users\\lucas\\OneDrive - Hochschule Düsseldorf\\Uni_Drive\\DIV2k\\DIV2K_valid_HR\\DIV2K_valid_HR\\0845.png"
          ],
          [
           "C:\\Users\\lucas\\OneDrive - Hochschule Düsseldorf\\Uni_Drive\\DIV2k\\DIV2K_valid_HR\\DIV2K_valid_HR\\0846.png"
          ],
          [
           "C:\\Users\\lucas\\OneDrive - Hochschule Düsseldorf\\Uni_Drive\\DIV2k\\DIV2K_valid_HR\\DIV2K_valid_HR\\0847.png"
          ],
          [
           "C:\\Users\\lucas\\OneDrive - Hochschule Düsseldorf\\Uni_Drive\\DIV2k\\DIV2K_valid_HR\\DIV2K_valid_HR\\0848.png"
          ],
          [
           "C:\\Users\\lucas\\OneDrive - Hochschule Düsseldorf\\Uni_Drive\\DIV2k\\DIV2K_valid_HR\\DIV2K_valid_HR\\0849.png"
          ],
          [
           "C:\\Users\\lucas\\OneDrive - Hochschule Düsseldorf\\Uni_Drive\\DIV2k\\DIV2K_valid_HR\\DIV2K_valid_HR\\0850.png"
          ],
          [
           "C:\\Users\\lucas\\OneDrive - Hochschule Düsseldorf\\Uni_Drive\\DIV2k\\DIV2K_valid_HR\\DIV2K_valid_HR\\0851.png"
          ],
          [
           "C:\\Users\\lucas\\OneDrive - Hochschule Düsseldorf\\Uni_Drive\\DIV2k\\DIV2K_valid_HR\\DIV2K_valid_HR\\0852.png"
          ],
          [
           "C:\\Users\\lucas\\OneDrive - Hochschule Düsseldorf\\Uni_Drive\\DIV2k\\DIV2K_valid_HR\\DIV2K_valid_HR\\0853.png"
          ],
          [
           "C:\\Users\\lucas\\OneDrive - Hochschule Düsseldorf\\Uni_Drive\\DIV2k\\DIV2K_valid_HR\\DIV2K_valid_HR\\0854.png"
          ],
          [
           "C:\\Users\\lucas\\OneDrive - Hochschule Düsseldorf\\Uni_Drive\\DIV2k\\DIV2K_valid_HR\\DIV2K_valid_HR\\0855.png"
          ],
          [
           "C:\\Users\\lucas\\OneDrive - Hochschule Düsseldorf\\Uni_Drive\\DIV2k\\DIV2K_valid_HR\\DIV2K_valid_HR\\0856.png"
          ],
          [
           "C:\\Users\\lucas\\OneDrive - Hochschule Düsseldorf\\Uni_Drive\\DIV2k\\DIV2K_valid_HR\\DIV2K_valid_HR\\0857.png"
          ],
          [
           "C:\\Users\\lucas\\OneDrive - Hochschule Düsseldorf\\Uni_Drive\\DIV2k\\DIV2K_valid_HR\\DIV2K_valid_HR\\0858.png"
          ],
          [
           "C:\\Users\\lucas\\OneDrive - Hochschule Düsseldorf\\Uni_Drive\\DIV2k\\DIV2K_valid_HR\\DIV2K_valid_HR\\0859.png"
          ],
          [
           "C:\\Users\\lucas\\OneDrive - Hochschule Düsseldorf\\Uni_Drive\\DIV2k\\DIV2K_valid_HR\\DIV2K_valid_HR\\0860.png"
          ],
          [
           "C:\\Users\\lucas\\OneDrive - Hochschule Düsseldorf\\Uni_Drive\\DIV2k\\DIV2K_valid_HR\\DIV2K_valid_HR\\0861.png"
          ],
          [
           "C:\\Users\\lucas\\OneDrive - Hochschule Düsseldorf\\Uni_Drive\\DIV2k\\DIV2K_valid_HR\\DIV2K_valid_HR\\0862.png"
          ],
          [
           "C:\\Users\\lucas\\OneDrive - Hochschule Düsseldorf\\Uni_Drive\\DIV2k\\DIV2K_valid_HR\\DIV2K_valid_HR\\0863.png"
          ],
          [
           "C:\\Users\\lucas\\OneDrive - Hochschule Düsseldorf\\Uni_Drive\\DIV2k\\DIV2K_valid_HR\\DIV2K_valid_HR\\0864.png"
          ],
          [
           "C:\\Users\\lucas\\OneDrive - Hochschule Düsseldorf\\Uni_Drive\\DIV2k\\DIV2K_valid_HR\\DIV2K_valid_HR\\0865.png"
          ],
          [
           "C:\\Users\\lucas\\OneDrive - Hochschule Düsseldorf\\Uni_Drive\\DIV2k\\DIV2K_valid_HR\\DIV2K_valid_HR\\0866.png"
          ],
          [
           "C:\\Users\\lucas\\OneDrive - Hochschule Düsseldorf\\Uni_Drive\\DIV2k\\DIV2K_valid_HR\\DIV2K_valid_HR\\0867.png"
          ],
          [
           "C:\\Users\\lucas\\OneDrive - Hochschule Düsseldorf\\Uni_Drive\\DIV2k\\DIV2K_valid_HR\\DIV2K_valid_HR\\0868.png"
          ],
          [
           "C:\\Users\\lucas\\OneDrive - Hochschule Düsseldorf\\Uni_Drive\\DIV2k\\DIV2K_valid_HR\\DIV2K_valid_HR\\0869.png"
          ],
          [
           "C:\\Users\\lucas\\OneDrive - Hochschule Düsseldorf\\Uni_Drive\\DIV2k\\DIV2K_valid_HR\\DIV2K_valid_HR\\0870.png"
          ],
          [
           "C:\\Users\\lucas\\OneDrive - Hochschule Düsseldorf\\Uni_Drive\\DIV2k\\DIV2K_valid_HR\\DIV2K_valid_HR\\0871.png"
          ],
          [
           "C:\\Users\\lucas\\OneDrive - Hochschule Düsseldorf\\Uni_Drive\\DIV2k\\DIV2K_valid_HR\\DIV2K_valid_HR\\0872.png"
          ],
          [
           "C:\\Users\\lucas\\OneDrive - Hochschule Düsseldorf\\Uni_Drive\\DIV2k\\DIV2K_valid_HR\\DIV2K_valid_HR\\0873.png"
          ],
          [
           "C:\\Users\\lucas\\OneDrive - Hochschule Düsseldorf\\Uni_Drive\\DIV2k\\DIV2K_valid_HR\\DIV2K_valid_HR\\0874.png"
          ],
          [
           "C:\\Users\\lucas\\OneDrive - Hochschule Düsseldorf\\Uni_Drive\\DIV2k\\DIV2K_valid_HR\\DIV2K_valid_HR\\0875.png"
          ],
          [
           "C:\\Users\\lucas\\OneDrive - Hochschule Düsseldorf\\Uni_Drive\\DIV2k\\DIV2K_valid_HR\\DIV2K_valid_HR\\0876.png"
          ],
          [
           "C:\\Users\\lucas\\OneDrive - Hochschule Düsseldorf\\Uni_Drive\\DIV2k\\DIV2K_valid_HR\\DIV2K_valid_HR\\0877.png"
          ],
          [
           "C:\\Users\\lucas\\OneDrive - Hochschule Düsseldorf\\Uni_Drive\\DIV2k\\DIV2K_valid_HR\\DIV2K_valid_HR\\0878.png"
          ],
          [
           "C:\\Users\\lucas\\OneDrive - Hochschule Düsseldorf\\Uni_Drive\\DIV2k\\DIV2K_valid_HR\\DIV2K_valid_HR\\0879.png"
          ],
          [
           "C:\\Users\\lucas\\OneDrive - Hochschule Düsseldorf\\Uni_Drive\\DIV2k\\DIV2K_valid_HR\\DIV2K_valid_HR\\0880.png"
          ],
          [
           "C:\\Users\\lucas\\OneDrive - Hochschule Düsseldorf\\Uni_Drive\\DIV2k\\DIV2K_valid_HR\\DIV2K_valid_HR\\0881.png"
          ],
          [
           "C:\\Users\\lucas\\OneDrive - Hochschule Düsseldorf\\Uni_Drive\\DIV2k\\DIV2K_valid_HR\\DIV2K_valid_HR\\0882.png"
          ],
          [
           "C:\\Users\\lucas\\OneDrive - Hochschule Düsseldorf\\Uni_Drive\\DIV2k\\DIV2K_valid_HR\\DIV2K_valid_HR\\0883.png"
          ],
          [
           "C:\\Users\\lucas\\OneDrive - Hochschule Düsseldorf\\Uni_Drive\\DIV2k\\DIV2K_valid_HR\\DIV2K_valid_HR\\0884.png"
          ],
          [
           "C:\\Users\\lucas\\OneDrive - Hochschule Düsseldorf\\Uni_Drive\\DIV2k\\DIV2K_valid_HR\\DIV2K_valid_HR\\0885.png"
          ],
          [
           "C:\\Users\\lucas\\OneDrive - Hochschule Düsseldorf\\Uni_Drive\\DIV2k\\DIV2K_valid_HR\\DIV2K_valid_HR\\0886.png"
          ],
          [
           "C:\\Users\\lucas\\OneDrive - Hochschule Düsseldorf\\Uni_Drive\\DIV2k\\DIV2K_valid_HR\\DIV2K_valid_HR\\0887.png"
          ],
          [
           "C:\\Users\\lucas\\OneDrive - Hochschule Düsseldorf\\Uni_Drive\\DIV2k\\DIV2K_valid_HR\\DIV2K_valid_HR\\0888.png"
          ],
          [
           "C:\\Users\\lucas\\OneDrive - Hochschule Düsseldorf\\Uni_Drive\\DIV2k\\DIV2K_valid_HR\\DIV2K_valid_HR\\0889.png"
          ],
          [
           "C:\\Users\\lucas\\OneDrive - Hochschule Düsseldorf\\Uni_Drive\\DIV2k\\DIV2K_valid_HR\\DIV2K_valid_HR\\0890.png"
          ],
          [
           "C:\\Users\\lucas\\OneDrive - Hochschule Düsseldorf\\Uni_Drive\\DIV2k\\DIV2K_valid_HR\\DIV2K_valid_HR\\0891.png"
          ],
          [
           "C:\\Users\\lucas\\OneDrive - Hochschule Düsseldorf\\Uni_Drive\\DIV2k\\DIV2K_valid_HR\\DIV2K_valid_HR\\0892.png"
          ],
          [
           "C:\\Users\\lucas\\OneDrive - Hochschule Düsseldorf\\Uni_Drive\\DIV2k\\DIV2K_valid_HR\\DIV2K_valid_HR\\0893.png"
          ],
          [
           "C:\\Users\\lucas\\OneDrive - Hochschule Düsseldorf\\Uni_Drive\\DIV2k\\DIV2K_valid_HR\\DIV2K_valid_HR\\0894.png"
          ],
          [
           "C:\\Users\\lucas\\OneDrive - Hochschule Düsseldorf\\Uni_Drive\\DIV2k\\DIV2K_valid_HR\\DIV2K_valid_HR\\0895.png"
          ],
          [
           "C:\\Users\\lucas\\OneDrive - Hochschule Düsseldorf\\Uni_Drive\\DIV2k\\DIV2K_valid_HR\\DIV2K_valid_HR\\0896.png"
          ],
          [
           "C:\\Users\\lucas\\OneDrive - Hochschule Düsseldorf\\Uni_Drive\\DIV2k\\DIV2K_valid_HR\\DIV2K_valid_HR\\0897.png"
          ],
          [
           "C:\\Users\\lucas\\OneDrive - Hochschule Düsseldorf\\Uni_Drive\\DIV2k\\DIV2K_valid_HR\\DIV2K_valid_HR\\0898.png"
          ],
          [
           "C:\\Users\\lucas\\OneDrive - Hochschule Düsseldorf\\Uni_Drive\\DIV2k\\DIV2K_valid_HR\\DIV2K_valid_HR\\0899.png"
          ],
          [
           "C:\\Users\\lucas\\OneDrive - Hochschule Düsseldorf\\Uni_Drive\\DIV2k\\DIV2K_valid_HR\\DIV2K_valid_HR\\0900.png"
          ]
         ],
         "hovertemplate": "Path: %{customdata[0]}<br>x: %{x}<br>y: %{y}",
         "legendgroup": "DIV2K_valid_HR",
         "marker": {
          "color": "#EF553B",
          "symbol": "circle"
         },
         "mode": "markers",
         "name": "DIV2K_valid_HR",
         "opacity": 0.7,
         "orientation": "v",
         "showlegend": true,
         "type": "scatter",
         "x": [
          -20.230884552001953,
          -31.993858337402344,
          -25.13118553161621,
          6.777634620666504,
          -17.699792861938477,
          4.770375728607178,
          5.034075736999512,
          7.933370590209961,
          -18.638469696044922,
          -16.96192741394043,
          9.0287446975708,
          24.393861770629883,
          -3.1217315196990967,
          10.300885200500488,
          -24.953521728515625,
          24.97005271911621,
          2.104790210723877,
          14.329962730407715,
          0.47611328959465027,
          24.130624771118164,
          3.463705062866211,
          -22.590139389038086,
          10.523204803466797,
          2.2820701599121094,
          14.470230102539062,
          15.124957084655762,
          -0.32250696420669556,
          27.693279266357422,
          -26.948925018310547,
          23.12530517578125,
          12.959939956665039,
          -4.829913139343262,
          -17.759172439575195,
          15.600690841674805,
          -1.6199997663497925,
          14.672292709350586,
          9.746864318847656,
          -13.183422088623047,
          -24.797962188720703,
          -31.380170822143555,
          24.2601261138916,
          -21.086660385131836,
          -30.926925659179688,
          -6.0028076171875,
          28.339366912841797,
          27.796266555786133,
          4.067363739013672,
          -16.76633071899414,
          -2.4845619201660156,
          18.15398597717285,
          12.744686126708984,
          0.5939328074455261,
          -24.680131912231445,
          17.68623924255371,
          -11.681058883666992,
          14.365769386291504,
          -37.05209732055664,
          -24.12563133239746,
          -13.050203323364258,
          -0.2852500081062317,
          18.769371032714844,
          -18.254365921020508,
          -22.99141502380371,
          23.807369232177734,
          19.221420288085938,
          -18.943201065063477,
          -4.008642673492432,
          16.90975570678711,
          -17.977466583251953,
          -11.373947143554688,
          -9.874237060546875,
          -21.221046447753906,
          28.779027938842773,
          25.434261322021484,
          28.998001098632812,
          11.787017822265625,
          -5.0610246658325195,
          28.579607009887695,
          20.043132781982422,
          -17.324743270874023,
          13.609441757202148,
          -28.921274185180664,
          14.548970222473145,
          23.431203842163086,
          17.15713119506836,
          -22.129362106323242,
          18.576730728149414,
          -3.9550483226776123,
          -23.335113525390625,
          22.921411514282227,
          15.289518356323242,
          -0.015514476224780083,
          -3.21152400970459,
          -5.476447582244873,
          -11.211519241333008,
          -13.328925132751465,
          32.543739318847656,
          -26.733755111694336,
          -2.9135329723358154,
          8.257600784301758
         ],
         "xaxis": "x",
         "y": [
          0.18633674085140228,
          -14.51580810546875,
          -8.603343963623047,
          -25.492084503173828,
          11.19609260559082,
          13.768592834472656,
          11.911972999572754,
          12.58848762512207,
          12.378204345703125,
          5.26751708984375,
          18.68874740600586,
          8.338407516479492,
          -16.220956802368164,
          -1.7729036808013916,
          -2.3615760803222656,
          12.073079109191895,
          -0.8316047191619873,
          2.499220371246338,
          -20.824981689453125,
          -16.780696868896484,
          7.823800563812256,
          4.061140060424805,
          16.376468658447266,
          -14.544013023376465,
          -21.926067352294922,
          -0.8324653506278992,
          -8.071637153625488,
          -13.320213317871094,
          3.5454015731811523,
          0.4658394455909729,
          -17.615175247192383,
          -20.732746124267578,
          -11.118515968322754,
          1.5779454708099365,
          18.92180824279785,
          -6.699323654174805,
          -18.815359115600586,
          -5.839881420135498,
          -1.1520909070968628,
          -4.387021064758301,
          -10.74521541595459,
          -1.6265783309936523,
          7.415196895599365,
          -13.981500625610352,
          -14.13772964477539,
          -15.272320747375488,
          -11.371350288391113,
          -17.913742065429688,
          14.878386497497559,
          -18.57135009765625,
          0.6710614562034607,
          18.578594207763672,
          -8.169358253479004,
          13.499505043029785,
          -9.914883613586426,
          21.939729690551758,
          11.91030502319336,
          -1.925844669342041,
          2.8928496837615967,
          -21.006113052368164,
          -12.059196472167969,
          7.294429302215576,
          13.775784492492676,
          4.9560546875,
          4.323664665222168,
          -3.880276679992676,
          3.4648125171661377,
          0.9621240496635437,
          5.916606426239014,
          3.2778494358062744,
          -24.788982391357422,
          -20.083091735839844,
          -8.517184257507324,
          11.214062690734863,
          0.45555102825164795,
          9.060755729675293,
          16.947494506835938,
          13.289468765258789,
          -0.24649399518966675,
          4.92599630355835,
          5.98179292678833,
          1.0511195659637451,
          11.165709495544434,
          -6.07043981552124,
          14.996444702148438,
          -4.323970317840576,
          5.384166240692139,
          -16.897546768188477,
          -18.87548065185547,
          2.407677412033081,
          -4.989457130432129,
          6.559814929962158,
          -5.487058162689209,
          -13.561744689941406,
          4.003884792327881,
          -2.4539175033569336,
          -0.2973273694515228,
          -9.050682067871094,
          12.639610290527344,
          -15.63537311553955
         ],
         "yaxis": "y"
        }
       ],
       "layout": {
        "height": 800,
        "legend": {
         "title": {
          "text": "category"
         },
         "tracegroupgap": 0
        },
        "margin": {
         "t": 60
        },
        "template": {
         "data": {
          "bar": [
           {
            "error_x": {
             "color": "#2a3f5f"
            },
            "error_y": {
             "color": "#2a3f5f"
            },
            "marker": {
             "line": {
              "color": "#E5ECF6",
              "width": 0.5
             },
             "pattern": {
              "fillmode": "overlay",
              "size": 10,
              "solidity": 0.2
             }
            },
            "type": "bar"
           }
          ],
          "barpolar": [
           {
            "marker": {
             "line": {
              "color": "#E5ECF6",
              "width": 0.5
             },
             "pattern": {
              "fillmode": "overlay",
              "size": 10,
              "solidity": 0.2
             }
            },
            "type": "barpolar"
           }
          ],
          "carpet": [
           {
            "aaxis": {
             "endlinecolor": "#2a3f5f",
             "gridcolor": "white",
             "linecolor": "white",
             "minorgridcolor": "white",
             "startlinecolor": "#2a3f5f"
            },
            "baxis": {
             "endlinecolor": "#2a3f5f",
             "gridcolor": "white",
             "linecolor": "white",
             "minorgridcolor": "white",
             "startlinecolor": "#2a3f5f"
            },
            "type": "carpet"
           }
          ],
          "choropleth": [
           {
            "colorbar": {
             "outlinewidth": 0,
             "ticks": ""
            },
            "type": "choropleth"
           }
          ],
          "contour": [
           {
            "colorbar": {
             "outlinewidth": 0,
             "ticks": ""
            },
            "colorscale": [
             [
              0,
              "#0d0887"
             ],
             [
              0.1111111111111111,
              "#46039f"
             ],
             [
              0.2222222222222222,
              "#7201a8"
             ],
             [
              0.3333333333333333,
              "#9c179e"
             ],
             [
              0.4444444444444444,
              "#bd3786"
             ],
             [
              0.5555555555555556,
              "#d8576b"
             ],
             [
              0.6666666666666666,
              "#ed7953"
             ],
             [
              0.7777777777777778,
              "#fb9f3a"
             ],
             [
              0.8888888888888888,
              "#fdca26"
             ],
             [
              1,
              "#f0f921"
             ]
            ],
            "type": "contour"
           }
          ],
          "contourcarpet": [
           {
            "colorbar": {
             "outlinewidth": 0,
             "ticks": ""
            },
            "type": "contourcarpet"
           }
          ],
          "heatmap": [
           {
            "colorbar": {
             "outlinewidth": 0,
             "ticks": ""
            },
            "colorscale": [
             [
              0,
              "#0d0887"
             ],
             [
              0.1111111111111111,
              "#46039f"
             ],
             [
              0.2222222222222222,
              "#7201a8"
             ],
             [
              0.3333333333333333,
              "#9c179e"
             ],
             [
              0.4444444444444444,
              "#bd3786"
             ],
             [
              0.5555555555555556,
              "#d8576b"
             ],
             [
              0.6666666666666666,
              "#ed7953"
             ],
             [
              0.7777777777777778,
              "#fb9f3a"
             ],
             [
              0.8888888888888888,
              "#fdca26"
             ],
             [
              1,
              "#f0f921"
             ]
            ],
            "type": "heatmap"
           }
          ],
          "heatmapgl": [
           {
            "colorbar": {
             "outlinewidth": 0,
             "ticks": ""
            },
            "colorscale": [
             [
              0,
              "#0d0887"
             ],
             [
              0.1111111111111111,
              "#46039f"
             ],
             [
              0.2222222222222222,
              "#7201a8"
             ],
             [
              0.3333333333333333,
              "#9c179e"
             ],
             [
              0.4444444444444444,
              "#bd3786"
             ],
             [
              0.5555555555555556,
              "#d8576b"
             ],
             [
              0.6666666666666666,
              "#ed7953"
             ],
             [
              0.7777777777777778,
              "#fb9f3a"
             ],
             [
              0.8888888888888888,
              "#fdca26"
             ],
             [
              1,
              "#f0f921"
             ]
            ],
            "type": "heatmapgl"
           }
          ],
          "histogram": [
           {
            "marker": {
             "pattern": {
              "fillmode": "overlay",
              "size": 10,
              "solidity": 0.2
             }
            },
            "type": "histogram"
           }
          ],
          "histogram2d": [
           {
            "colorbar": {
             "outlinewidth": 0,
             "ticks": ""
            },
            "colorscale": [
             [
              0,
              "#0d0887"
             ],
             [
              0.1111111111111111,
              "#46039f"
             ],
             [
              0.2222222222222222,
              "#7201a8"
             ],
             [
              0.3333333333333333,
              "#9c179e"
             ],
             [
              0.4444444444444444,
              "#bd3786"
             ],
             [
              0.5555555555555556,
              "#d8576b"
             ],
             [
              0.6666666666666666,
              "#ed7953"
             ],
             [
              0.7777777777777778,
              "#fb9f3a"
             ],
             [
              0.8888888888888888,
              "#fdca26"
             ],
             [
              1,
              "#f0f921"
             ]
            ],
            "type": "histogram2d"
           }
          ],
          "histogram2dcontour": [
           {
            "colorbar": {
             "outlinewidth": 0,
             "ticks": ""
            },
            "colorscale": [
             [
              0,
              "#0d0887"
             ],
             [
              0.1111111111111111,
              "#46039f"
             ],
             [
              0.2222222222222222,
              "#7201a8"
             ],
             [
              0.3333333333333333,
              "#9c179e"
             ],
             [
              0.4444444444444444,
              "#bd3786"
             ],
             [
              0.5555555555555556,
              "#d8576b"
             ],
             [
              0.6666666666666666,
              "#ed7953"
             ],
             [
              0.7777777777777778,
              "#fb9f3a"
             ],
             [
              0.8888888888888888,
              "#fdca26"
             ],
             [
              1,
              "#f0f921"
             ]
            ],
            "type": "histogram2dcontour"
           }
          ],
          "mesh3d": [
           {
            "colorbar": {
             "outlinewidth": 0,
             "ticks": ""
            },
            "type": "mesh3d"
           }
          ],
          "parcoords": [
           {
            "line": {
             "colorbar": {
              "outlinewidth": 0,
              "ticks": ""
             }
            },
            "type": "parcoords"
           }
          ],
          "pie": [
           {
            "automargin": true,
            "type": "pie"
           }
          ],
          "scatter": [
           {
            "fillpattern": {
             "fillmode": "overlay",
             "size": 10,
             "solidity": 0.2
            },
            "type": "scatter"
           }
          ],
          "scatter3d": [
           {
            "line": {
             "colorbar": {
              "outlinewidth": 0,
              "ticks": ""
             }
            },
            "marker": {
             "colorbar": {
              "outlinewidth": 0,
              "ticks": ""
             }
            },
            "type": "scatter3d"
           }
          ],
          "scattercarpet": [
           {
            "marker": {
             "colorbar": {
              "outlinewidth": 0,
              "ticks": ""
             }
            },
            "type": "scattercarpet"
           }
          ],
          "scattergeo": [
           {
            "marker": {
             "colorbar": {
              "outlinewidth": 0,
              "ticks": ""
             }
            },
            "type": "scattergeo"
           }
          ],
          "scattergl": [
           {
            "marker": {
             "colorbar": {
              "outlinewidth": 0,
              "ticks": ""
             }
            },
            "type": "scattergl"
           }
          ],
          "scattermapbox": [
           {
            "marker": {
             "colorbar": {
              "outlinewidth": 0,
              "ticks": ""
             }
            },
            "type": "scattermapbox"
           }
          ],
          "scatterpolar": [
           {
            "marker": {
             "colorbar": {
              "outlinewidth": 0,
              "ticks": ""
             }
            },
            "type": "scatterpolar"
           }
          ],
          "scatterpolargl": [
           {
            "marker": {
             "colorbar": {
              "outlinewidth": 0,
              "ticks": ""
             }
            },
            "type": "scatterpolargl"
           }
          ],
          "scatterternary": [
           {
            "marker": {
             "colorbar": {
              "outlinewidth": 0,
              "ticks": ""
             }
            },
            "type": "scatterternary"
           }
          ],
          "surface": [
           {
            "colorbar": {
             "outlinewidth": 0,
             "ticks": ""
            },
            "colorscale": [
             [
              0,
              "#0d0887"
             ],
             [
              0.1111111111111111,
              "#46039f"
             ],
             [
              0.2222222222222222,
              "#7201a8"
             ],
             [
              0.3333333333333333,
              "#9c179e"
             ],
             [
              0.4444444444444444,
              "#bd3786"
             ],
             [
              0.5555555555555556,
              "#d8576b"
             ],
             [
              0.6666666666666666,
              "#ed7953"
             ],
             [
              0.7777777777777778,
              "#fb9f3a"
             ],
             [
              0.8888888888888888,
              "#fdca26"
             ],
             [
              1,
              "#f0f921"
             ]
            ],
            "type": "surface"
           }
          ],
          "table": [
           {
            "cells": {
             "fill": {
              "color": "#EBF0F8"
             },
             "line": {
              "color": "white"
             }
            },
            "header": {
             "fill": {
              "color": "#C8D4E3"
             },
             "line": {
              "color": "white"
             }
            },
            "type": "table"
           }
          ]
         },
         "layout": {
          "annotationdefaults": {
           "arrowcolor": "#2a3f5f",
           "arrowhead": 0,
           "arrowwidth": 1
          },
          "autotypenumbers": "strict",
          "coloraxis": {
           "colorbar": {
            "outlinewidth": 0,
            "ticks": ""
           }
          },
          "colorscale": {
           "diverging": [
            [
             0,
             "#8e0152"
            ],
            [
             0.1,
             "#c51b7d"
            ],
            [
             0.2,
             "#de77ae"
            ],
            [
             0.3,
             "#f1b6da"
            ],
            [
             0.4,
             "#fde0ef"
            ],
            [
             0.5,
             "#f7f7f7"
            ],
            [
             0.6,
             "#e6f5d0"
            ],
            [
             0.7,
             "#b8e186"
            ],
            [
             0.8,
             "#7fbc41"
            ],
            [
             0.9,
             "#4d9221"
            ],
            [
             1,
             "#276419"
            ]
           ],
           "sequential": [
            [
             0,
             "#0d0887"
            ],
            [
             0.1111111111111111,
             "#46039f"
            ],
            [
             0.2222222222222222,
             "#7201a8"
            ],
            [
             0.3333333333333333,
             "#9c179e"
            ],
            [
             0.4444444444444444,
             "#bd3786"
            ],
            [
             0.5555555555555556,
             "#d8576b"
            ],
            [
             0.6666666666666666,
             "#ed7953"
            ],
            [
             0.7777777777777778,
             "#fb9f3a"
            ],
            [
             0.8888888888888888,
             "#fdca26"
            ],
            [
             1,
             "#f0f921"
            ]
           ],
           "sequentialminus": [
            [
             0,
             "#0d0887"
            ],
            [
             0.1111111111111111,
             "#46039f"
            ],
            [
             0.2222222222222222,
             "#7201a8"
            ],
            [
             0.3333333333333333,
             "#9c179e"
            ],
            [
             0.4444444444444444,
             "#bd3786"
            ],
            [
             0.5555555555555556,
             "#d8576b"
            ],
            [
             0.6666666666666666,
             "#ed7953"
            ],
            [
             0.7777777777777778,
             "#fb9f3a"
            ],
            [
             0.8888888888888888,
             "#fdca26"
            ],
            [
             1,
             "#f0f921"
            ]
           ]
          },
          "colorway": [
           "#636efa",
           "#EF553B",
           "#00cc96",
           "#ab63fa",
           "#FFA15A",
           "#19d3f3",
           "#FF6692",
           "#B6E880",
           "#FF97FF",
           "#FECB52"
          ],
          "font": {
           "color": "#2a3f5f"
          },
          "geo": {
           "bgcolor": "white",
           "lakecolor": "white",
           "landcolor": "#E5ECF6",
           "showlakes": true,
           "showland": true,
           "subunitcolor": "white"
          },
          "hoverlabel": {
           "align": "left"
          },
          "hovermode": "closest",
          "mapbox": {
           "style": "light"
          },
          "paper_bgcolor": "white",
          "plot_bgcolor": "#E5ECF6",
          "polar": {
           "angularaxis": {
            "gridcolor": "white",
            "linecolor": "white",
            "ticks": ""
           },
           "bgcolor": "#E5ECF6",
           "radialaxis": {
            "gridcolor": "white",
            "linecolor": "white",
            "ticks": ""
           }
          },
          "scene": {
           "xaxis": {
            "backgroundcolor": "#E5ECF6",
            "gridcolor": "white",
            "gridwidth": 2,
            "linecolor": "white",
            "showbackground": true,
            "ticks": "",
            "zerolinecolor": "white"
           },
           "yaxis": {
            "backgroundcolor": "#E5ECF6",
            "gridcolor": "white",
            "gridwidth": 2,
            "linecolor": "white",
            "showbackground": true,
            "ticks": "",
            "zerolinecolor": "white"
           },
           "zaxis": {
            "backgroundcolor": "#E5ECF6",
            "gridcolor": "white",
            "gridwidth": 2,
            "linecolor": "white",
            "showbackground": true,
            "ticks": "",
            "zerolinecolor": "white"
           }
          },
          "shapedefaults": {
           "line": {
            "color": "#2a3f5f"
           }
          },
          "ternary": {
           "aaxis": {
            "gridcolor": "white",
            "linecolor": "white",
            "ticks": ""
           },
           "baxis": {
            "gridcolor": "white",
            "linecolor": "white",
            "ticks": ""
           },
           "bgcolor": "#E5ECF6",
           "caxis": {
            "gridcolor": "white",
            "linecolor": "white",
            "ticks": ""
           }
          },
          "title": {
           "x": 0.05
          },
          "xaxis": {
           "automargin": true,
           "gridcolor": "white",
           "linecolor": "white",
           "ticks": "",
           "title": {
            "standoff": 15
           },
           "zerolinecolor": "white",
           "zerolinewidth": 2
          },
          "yaxis": {
           "automargin": true,
           "gridcolor": "white",
           "linecolor": "white",
           "ticks": "",
           "title": {
            "standoff": 15
           },
           "zerolinecolor": "white",
           "zerolinewidth": 2
          }
         }
        },
        "title": {
         "text": "t-SNE Visualization of Image Embeddings"
        },
        "width": 1200,
        "xaxis": {
         "anchor": "y",
         "domain": [
          0,
          1
         ],
         "title": {
          "text": "Dimension 1"
         }
        },
        "yaxis": {
         "anchor": "x",
         "domain": [
          0,
          1
         ],
         "title": {
          "text": "Dimension 2"
         }
        }
       }
      }
     },
     "metadata": {},
     "output_type": "display_data"
    }
   ],
   "source": [
    "# Create the interactive plot\n",
    "fig = px.scatter(\n",
    "    df, \n",
    "    x='x', \n",
    "    y='y', \n",
    "    color='category',\n",
    "    hover_data={'path': True, 'x': False, 'y': False}\n",
    ")\n",
    "\n",
    "# Add hover template to show path, x, and y coordinates\n",
    "fig.update_traces(\n",
    "    hovertemplate=\"<br>\".join([\n",
    "        \"Path: %{customdata[0]}\",\n",
    "        \"x: %{x}\",\n",
    "        \"y: %{y}\"\n",
    "    ]),\n",
    "    opacity = 0.7 # alpha value \n",
    ")\n",
    "\n",
    "fig.update_layout(\n",
    "    title='t-SNE Visualization of Image Embeddings',\n",
    "    xaxis_title='Dimension 1',\n",
    "    yaxis_title='Dimension 2',\n",
    "    width=1200,\n",
    "    height=800\n",
    ")\n",
    "\n",
    "fig.show()"
   ]
  }
 ],
 "metadata": {
  "kernelspec": {
   "display_name": "big_data",
   "language": "python",
   "name": "python3"
  },
  "language_info": {
   "codemirror_mode": {
    "name": "ipython",
    "version": 3
   },
   "file_extension": ".py",
   "mimetype": "text/x-python",
   "name": "python",
   "nbconvert_exporter": "python",
   "pygments_lexer": "ipython3",
   "version": "3.10.14"
  }
 },
 "nbformat": 4,
 "nbformat_minor": 2
}
