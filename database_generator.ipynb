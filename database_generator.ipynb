{
 "cells": [
  {
   "cell_type": "markdown",
   "metadata": {},
   "source": [
    "# Database Generator"
   ]
  },
  {
   "cell_type": "code",
   "execution_count": 1,
   "metadata": {},
   "outputs": [],
   "source": [
    "\n",
    "# necessary imports\n",
    "import os\n",
    "import sqlite3\n",
    "from PIL import Image, ImageCms\n",
    "from tqdm import tqdm\n",
    "import numpy as np\n",
    "\n",
    "\n",
    "\n",
    "\n",
    "icms = ImageCms"
   ]
  },
  {
   "cell_type": "markdown",
   "metadata": {},
   "source": [
    "## Fundaments"
   ]
  },
  {
   "cell_type": "markdown",
   "metadata": {},
   "source": [
    "We set up two global variables: database_name, which defines the name of the SQLite database file as \"database_all_images.db\", and root_folder, which specifies the directory containing the image files, set to \"D:/data/image_data\".\n",
    "\n",
    "To begin the database creation process, the script establishes a connection to the SQLite database using ```sqlite3.connect(database_name)```. A cursor object is created to execute SQL commands. The script then ensures that a table named Images exists in the database by executing a SQL command to create the table if it does not already exist. This table is structured with three primary fields:\n",
    "-  ```ID```, which is an integer serving as the primary key; \n",
    "- ```Name```, which stores the name of the image file as text; \n",
    "- ```Path```, which records the file path to the image as text;\n",
    "- ```Size```, which stores the size of the image file in bytes as an integer."
   ]
  },
  {
   "cell_type": "code",
   "execution_count": 2,
   "metadata": {},
   "outputs": [],
   "source": [
    "# creating a database using sql lite\n",
    "database_name = \"database_all_images.db\"\n",
    "root_folder = r\"D:/data/image_data\"\n",
    "\n",
    "conn = sqlite3.connect(database_name)\n",
    "c = conn.cursor()\n",
    "c.execute('''CREATE TABLE IF NOT EXISTS Images\n",
    "                 (ID INTEGER PRIMARY KEY,\n",
    "                 Name TEXT,\n",
    "                 Path TEXT,\n",
    "                 Size INTEGER\n",
    "                 )''')\n",
    "conn.commit()\n",
    "\n"
   ]
  },
  {
   "cell_type": "markdown",
   "metadata": {},
   "source": [
    "## Necessary Functions"
   ]
  },
  {
   "cell_type": "markdown",
   "metadata": {},
   "source": [
    "Following the database initialization, we define a function named ```traverse_folders()``` that recursively traverses the directories under the specified root folder. This function examines each file found within the directories and checks whether its extension matches common image formats such as .jpg, .jpeg, .png, or .tiff. \n",
    "\n",
    "For each image file that matches the criteria, the function retrieves the file path using ```os.path.join```, determines the file size with os.path.getsize, and attempts to open the image using ```Image.open(file_path)```.\n",
    "\n",
    "If successful, the function yields a tuple containing the file’s name, path, and size, along with a progress percentage calculated based on the total number of files in the directory. If the script encounters any exceptions during this process, such as if the file cannot be opened as an image, it gracefully handles the error by printing a message that details the issue."
   ]
  },
  {
   "cell_type": "code",
   "execution_count": 1,
   "metadata": {},
   "outputs": [],
   "source": [
    "def traverse_folders(root_folder):\n",
    "    \"\"\"\n",
    "    This function is designed to traverse through a directory structure, locate image files of specific formats, and yield useful information about each file, such as its name, path, and size. \n",
    "    \n",
    "    Input: \n",
    "    - root_folder: This is the root directory from which the function begins its traversal. It is a string representing the path to the folder where the search starts.\n",
    "\n",
    "    Output:\n",
    "    - The function does not return a single output but instead uses a generator (yield) to provide results incrementally. For each valid image file, it yields:\n",
    "        - A tuple consisting of:\n",
    "            1) The file name (file).\n",
    "            2) The full file path (file_path).\n",
    "            3) The file size in bytes (file_size).\n",
    "            4) The progress percentage as a floating-point number, representing how far along the function is in processing the files within the current directory.\n",
    "    \n",
    "    \"\"\"\n",
    "    for root, dirs, files in os.walk(root_folder):\n",
    "        total_files = len(files)\n",
    "        for i, file in enumerate(files, 1):\n",
    "            if file.endswith(('.jpg', '.jpeg', '.png', '.tiff')):  # list all the formats\n",
    "                file_path = os.path.join(root, file)  # get file path\n",
    "                try:\n",
    "                    file_size = os.path.getsize(file_path)  # get file size\n",
    "                    image = Image.open(file_path)\n",
    "                    yield (file, file_path, file_size), i / total_files * 100\n",
    "                except Exception as e:\n",
    "                    # Catch any other exceptions and log if needed\n",
    "                    print(f\"Unexpected error with file {file_path}: {e}\")\n",
    "            else:\n",
    "                pass\n"
   ]
  },
  {
   "cell_type": "markdown",
   "metadata": {},
   "source": [
    "Also, we  Includes a function called ```insert_into_database()```, which is responsible for inserting records into the Images table within the database. This function accepts the database name and the data tuple (containing the file name, path, and size) as inputs. \n",
    "\n",
    "It then connects to the database, executes an SQL command to insert the data into the Images table, and commits the changes."
   ]
  },
  {
   "cell_type": "code",
   "execution_count": 3,
   "metadata": {},
   "outputs": [],
   "source": [
    "\n",
    "\n",
    "# Function to insert data into the database\n",
    "def insert_into_database(database_name, data):\n",
    "    \"\"\"\n",
    "    This function is designed to insert a single record into an SQLite database. \n",
    "    The record contains information about an image, specifically its name, file path, and size. This function facilitates the storage of image metadata in a database for later retrieval or analysis.\n",
    "\n",
    "    Input:\n",
    "    - database_name: A string representing the name (or path) of the SQLite database file. If the database file does not exist, SQLite will create it.\n",
    "    - data: A tuple containing three elements:\n",
    "        1) Name: A string representing the name of the image.\n",
    "        2) Path: A string representing the full file path to the image.\n",
    "        3) Size: An integer representing the size of the image file in bytes.\n",
    "    \"\"\"\n",
    "    \n",
    "    conn = sqlite3.connect(database_name)\n",
    "    c = conn.cursor()\n",
    "    c.execute(\"INSERT INTO Images (Name, Path, Size) VALUES (?, ?, ?)\", data)\n",
    "    conn.commit()\n"
   ]
  },
  {
   "cell_type": "markdown",
   "metadata": {},
   "source": [
    "## Create the database"
   ]
  },
  {
   "cell_type": "markdown",
   "metadata": {},
   "source": [
    "FinallyAs, we iterate over the image data yielded by ```traverse_folders()```, it calls the ```insert_into_database()``` function for each image to add its information to the database. Once all images have been processed and inserted, the script prints a final message indicating that the database creation and data insertion process has been successfully completed."
   ]
  },
  {
   "cell_type": "code",
   "execution_count": null,
   "metadata": {},
   "outputs": [],
   "source": [
    "\n",
    "for data, progress in tqdm(traverse_folders(root_folder), total=500000, desc=\"Processing images\", unit=\"%\"):\n",
    "    insert_into_database(database_name, data)\n",
    "\n",
    "print(\"Database creation and data insertion completed.\")"
   ]
  }
 ],
 "metadata": {
  "kernelspec": {
   "display_name": "big_data",
   "language": "python",
   "name": "python3"
  },
  "language_info": {
   "codemirror_mode": {
    "name": "ipython",
    "version": 3
   },
   "file_extension": ".py",
   "mimetype": "text/x-python",
   "name": "python",
   "nbconvert_exporter": "python",
   "pygments_lexer": "ipython3",
   "version": "3.10.13"
  }
 },
 "nbformat": 4,
 "nbformat_minor": 2
}
