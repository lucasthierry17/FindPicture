{
 "cells": [
  {
   "cell_type": "code",
   "execution_count": 1,
   "metadata": {},
   "outputs": [
    {
     "name": "stdout",
     "output_type": "stream",
     "text": [
      "\u001b[1m1/1\u001b[0m \u001b[32m━━━━━━━━━━━━━━━━━━━━\u001b[0m\u001b[37m\u001b[0m \u001b[1m2s\u001b[0m 2s/step\n",
      "Failed to load the image. Please check the file path.\n",
      "D:/data/image_data\\weather_image_recognition\\dew\\2208.jpg\n",
      "D:/data/image_data\\weather_image_recognition\\dew\\2209.jpg\n",
      "D:/data/image_data\\weather_image_recognition\\dew\\2210.jpg\n",
      "D:/data/image_data\\weather_image_recognition\\dew\\2211.jpg\n",
      "D:/data/image_data\\weather_image_recognition\\dew\\2212.jpg\n",
      "D:/data/image_data\\weather_image_recognition\\dew\\2213.jpg\n",
      "D:/data/image_data\\weather_image_recognition\\dew\\2214.jpg\n",
      "D:/data/image_data\\weather_image_recognition\\dew\\2215.jpg\n",
      "D:/data/image_data\\weather_image_recognition\\dew\\2216.jpg\n",
      "D:/data/image_data\\weather_image_recognition\\dew\\2217.jpg\n"
     ]
    }
   ],
   "source": [
    "import numpy as np\n",
    "import sqlite3\n",
    "import pickle\n",
    "import cv2\n",
    "from sklearn.metrics.pairwise import cosine_similarity\n",
    "from sklearn.metrics import pairwise_distances\n",
    "from tensorflow.keras.applications.resnet50 import ResNet50, preprocess_input\n",
    "from tensorflow.keras.models import Model\n",
    "from sklearn.neighbors import NearestNeighbors\n",
    "\n",
    "\n",
    "\n",
    "import embedding_resnet_final\n",
    "import histograms_commented\n"
   ]
  },
  {
   "cell_type": "markdown",
   "metadata": {},
   "source": [
    "## Connect to the database and save all paths"
   ]
  },
  {
   "cell_type": "code",
   "execution_count": 2,
   "metadata": {},
   "outputs": [],
   "source": [
    "database_name = \"database_all_images.db\"\n",
    "root_folder = r\"D:/data/image_data\"\n",
    "\n",
    "conn = sqlite3.connect(database_name)\n",
    "c = conn.cursor()\n",
    "conn.commit()\n"
   ]
  },
  {
   "cell_type": "code",
   "execution_count": 3,
   "metadata": {},
   "outputs": [
    {
     "name": "stdout",
     "output_type": "stream",
     "text": [
      "D:/data/image_data\\weather_image_recognition\\dew\\2208.jpg\n",
      "D:/data/image_data\\weather_image_recognition\\dew\\2209.jpg\n",
      "D:/data/image_data\\weather_image_recognition\\dew\\2210.jpg\n",
      "D:/data/image_data\\weather_image_recognition\\dew\\2211.jpg\n",
      "D:/data/image_data\\weather_image_recognition\\dew\\2212.jpg\n",
      "D:/data/image_data\\weather_image_recognition\\dew\\2213.jpg\n",
      "D:/data/image_data\\weather_image_recognition\\dew\\2214.jpg\n",
      "D:/data/image_data\\weather_image_recognition\\dew\\2215.jpg\n",
      "D:/data/image_data\\weather_image_recognition\\dew\\2216.jpg\n",
      "D:/data/image_data\\weather_image_recognition\\dew\\2217.jpg\n"
     ]
    }
   ],
   "source": [
    "c.execute(\"SELECT Path FROM Images\")\n",
    "\n",
    "# Fetch all results\n",
    "paths_tuples = c.fetchall()  # This will be a list of tuples\n",
    "\n",
    "# Convert list of tuples to a list of strings\n",
    "database_image_paths = [path[0] for path in paths_tuples]  # Extract the first element of each tuple\n",
    "\n",
    "# Verify the paths\n",
    "for path in database_image_paths[:10]:  # Print the first 10 paths for verification\n",
    "    print(path)"
   ]
  },
  {
   "cell_type": "code",
   "execution_count": 4,
   "metadata": {},
   "outputs": [],
   "source": [
    "# Load the ResNet50 model pre-trained on ImageNet (taktes around 2 sec)\n",
    "base_model = ResNet50(weights='imagenet')\n",
    "model = Model(inputs=base_model.input, outputs=base_model.get_layer('avg_pool').output)"
   ]
  },
  {
   "cell_type": "code",
   "execution_count": 5,
   "metadata": {},
   "outputs": [],
   "source": [
    "# Load embeddings and histograms from pickle files\n",
    "with open('embeddings_all.pkl', 'rb') as f:\n",
    "    embeddings = pickle.load(f)\n",
    "\n",
    "histograms = histograms_commented.load_histograms_from_file(\"histograms_all_images_0608.pkl\")\n"
   ]
  },
  {
   "cell_type": "code",
   "execution_count": 6,
   "metadata": {},
   "outputs": [],
   "source": [
    "\n",
    "\n",
    "#todo\n",
    "def find_similar_images(input_img_path, model, embeddings, image_paths, histograms, top_n_embeddings=1000, top_n_histograms=5):\n",
    "    # Step 1: Find similar images based on embeddings\n",
    "    input_embedding = embedding_resnet_final.extract_embedding(input_img_path, model)(input_img_path, model)\n",
    "    if input_embedding is None:\n",
    "        print(f\"Failed to extract embedding for input image: {input_img_path}\")\n",
    "        return []\n",
    "\n",
    "    similarities = cosine_similarity([input_embedding], embeddings)[0]\n",
    "    indices = np.argsort(similarities)[::-1][:top_n_embeddings]  # top N closest images based on embeddings\n",
    "    closest_image_paths = [image_paths[i] for i in indices]\n",
    "\n",
    "    # Extract histograms for the closest images\n",
    "    closest_histograms = [histograms[i] for i in indices]\n",
    "\n",
    "    # Extract histogram for the input image\n",
    "    input_histogram = histograms_commented.calculate_histogram(input_img_path, \"HSV\")\n",
    "\n",
    "    # Step 2: Find similar images based on histograms among the closest ones\n",
    "    if input_histogram is None:\n",
    "        print(f\"Failed to extract histogram for input image: {input_img_path}\")\n",
    "        return []\n",
    "\n",
    "    histogram_similarities = pairwise_distances([input_histogram], closest_histograms, metric='euclidean')[0]\n",
    "    histogram_indices = np.argsort(histogram_similarities)[:top_n_histograms]\n",
    "\n",
    "    similar_images = [(closest_image_paths[i], histogram_similarities[i]) for i in histogram_indices]\n",
    "    \n",
    "    return similar_images\n",
    "\n"
   ]
  },
  {
   "cell_type": "code",
   "execution_count": 7,
   "metadata": {},
   "outputs": [],
   "source": [
    "def find_similar_images(input_img_path, model, embeddings, image_paths, histograms, top_n_embeddings=1000, top_n_histograms=5):\n",
    "    # Step 1: Find similar images based on embeddings\n",
    "    input_embedding = embedding_resnet_final.extract_embedding(input_img_path, model)\n",
    "    if input_embedding is None:\n",
    "        print(f\"Failed to extract embedding for input image: {input_img_path}\")\n",
    "        return []\n",
    "    \n",
    "    similarities = cosine_similarity([input_embedding], embeddings)[0]\n",
    "    indices = np.argsort(similarities)[::-1][:top_n_embeddings]  # top N closest images based on embeddings\n",
    "    closest_image_paths = [image_paths[i] for i in indices]\n",
    "    print(f\"Embedding Similarities Calculated\")\n",
    "    # Extract histograms for the closest images\n",
    "    closest_histograms = [histograms[path] for path in closest_image_paths if path in histograms]\n",
    "   \n",
    "    # Load the input image\n",
    "    input_image = cv2.imread(input_img_path)\n",
    "    if input_image is None:\n",
    "        print(f\"Failed to load input image: {input_img_path}\")\n",
    "        return []\n",
    "\n",
    "    # Extract histogram for the input image\n",
    "    input_histogram = histograms_commented.calculate_histogram(input_image, \"HSV\")\n",
    "\n",
    "    # Step 2: Find similar images based on histograms among the closest ones\n",
    "    if input_histogram is None:\n",
    "        print(f\"Failed to extract histogram for input image: {input_img_path}\")\n",
    "        return []\n",
    "    print(\"Calculating Distances...\")\n",
    "    histogram_similarities = pairwise_distances([input_histogram], closest_histograms, metric='euclidean')[0]\n",
    "    histogram_similarities = histogram_similarities / np.max(histogram_similarities)\n",
    "    print(f\"histograms Similarities Calculated\")\n",
    "    histogram_indices = np.argsort(histogram_similarities)[:top_n_histograms]\n",
    "    similar_images = [(closest_image_paths[i], histogram_similarities[i]) for i in histogram_indices]\n",
    "    \n",
    "    return similar_images"
   ]
  },
  {
   "cell_type": "code",
   "execution_count": 26,
   "metadata": {},
   "outputs": [],
   "source": [
    "def find_similar_images(input_img_path, model, embeddings, image_paths, histograms, top_n_embeddings=1000, top_n_histograms=5):\n",
    "    \"\"\"\n",
    "    This function finds images in the database that are most similar to the input image based on a combination of embeddings and histograms.\n",
    "\n",
    "    Input:\n",
    "    - input_img_path: The file path of the input image.\n",
    "    - model: The model used to extract embeddings.\n",
    "    - embeddings: A NumPy array containing the embeddings of all images in the database.\n",
    "    - image_paths: A list of paths to the images corresponding to the embeddings.\n",
    "    - histograms: A dictionary where keys are image paths and values are the corresponding histograms.\n",
    "    - top_n_embeddings: Number of top similar images to select based on embeddings (default is 1000).\n",
    "    - top_n_histograms: Number of top similar images to select based on histograms (default is 5).\n",
    "\n",
    "    Output:\n",
    "    - A list of tuples where each tuple contains an image path and the corresponding similarity score.\n",
    "      The list is ordered by similarity, with the most similar image first.\n",
    "    \"\"\"\n",
    "    # Step 1: Find similar images based on embeddings\n",
    "    input_embedding = embedding_resnet_final.extract_embedding(input_img_path, model)\n",
    "    if input_embedding is None:\n",
    "        print(f\"Failed to extract embedding for input image: {input_img_path}\")\n",
    "        return []\n",
    "    \n",
    "    # Use Nearest Neighbors for efficient similarity search based on embeddings\n",
    "    nbrs_embeddings = NearestNeighbors(n_neighbors=len(embeddings), algorithm='auto', metric='euclidean').fit(embeddings)\n",
    "    distances_embeddings, indices_embeddings = nbrs_embeddings.kneighbors([input_embedding])\n",
    "\n",
    "    # Select the top N closest images based on normalized embedding distances\n",
    "    closest_indices = indices_embeddings[0][:top_n_embeddings]\n",
    "    closest_image_paths = [image_paths[i] for i in closest_indices]\n",
    "    closest_histograms = [histograms[image_paths[i]] for i in closest_indices if image_paths[i] in histograms]\n",
    "\n",
    "    print(f\"Top {top_n_embeddings} embeddings Similarities Calculated\")\n",
    "\n",
    "    # Load the input image\n",
    "    input_image = cv2.imread(input_img_path)\n",
    "    if input_image is None:\n",
    "        print(f\"Failed to load input image: {input_img_path}\")\n",
    "        return []\n",
    "\n",
    "    # Extract histogram for the input image\n",
    "    input_histogram = histograms_commented.calculate_histogram(input_image, \"HSV\")\n",
    "    if input_histogram is None:\n",
    "        print(f\"Failed to extract histogram for input image: {input_img_path}\")\n",
    "        return []\n",
    "\n",
    "    # Step 2: Find similar images based on histograms among the top embedding matches\n",
    "    nbrs_histograms = NearestNeighbors(n_neighbors=top_n_embeddings, algorithm='auto', metric='euclidean').fit(closest_histograms)\n",
    "    distances_histograms, indices_histograms = nbrs_histograms.kneighbors([input_histogram])\n",
    "\n",
    "    distances_histograms = distances_histograms / np.max(distances_histograms)\n",
    "\n",
    "    print(f\"Top {top_n_histograms} histograms Similarities Calculated\")\n",
    "\n",
    "    # Retrieve the top N similar images based on histogram similarity\n",
    "    similar_images = [(closest_image_paths[indices_histograms[0][i]], distances_histograms[0][i]) for i in range(top_n_histograms)]\n",
    "    \n",
    "    return similar_images"
   ]
  },
  {
   "cell_type": "code",
   "execution_count": 31,
   "metadata": {},
   "outputs": [
    {
     "name": "stdout",
     "output_type": "stream",
     "text": [
      "\u001b[1m1/1\u001b[0m \u001b[32m━━━━━━━━━━━━━━━━━━━━\u001b[0m\u001b[37m\u001b[0m \u001b[1m0s\u001b[0m 103ms/step\n"
     ]
    },
    {
     "ename": "IndexError",
     "evalue": "list index out of range",
     "output_type": "error",
     "traceback": [
      "\u001b[1;31m---------------------------------------------------------------------------\u001b[0m",
      "\u001b[1;31mIndexError\u001b[0m                                Traceback (most recent call last)",
      "Cell \u001b[1;32mIn[31], line 2\u001b[0m\n\u001b[0;32m      1\u001b[0m input_img_path \u001b[38;5;241m=\u001b[39m \u001b[38;5;124m\"\u001b[39m\u001b[38;5;124mimages/0473.png\u001b[39m\u001b[38;5;124m\"\u001b[39m\n\u001b[1;32m----> 2\u001b[0m similar_images \u001b[38;5;241m=\u001b[39m \u001b[43mfind_similar_images\u001b[49m\u001b[43m(\u001b[49m\u001b[43minput_img_path\u001b[49m\u001b[43m,\u001b[49m\u001b[43m \u001b[49m\u001b[43mmodel\u001b[49m\u001b[43m,\u001b[49m\u001b[43m \u001b[49m\u001b[43membeddings\u001b[49m\u001b[43m,\u001b[49m\u001b[43m \u001b[49m\u001b[43mdatabase_image_paths\u001b[49m\u001b[43m,\u001b[49m\u001b[43m \u001b[49m\u001b[43mhistograms\u001b[49m\u001b[43m)\u001b[49m\n\u001b[0;32m      3\u001b[0m \u001b[38;5;66;03m#print(\"Plotting now similar images...\")\u001b[39;00m\n\u001b[0;32m      4\u001b[0m \u001b[38;5;28mprint\u001b[39m(similar_images)\n",
      "Cell \u001b[1;32mIn[26], line 35\u001b[0m, in \u001b[0;36mfind_similar_images\u001b[1;34m(input_img_path, model, embeddings, image_paths, histograms, top_n_embeddings, top_n_histograms)\u001b[0m\n\u001b[0;32m     33\u001b[0m \u001b[38;5;66;03m# Select the top N closest images based on normalized embedding distances\u001b[39;00m\n\u001b[0;32m     34\u001b[0m closest_indices \u001b[38;5;241m=\u001b[39m indices_embeddings[\u001b[38;5;241m0\u001b[39m][:top_n_embeddings]\n\u001b[1;32m---> 35\u001b[0m closest_image_paths \u001b[38;5;241m=\u001b[39m [image_paths[i] \u001b[38;5;28;01mfor\u001b[39;00m i \u001b[38;5;129;01min\u001b[39;00m closest_indices]\n\u001b[0;32m     36\u001b[0m closest_histograms \u001b[38;5;241m=\u001b[39m [histograms[image_paths[i]] \u001b[38;5;28;01mfor\u001b[39;00m i \u001b[38;5;129;01min\u001b[39;00m closest_indices \u001b[38;5;28;01mif\u001b[39;00m image_paths[i] \u001b[38;5;129;01min\u001b[39;00m histograms]\n\u001b[0;32m     38\u001b[0m \u001b[38;5;28mprint\u001b[39m(\u001b[38;5;124mf\u001b[39m\u001b[38;5;124m\"\u001b[39m\u001b[38;5;124mTop \u001b[39m\u001b[38;5;132;01m{\u001b[39;00mtop_n_embeddings\u001b[38;5;132;01m}\u001b[39;00m\u001b[38;5;124m embeddings Similarities Calculated\u001b[39m\u001b[38;5;124m\"\u001b[39m)\n",
      "Cell \u001b[1;32mIn[26], line 35\u001b[0m, in \u001b[0;36m<listcomp>\u001b[1;34m(.0)\u001b[0m\n\u001b[0;32m     33\u001b[0m \u001b[38;5;66;03m# Select the top N closest images based on normalized embedding distances\u001b[39;00m\n\u001b[0;32m     34\u001b[0m closest_indices \u001b[38;5;241m=\u001b[39m indices_embeddings[\u001b[38;5;241m0\u001b[39m][:top_n_embeddings]\n\u001b[1;32m---> 35\u001b[0m closest_image_paths \u001b[38;5;241m=\u001b[39m [\u001b[43mimage_paths\u001b[49m\u001b[43m[\u001b[49m\u001b[43mi\u001b[49m\u001b[43m]\u001b[49m \u001b[38;5;28;01mfor\u001b[39;00m i \u001b[38;5;129;01min\u001b[39;00m closest_indices]\n\u001b[0;32m     36\u001b[0m closest_histograms \u001b[38;5;241m=\u001b[39m [histograms[image_paths[i]] \u001b[38;5;28;01mfor\u001b[39;00m i \u001b[38;5;129;01min\u001b[39;00m closest_indices \u001b[38;5;28;01mif\u001b[39;00m image_paths[i] \u001b[38;5;129;01min\u001b[39;00m histograms]\n\u001b[0;32m     38\u001b[0m \u001b[38;5;28mprint\u001b[39m(\u001b[38;5;124mf\u001b[39m\u001b[38;5;124m\"\u001b[39m\u001b[38;5;124mTop \u001b[39m\u001b[38;5;132;01m{\u001b[39;00mtop_n_embeddings\u001b[38;5;132;01m}\u001b[39;00m\u001b[38;5;124m embeddings Similarities Calculated\u001b[39m\u001b[38;5;124m\"\u001b[39m)\n",
      "\u001b[1;31mIndexError\u001b[0m: list index out of range"
     ]
    }
   ],
   "source": [
    "\n",
    "input_img_path = \"images/0473.png\"\n",
    "similar_images = find_similar_images(input_img_path, model, embeddings, database_image_paths, histograms)\n",
    "#print(\"Plotting now similar images...\")\n",
    "print(similar_images)\n",
    "#\n",
    "histograms_commented.display_images(input_img_path, similar_images)"
   ]
  },
  {
   "cell_type": "code",
   "execution_count": null,
   "metadata": {},
   "outputs": [],
   "source": []
  }
 ],
 "metadata": {
  "kernelspec": {
   "display_name": "big_data",
   "language": "python",
   "name": "python3"
  },
  "language_info": {
   "codemirror_mode": {
    "name": "ipython",
    "version": 3
   },
   "file_extension": ".py",
   "mimetype": "text/x-python",
   "name": "python",
   "nbconvert_exporter": "python",
   "pygments_lexer": "ipython3",
   "version": "3.10.13"
  }
 },
 "nbformat": 4,
 "nbformat_minor": 2
}
