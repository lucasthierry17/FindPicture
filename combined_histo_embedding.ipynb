{
 "cells": [
  {
   "cell_type": "code",
   "execution_count": 4,
   "metadata": {},
   "outputs": [],
   "source": [
    "import numpy as np\n",
    "import pickle\n",
    "from sklearn.metrics.pairwise import cosine_similarity\n",
    "from sklearn.metrics import pairwise_distances\n",
    "from tensorflow.keras.applications.resnet50 import ResNet50, preprocess_input\n",
    "from tensorflow.keras.models import Model\n",
    "\n",
    "\n",
    "import runtime_embedding_resnet\n",
    "#from xyz import extract_histogram"
   ]
  },
  {
   "cell_type": "code",
   "execution_count": 5,
   "metadata": {},
   "outputs": [],
   "source": [
    "# Load the ResNet50 model pre-trained on ImageNet (taktes around 2 sec)\n",
    "base_model = ResNet50(weights='imagenet')\n",
    "model = Model(inputs=base_model.input, outputs=base_model.get_layer('avg_pool').output)"
   ]
  },
  {
   "cell_type": "code",
   "execution_count": null,
   "metadata": {},
   "outputs": [],
   "source": [
    "# Load embeddings and histograms from pickle files\n",
    "with open('embeddings.pkl', 'rb') as f:\n",
    "    embeddings = pickle.load(f)\n",
    "\n",
    "with open('histograms.pkl', 'rb') as f:\n",
    "    histograms = pickle.load(f)\n",
    "\n",
    "\n",
    "#todo\n",
    "\n",
    "def extract_histogram(image_path):\n",
    "    # Dummy function, replace with your actual histogram extraction code\n",
    "    pass\n",
    "\n",
    "#todo\n",
    "\n",
    "def find_similar_images(input_img_path, model, embeddings, image_paths, histograms, top_n_embeddings=1000, top_n_histograms=5):\n",
    "    # Step 1: Find similar images based on embeddings\n",
    "    input_embedding = runtime_embedding_resnet.extract_embedding(image_path, model)(input_img_path, model)\n",
    "    if input_embedding is None:\n",
    "        print(f\"Failed to extract embedding for input image: {input_img_path}\")\n",
    "        return []\n",
    "\n",
    "    similarities = cosine_similarity([input_embedding], embeddings)[0]\n",
    "    indices = np.argsort(similarities)[::-1][:top_n_embeddings]  # top N closest images based on embeddings\n",
    "    closest_image_paths = [image_paths[i] for i in indices]\n",
    "\n",
    "    # Extract histograms for the closest images\n",
    "    closest_histograms = [histograms[i] for i in indices]\n",
    "\n",
    "    # Extract histogram for the input image\n",
    "    input_histogram = extract_histogram(input_img_path)\n",
    "\n",
    "    # Step 2: Find similar images based on histograms among the closest ones\n",
    "    if input_histogram is None:\n",
    "        print(f\"Failed to extract histogram for input image: {input_img_path}\")\n",
    "        return []\n",
    "\n",
    "    histogram_similarities = pairwise_distances([input_histogram], closest_histograms, metric='euclidean')[0]\n",
    "    histogram_indices = np.argsort(histogram_similarities)[:top_n_histograms]\n",
    "\n",
    "    similar_images = [(closest_image_paths[i], histogram_similarities[i]) for i in histogram_indices]\n",
    "    \n",
    "    return similar_images\n",
    "\n",
    "\n",
    "\n",
    "input_img_path = 'path/to/query/image.jpg'\n",
    "similar_images = find_similar_images(input_img_path, model, embeddings, image_paths, histograms)\n",
    "print(similar_images)\n"
   ]
  }
 ],
 "metadata": {
  "kernelspec": {
   "display_name": "big_data",
   "language": "python",
   "name": "python3"
  },
  "language_info": {
   "codemirror_mode": {
    "name": "ipython",
    "version": 3
   },
   "file_extension": ".py",
   "mimetype": "text/x-python",
   "name": "python",
   "nbconvert_exporter": "python",
   "pygments_lexer": "ipython3",
   "version": "3.10.14"
  }
 },
 "nbformat": 4,
 "nbformat_minor": 2
}
