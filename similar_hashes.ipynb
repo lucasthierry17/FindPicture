{
 "cells": [
  {
   "cell_type": "markdown",
   "metadata": {},
   "source": [
    "## Perceptual Hashing\n",
    "\n",
    "### What is Perceptual Hashing?\n",
    "\n",
    "Perceptual Hashing is a technique used to generate a hash value that represents the perceptual content of an image. These hashes are designed to be robust against minor modifications and variations in images, making it a useful technique for comparing images and finding similar ones.\n",
    "\n",
    "### How Does Perceptual Hashing Work?\n",
    "\n",
    "1. **Image Preprocessing**: The image is converted to grayscale and resized to a smaller, fixed size to normalize and simplify the content.\n",
    "2. **Feature Extraction**: Various features are extracted from the image.\n",
    "3. **Hash Calculation**: These features are then used to calculate a hash value. The hashing algorithm is designed in such a way that similar images produce similar hash values. There are different hash algorithms; we are using the perceptual hashing algorithm.\n",
    "    - **3.1** The image is resized and applied to a discrete cosine transform (DCT).\n",
    "    - **3.2** The top-left 8x8 block of the DCT coefficients (excluding the DC coefficient) is selected.\n",
    "    - **3.3** The median value of these coefficients is calculated.\n",
    "    - **3.4** The hash is generated based on whether each coefficient is above or below the median.\n"
   ]
  },
  {
   "cell_type": "code",
   "execution_count": 2,
   "metadata": {},
   "outputs": [],
   "source": [
    "import os\n",
    "import numpy as np\n",
    "import pickle\n",
    "from tqdm import tqdm\n",
    "from PIL import Image\n",
    "import imagehash\n",
    "from dask.diagnostics import ProgressBar"
   ]
  },
  {
   "cell_type": "code",
   "execution_count": 3,
   "metadata": {},
   "outputs": [],
   "source": [
    "# Function to get all image paths in a folder\n",
    "def get_image_paths(main_folder):\n",
    "    image_paths = []\n",
    "    for root, _, files in os.walk(main_folder):\n",
    "        for file in files:\n",
    "            if file.lower().endswith(('.jpg', '.jpeg', '.png')):\n",
    "                full_path = os.path.join(root, file)\n",
    "                image_paths.append(full_path)\n",
    "    return image_paths\n",
    "\n",
    "# Compute hash for an image\n",
    "def compute_image_hash(image_path, hash_func=imagehash.phash): # using perceputal hashing\n",
    "    try:\n",
    "        img = Image.open(image_path)\n",
    "        img_hash = hash_func(img)\n",
    "        return img_hash\n",
    "    except Exception as e:\n",
    "        print(f\"Error processing {image_path}: {e}\")\n",
    "        return None\n",
    "\n",
    "# Precompute hashes for all images in the directory\n",
    "def precompute_hashes(main_folder, hashes_path, hash_func=imagehash.phash):\n",
    "    image_paths = get_image_paths(main_folder)\n",
    "    hashes = []\n",
    "    valid_image_paths = []\n",
    "\n",
    "    for img_path in tqdm(image_paths, desc=\"Computing image hashes\"):\n",
    "        img_hash = compute_image_hash(img_path, hash_func)\n",
    "        if img_hash is not None:\n",
    "            hashes.append(img_hash)\n",
    "            valid_image_paths.append(img_path)\n",
    "\n",
    "    with open(hashes_path, 'wb') as f:\n",
    "        pickle.dump((valid_image_paths, hashes), f)\n",
    "\n",
    "# Find similar images using hash comparison\n",
    "def find_similar_images_hash(input_img_path, hashes_path, top_n=5, hash_func=imagehash.phash):\n",
    "    # Load precomputed hashes\n",
    "    with open(hashes_path, 'rb') as f:\n",
    "        image_paths, hashes = pickle.load(f)\n",
    "\n",
    "    # Compute hash for the input image\n",
    "    input_hash = compute_image_hash(input_img_path, hash_func)\n",
    "    if input_hash is None:\n",
    "        print(f\"Failed to compute hash for input image: {input_img_path}\")\n",
    "        return []\n",
    "\n",
    "    # Compute distances between input hash and precomputed hashes\n",
    "    distances = [input_hash - h for h in hashes]\n",
    "    indices = np.argsort(distances)[:top_n]\n",
    "    similar_images = [(image_paths[i], distances[i]) for i in indices]\n",
    "\n",
    "    return similar_images\n",
    "\n",
    "# Load embeddings and image paths\n",
    "def load_embeddings_and_paths(hashes_path, image_paths_path):\n",
    "    with open(hashes_path, 'rb') as f:\n",
    "        hashes = pickle.load(f)\n",
    "    with open(image_paths_path, 'rb') as f:\n",
    "        image_paths = pickle.load(f)\n",
    "    return hashes, image_paths\n"
   ]
  },
  {
   "cell_type": "code",
   "execution_count": 4,
   "metadata": {},
   "outputs": [
    {
     "name": "stderr",
     "output_type": "stream",
     "text": [
      "Computing image hashes:   0%|          | 1/902 [00:00<04:23,  3.42it/s]"
     ]
    },
    {
     "name": "stdout",
     "output_type": "stream",
     "text": [
      "Error processing C:\\Users\\lucas\\OneDrive - Hochschule Düsseldorf\\Uni_Drive\\DIV2k\\DIV2K_train_HR\\DIV2K_train_HR\\._0008.png: cannot identify image file 'C:\\\\Users\\\\lucas\\\\OneDrive - Hochschule Düsseldorf\\\\Uni_Drive\\\\DIV2k\\\\DIV2K_train_HR\\\\DIV2K_train_HR\\\\._0008.png'\n"
     ]
    },
    {
     "name": "stderr",
     "output_type": "stream",
     "text": [
      "Computing image hashes: 100%|██████████| 902/902 [01:26<00:00, 10.46it/s]\n"
     ]
    }
   ],
   "source": [
    "# Example usage\n",
    "main_folder = \"C:\\\\Users\\\\lucas\\\\OneDrive - Hochschule Düsseldorf\\\\Uni_Drive\\\\DIV2k\"\n",
    "hashes_path = 'image_hashes.pkl'\n",
    "image_paths_path = 'image_paths.pkl'\n",
    "\n",
    "\n",
    "if not os.path.exists(hashes_path) or not os.path.exists(image_paths_path):\n",
    "    image_paths = get_image_paths(main_folder)\n",
    "    with ProgressBar():\n",
    "        precompute_hashes(main_folder, hashes_path)\n",
    "     \n",
    "else:\n",
    "    embeddings, valid_image_paths = load_embeddings_and_paths(hashes_path, image_paths_path)\n",
    "\n",
    "# time to execute this cell: 100 sec\n",
    "\n"
   ]
  },
  {
   "cell_type": "code",
   "execution_count": 5,
   "metadata": {},
   "outputs": [
    {
     "name": "stdout",
     "output_type": "stream",
     "text": [
      "Image: C:\\Users\\lucas\\OneDrive - Hochschule Düsseldorf\\Uni_Drive\\DIV2k\\DIV2K_train_HR\\DIV2K_train_HR\\0212.png, Distance: 18\n",
      "Image: C:\\Users\\lucas\\OneDrive - Hochschule Düsseldorf\\Uni_Drive\\DIV2k\\DIV2K_train_HR\\DIV2K_train_HR\\0130.png, Distance: 20\n",
      "Image: C:\\Users\\lucas\\OneDrive - Hochschule Düsseldorf\\Uni_Drive\\DIV2k\\DIV2K_train_HR\\DIV2K_train_HR\\0266.png, Distance: 20\n",
      "Image: C:\\Users\\lucas\\OneDrive - Hochschule Düsseldorf\\Uni_Drive\\DIV2k\\DIV2K_train_HR\\DIV2K_train_HR\\0144.png, Distance: 20\n",
      "Image: C:\\Users\\lucas\\OneDrive - Hochschule Düsseldorf\\Uni_Drive\\DIV2k\\DIV2K_train_HR\\DIV2K_train_HR\\0300.png, Distance: 20\n"
     ]
    }
   ],
   "source": [
    "# This cell only gives back the paths and does not open the images\n",
    "input_img_path = \"C:\\\\Users\\\\lucas\\\\Downloads\\\\Gewitter.jpg\" # change for new input image\n",
    "input_image = Image.open(input_img_path) # Display the input image\n",
    "input_image.show()\n",
    "\n",
    "results = {}\n",
    "\n",
    "similar_images = find_similar_images_hash(input_img_path, hashes_path)\n",
    "for img_path, distance in similar_images:\n",
    "    print(f\"Image: {img_path}, Distance: {distance}\") # gives back paths to top n images"
   ]
  },
  {
   "cell_type": "code",
   "execution_count": 8,
   "metadata": {},
   "outputs": [
    {
     "data": {
      "text/plain": [
       "('C:\\\\Users\\\\lucas\\\\OneDrive - Hochschule Düsseldorf\\\\Uni_Drive\\\\DIV2k\\\\DIV2K_train_HR\\\\DIV2K_train_HR\\\\0300.png',\n",
       " 20)"
      ]
     },
     "execution_count": 8,
     "metadata": {},
     "output_type": "execute_result"
    }
   ],
   "source": [
    "# This code works, but gives me back whatever as images, I am going to try and improve this. \n",
    "similar_images"
   ]
  }
 ],
 "metadata": {
  "kernelspec": {
   "display_name": "big_data",
   "language": "python",
   "name": "python3"
  },
  "language_info": {
   "codemirror_mode": {
    "name": "ipython",
    "version": 3
   },
   "file_extension": ".py",
   "mimetype": "text/x-python",
   "name": "python",
   "nbconvert_exporter": "python",
   "pygments_lexer": "ipython3",
   "version": "3.10.14"
  }
 },
 "nbformat": 4,
 "nbformat_minor": 2
}
